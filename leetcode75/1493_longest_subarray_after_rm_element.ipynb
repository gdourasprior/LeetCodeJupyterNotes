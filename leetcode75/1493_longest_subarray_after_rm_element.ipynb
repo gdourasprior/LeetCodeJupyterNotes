{
 "cells": [
  {
   "cell_type": "markdown",
   "id": "3df51a72-bbec-48ed-b3e5-2479ac73bc5e",
   "metadata": {},
   "source": [
    "### The Problem:"
   ]
  },
  {
   "cell_type": "markdown",
   "id": "0143ac4f-2aad-450c-9b0a-05e8756889b8",
   "metadata": {},
   "source": [
    "The problem can be found [**here**](https://leetcode.com/problems/longest-subarray-of-1s-after-deleting-one-element/description/?envType=study-plan-v2&envId=leetcode-75)."
   ]
  },
  {
   "cell_type": "markdown",
   "id": "8dcb4eb0-224a-403b-9f0e-43473431a911",
   "metadata": {},
   "source": [
    "### My Code:"
   ]
  },
  {
   "cell_type": "markdown",
   "id": "46b0def3-fe00-43ef-a5d0-716184a45b7c",
   "metadata": {},
   "source": [
    "#### Initial Solution"
   ]
  },
  {
   "cell_type": "code",
   "execution_count": 1,
   "id": "250b14fe-447a-4f2a-8668-3c5a48878e9a",
   "metadata": {},
   "outputs": [],
   "source": [
    "def longest_subarray(nums: list[int]) -> int:\n",
    "    \"\"\"Find the longest subarray of 1s, after an element is deleted.\n",
    "\n",
    "    :param nums: a list [0,1]\n",
    "    :return: the length of the longest subarray.\n",
    "    \"\"\"\n",
    "\n",
    "    k = 1\n",
    "    \n",
    "    l, r = 0, 0\n",
    "    c, m = 0, 0\n",
    "\n",
    "    while r < len(nums):\n",
    "\n",
    "        if nums[r] == 1:\n",
    "            c += 1\n",
    "        else:\n",
    "            \n",
    "            if k == 0:\n",
    "                if nums[l] == 1:\n",
    "                                    \n",
    "                    while l < r:\n",
    "                       \n",
    "                        if nums[l] == 1:\n",
    "                            c -= 1\n",
    "                            \n",
    "                        l += 1\n",
    "                        \n",
    "                else:\n",
    "                    while l < r and nums[l] != 1:\n",
    "                        l += 1\n",
    "                           \n",
    "            else:\n",
    "                k = 0\n",
    "                \n",
    "        if m < c:\n",
    "            m = c\n",
    "\n",
    "        r += 1\n",
    "\n",
    "    if not k:\n",
    "        return m\n",
    "\n",
    "    return m - 1\n"
   ]
  },
  {
   "cell_type": "code",
   "execution_count": 2,
   "id": "2afd6056-f91d-4697-a90c-9bcd0f9f4459",
   "metadata": {},
   "outputs": [],
   "source": [
    "##### Improved Solution"
   ]
  },
  {
   "cell_type": "code",
   "execution_count": 3,
   "id": "a12050c5-1e74-4d24-ad8e-c1b3b676f46c",
   "metadata": {},
   "outputs": [],
   "source": [
    "def longest_subarray(nums: list[int]) -> int:\n",
    "    \"\"\"Find the longest subarray of 1s, after an element is deleted.\n",
    "\n",
    "    :param nums: a list [0,1]\n",
    "    :return: the length of the longest subarray.\n",
    "    \"\"\"\n",
    "\n",
    "    k = 0\n",
    "\n",
    "    l, r = 0, 0\n",
    "    c, m = 0, 0\n",
    "\n",
    "    while r < len(nums):\n",
    "\n",
    "        if nums[r] == 1:\n",
    "            c += 1\n",
    "        else:\n",
    "            k += 1\n",
    "\n",
    "        while k > 1:\n",
    "            if nums[l] == 1:\n",
    "                c -= 1\n",
    "            else:\n",
    "                k -= 1\n",
    "\n",
    "            l += 1\n",
    "\n",
    "        if m < c:\n",
    "            m = c\n",
    "\n",
    "        r += 1\n",
    "\n",
    "    if k:\n",
    "        return m\n",
    "\n",
    "    return m - 1\n",
    "        "
   ]
  },
  {
   "cell_type": "markdown",
   "id": "4a833389-10be-445f-a294-48b88aeb4318",
   "metadata": {},
   "source": [
    "#### Testing:"
   ]
  },
  {
   "cell_type": "code",
   "execution_count": 4,
   "id": "7a62363a-3933-471b-97c2-770ebcabc3aa",
   "metadata": {},
   "outputs": [
    {
     "name": "stdout",
     "output_type": "stream",
     "text": [
      "4\n",
      "5\n",
      "3\n",
      "2\n",
      "0\n",
      "0\n",
      "1\n"
     ]
    }
   ],
   "source": [
    "params = [\n",
    "    [1,1,0,0,1,1,1,0,1],\n",
    "    [0,1,1,1,0,1,1,0,1],\n",
    "    [1,1,0,1],\n",
    "    [1,1,1],\n",
    "    [1],\n",
    "    [0],\n",
    "    [1,0]\n",
    "]\n",
    "for i in range(len(params)):\n",
    "    print(longest_subarray(params[i]))"
   ]
  },
  {
   "cell_type": "markdown",
   "id": "52c5c4f2-6ecb-40eb-badd-2af9f5071a86",
   "metadata": {},
   "source": [
    "#### Notes:"
   ]
  },
  {
   "cell_type": "markdown",
   "id": "9d5b8b27-d9a2-4413-9c0f-61a32bf0d87a",
   "metadata": {},
   "source": [
    "Variable sliding window problem. The initial solution was an attempt to 'retrofit' a solution for problem 1493. However, this problem is sufficently different that a solution from scratch was necessary.\n",
    "\n",
    "The new solution only permits there to be a single 0 within the window. This constraint is maintained by a while loop that moves the left pointer of the window forward until the number of zeroes is reduced to 1."
   ]
  },
  {
   "cell_type": "markdown",
   "id": "5e9b32d0-4873-4f8a-a503-5a95aecad3cc",
   "metadata": {},
   "source": [
    "### Helpful Resources:"
   ]
  },
  {
   "cell_type": "markdown",
   "id": "d2035565-e17d-42b1-bb43-68674223cf11",
   "metadata": {},
   "source": []
  }
 ],
 "metadata": {
  "kernelspec": {
   "display_name": "Python 3 (ipykernel)",
   "language": "python",
   "name": "python3"
  },
  "language_info": {
   "codemirror_mode": {
    "name": "ipython",
    "version": 3
   },
   "file_extension": ".py",
   "mimetype": "text/x-python",
   "name": "python",
   "nbconvert_exporter": "python",
   "pygments_lexer": "ipython3",
   "version": "3.12.2"
  }
 },
 "nbformat": 4,
 "nbformat_minor": 5
}
