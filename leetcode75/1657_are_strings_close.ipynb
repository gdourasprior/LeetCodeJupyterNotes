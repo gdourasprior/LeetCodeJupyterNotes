{
 "cells": [
  {
   "cell_type": "markdown",
   "id": "3df51a72-bbec-48ed-b3e5-2479ac73bc5e",
   "metadata": {},
   "source": [
    "### The Problem:"
   ]
  },
  {
   "cell_type": "markdown",
   "id": "0143ac4f-2aad-450c-9b0a-05e8756889b8",
   "metadata": {},
   "source": [
    "The problem can be found [**here**](https://leetcode.com/problems/determine-if-two-strings-are-close/description/?envType=study-plan-v2&envId=leetcode-75)."
   ]
  },
  {
   "cell_type": "markdown",
   "id": "8dcb4eb0-224a-403b-9f0e-43473431a911",
   "metadata": {},
   "source": [
    "### My Code:"
   ]
  },
  {
   "cell_type": "markdown",
   "id": "46b0def3-fe00-43ef-a5d0-716184a45b7c",
   "metadata": {},
   "source": [
    "#### Initial Solution"
   ]
  },
  {
   "cell_type": "code",
   "execution_count": 8,
   "id": "250b14fe-447a-4f2a-8668-3c5a48878e9a",
   "metadata": {},
   "outputs": [],
   "source": [
    "def close_strings(word1: str, word2: str) -> bool:\n",
    "    \"\"\"Determine if two strings are close.\n",
    "\n",
    "    \"Two strings are considered close if you can attain one from the other using the following operations:\n",
    "\n",
    "    Operation 1: Swap any two existing characters.\n",
    "    For example, abcde -> aecdb\n",
    "    Operation 2: Transform every occurrence of one existing character into another existing character, and do the same with the other character.\n",
    "    For example, aacabb -> bbcbaa (all a's turn into b's, and all b's turn into a's)\" - Leetcode\n",
    "\n",
    "    Constraints:\n",
    "\n",
    "    1 <= word1.length, word2.length <= 105\n",
    "    word1 and word2 contain only lowercase English letters.\n",
    "\n",
    "    :param word1: a string\n",
    "    :param word2: //\n",
    "    :return: True if word1 is close to word2, False otherwise\n",
    "    \"\"\"\n",
    "\n",
    "    if len(word1) != len(word2):\n",
    "        return False\n",
    "\n",
    "    w1, w2 = dict(), dict()\n",
    "\n",
    "    for w in word1:\n",
    "\n",
    "        if w in w1:\n",
    "            w1[w] += 1\n",
    "\n",
    "        else:\n",
    "            w1[w] = 1\n",
    "\n",
    "\n",
    "    for w in word2:\n",
    "\n",
    "        if w in w2:\n",
    "            w2[w] += 1\n",
    "\n",
    "        else:\n",
    "            w2[w] = 1\n",
    "\n",
    "\n",
    "    k1, k2 = list(w1.keys()), list(w2.keys())\n",
    "\n",
    "    if len(set(k1).difference(set(k2))):\n",
    "        return False\n",
    "\n",
    "    for i in range(len(k1)):\n",
    "\n",
    "        if w1[k1[i]] != w2[k1[i]]:\n",
    "\n",
    "            for j in range(i, len(k1)):\n",
    "\n",
    "                if w1[k1[i]] == w2[k1[j]]:\n",
    "                    t = w2[k1[j]]\n",
    "                    w2[k1[j]] = w2[k1[i]]\n",
    "                    w2[k1[i]] = t\n",
    "                    break\n",
    "\n",
    "            if w1[k1[i]] != w2[k1[i]]:\n",
    "                return False\n",
    "\n",
    "    return True\n",
    "            "
   ]
  },
  {
   "cell_type": "markdown",
   "id": "9f397d61-dfd1-45a7-adcc-78939a813ad1",
   "metadata": {},
   "source": [
    "##### Improved Solution"
   ]
  },
  {
   "cell_type": "code",
   "execution_count": 14,
   "id": "a12050c5-1e74-4d24-ad8e-c1b3b676f46c",
   "metadata": {},
   "outputs": [],
   "source": [
    "def close_strings(word1: str, word2: str) -> bool:\n",
    "    \"\"\"Determine if two strings are close.\n",
    "\n",
    "    \"Two strings are considered close if you can attain one from the other using the following operations:\n",
    "\n",
    "    Operation 1: Swap any two existing characters.\n",
    "    For example, abcde -> aecdb\n",
    "    Operation 2: Transform every occurrence of one existing character into another existing character, and do the same with the other character.\n",
    "    For example, aacabb -> bbcbaa (all a's turn into b's, and all b's turn into a's)\" - Leetcode\n",
    "\n",
    "    Constraints:\n",
    "\n",
    "    1 <= word1.length, word2.length <= 105\n",
    "    word1 and word2 contain only lowercase English letters.\n",
    "\n",
    "    :param word1: a string\n",
    "    :param word2: //\n",
    "    :return: True if word1 is close to word2, False otherwise\n",
    "    \"\"\"\n",
    "\n",
    "    # get the counts of both lists\n",
    "\n",
    "    w1, w2 = dict(), dict()\n",
    "\n",
    "    for w in word1:\n",
    "\n",
    "        if w not in w1:\n",
    "            w1[w] = 1\n",
    "            \n",
    "        else:\n",
    "            w1[w] += 1\n",
    "\n",
    "    for w in word2:\n",
    "\n",
    "        if w not in w2:\n",
    "            w2[w] = 1\n",
    "\n",
    "        else:\n",
    "            w2[w] += 1\n",
    "\n",
    "\n",
    "    # ensure that both lists contain the same chars\n",
    "    # Ensure that the two strings have equal counts of words\n",
    "\n",
    "    return sorted(w1.values()) == sorted(w2.values()) and set(w1.keys()) == set(w2.keys())\n",
    "      "
   ]
  },
  {
   "cell_type": "code",
   "execution_count": 16,
   "id": "af5144f0-1a61-4799-b3fe-73bc1e6070d2",
   "metadata": {},
   "outputs": [],
   "source": [
    "def close_strings(word1: str, word2: str) -> bool:\n",
    "    \"\"\"Determine if two strings are close.\n",
    "\n",
    "    \"Two strings are considered close if you can attain one from the other using the following operations:\n",
    "\n",
    "    Operation 1: Swap any two existing characters.\n",
    "    For example, abcde -> aecdb\n",
    "    Operation 2: Transform every occurrence of one existing character into another existing character, and do the same with the other character.\n",
    "    For example, aacabb -> bbcbaa (all a's turn into b's, and all b's turn into a's)\" - Leetcode\n",
    "\n",
    "    Constraints:\n",
    "\n",
    "    1 <= word1.length, word2.length <= 105\n",
    "    word1 and word2 contain only lowercase English letters.\n",
    "\n",
    "    :param word1: a string\n",
    "    :param word2: //\n",
    "    :return: True if word1 is close to word2, False otherwise\n",
    "\n",
    "    // Testing Mark SOlomon Philip's algorithm, for Python\n",
    "    \"\"\"\n",
    "\n",
    "    alph_freq1 = [0] * 26\n",
    "    alpha_freq2 = [0] * 26\n",
    "\n",
    "    for c in word1:\n",
    "        \n",
    "        alph_freq1[ord(c) - ord('a')] += 1\n",
    "\n",
    "    for c in word2:\n",
    "        \n",
    "        if alph_freq1[ord(c) - ord('a')] < 1:\n",
    "            return False\n",
    "\n",
    "        alpha_freq2[ord(c) - ord('a')] += 1\n",
    "\n",
    "\n",
    "    alph_freq1.sort()\n",
    "    alpha_freq2.sort()\n",
    "\n",
    "    for i in range(26):\n",
    "\n",
    "        if alph_freq1[i] != alpha_freq2[i]:\n",
    "            return False\n",
    "\n",
    "    return True\n",
    "    \n",
    "    "
   ]
  },
  {
   "cell_type": "markdown",
   "id": "47fefd10-ef7e-49a1-81ec-404254cd7ef7",
   "metadata": {},
   "source": [
    "#### Complete Solution"
   ]
  },
  {
   "cell_type": "code",
   "execution_count": 19,
   "id": "1664fa4e-0b7b-4d62-9f7f-36717ee9e3cd",
   "metadata": {},
   "outputs": [],
   "source": [
    "def close_strings(word1: str, word2: str) -> bool:\n",
    "    \"\"\"Determine if two strings are close.\n",
    "\n",
    "    \"Two strings are considered close if you can attain one from the other using the following operations:\n",
    "\n",
    "    Operation 1: Swap any two existing characters.\n",
    "    For example, abcde -> aecdb\n",
    "    Operation 2: Transform every occurrence of one existing character into another existing character, and do the same with the other character.\n",
    "    For example, aacabb -> bbcbaa (all a's turn into b's, and all b's turn into a's)\" - Leetcode\n",
    "\n",
    "    Constraints:\n",
    "\n",
    "    1 <= word1.length, word2.length <= 105\n",
    "    word1 and word2 contain only lowercase English letters.\n",
    "\n",
    "    :param word1: a string\n",
    "    :param word2: //\n",
    "    :return: True if word1 is close to word2, False otherwise\n",
    "    \"\"\"\n",
    "\n",
    "    w1 = set(word1)\n",
    "    w2 = set(word2)\n",
    "\n",
    "    if w1 != w2:\n",
    "        return False\n",
    "\n",
    "    s_w1 = sorted([word1.count(ch) for ch in w1])\n",
    "    s_w2 = sorted([word2.count(ch) for ch in w2])\n",
    "\n",
    "    return s_w1 == s_w2\n"
   ]
  },
  {
   "cell_type": "markdown",
   "id": "4a833389-10be-445f-a294-48b88aeb4318",
   "metadata": {},
   "source": [
    "#### Testing:"
   ]
  },
  {
   "cell_type": "code",
   "execution_count": 20,
   "id": "7a62363a-3933-471b-97c2-770ebcabc3aa",
   "metadata": {},
   "outputs": [
    {
     "name": "stdout",
     "output_type": "stream",
     "text": [
      "True\n",
      "False\n",
      "True\n"
     ]
    }
   ],
   "source": [
    "params = [\n",
    "    [\"abc\", \"bca\"],\n",
    "    [\"a\", \"aa\"],\n",
    "    [\"cabbba\", \"abbccc\"]\n",
    "]\n",
    "for i in range(len(params)):\n",
    "    print(close_strings(params[i][0], params[i][1]))"
   ]
  },
  {
   "cell_type": "markdown",
   "id": "52c5c4f2-6ecb-40eb-badd-2af9f5071a86",
   "metadata": {},
   "source": [
    "#### Notes:"
   ]
  },
  {
   "cell_type": "markdown",
   "id": "9d5b8b27-d9a2-4413-9c0f-61a32bf0d87a",
   "metadata": {},
   "source": [
    "This problem uses multipe hashmaps.\n",
    "\n",
    "The two 'operations' permitted actually have profound effects on the way the problem is solved.\n",
    "\n",
    "Operation 1, removes the constraint of relative order of characters. We simply need to have the same overall characters.\n",
    "\n",
    "Operation 2 means we simply need to swap the discovered frequencies for each character,\n",
    "\n",
    "First, create a count for each character that appears in both word1 and word2.\n",
    "\n",
    "Next, look for differences in the frequencies for each letter. If there are differences, attempt to swap the values. Continue doing this until all values have been equalised.\n",
    "\n",
    "However, there is a problem with this initial approach namely that it is slow. Painfully slow, twice as slow as many other solutions.\n",
    "\n",
    "This implies there are areas that can be simplified, or greater efficencies in the structure of the algorithm.\n",
    "\n",
    "The final improved solution simply refines the existing algorithm by exploiting Python comprehensions and sets."
   ]
  },
  {
   "cell_type": "markdown",
   "id": "5e9b32d0-4873-4f8a-a503-5a95aecad3cc",
   "metadata": {},
   "source": [
    "### Helpful Resources:"
   ]
  },
  {
   "cell_type": "markdown",
   "id": "d2035565-e17d-42b1-bb43-68674223cf11",
   "metadata": {},
   "source": []
  }
 ],
 "metadata": {
  "kernelspec": {
   "display_name": "Python 3 (ipykernel)",
   "language": "python",
   "name": "python3"
  },
  "language_info": {
   "codemirror_mode": {
    "name": "ipython",
    "version": 3
   },
   "file_extension": ".py",
   "mimetype": "text/x-python",
   "name": "python",
   "nbconvert_exporter": "python",
   "pygments_lexer": "ipython3",
   "version": "3.12.2"
  }
 },
 "nbformat": 4,
 "nbformat_minor": 5
}
