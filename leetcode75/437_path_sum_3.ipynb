{
 "cells": [
  {
   "cell_type": "markdown",
   "id": "3df51a72-bbec-48ed-b3e5-2479ac73bc5e",
   "metadata": {},
   "source": [
    "### The Problem:"
   ]
  },
  {
   "cell_type": "markdown",
   "id": "0143ac4f-2aad-450c-9b0a-05e8756889b8",
   "metadata": {},
   "source": [
    "The problem can be found [**here**](https://leetcode.com/problems/path-sum-iii/?envType=study-plan-v2&envId=leetcode-75)."
   ]
  },
  {
   "cell_type": "markdown",
   "id": "8dcb4eb0-224a-403b-9f0e-43473431a911",
   "metadata": {},
   "source": [
    "### My Code:"
   ]
  },
  {
   "cell_type": "code",
   "execution_count": 1,
   "id": "a11c0bb1-bc60-4d05-9c6a-942de05d3d05",
   "metadata": {},
   "outputs": [],
   "source": [
    "from typing import Optional, List"
   ]
  },
  {
   "cell_type": "markdown",
   "id": "19081bbe-2f26-495f-afba-41bd4310012e",
   "metadata": {},
   "source": [
    "Code for creating and printing the tree nodes comes from PranchalK and Improved by Thangaraj from GeeksforGeeks\n",
    "\n",
    "The original code can be found [here](https://www.geeksforgeeks.org/construct-complete-binary-tree-given-array/)!"
   ]
  },
  {
   "cell_type": "code",
   "execution_count": 2,
   "id": "01bb12f1-18e8-4768-8eda-efcb0da89f47",
   "metadata": {},
   "outputs": [],
   "source": [
    "class TreeNode:\n",
    "    \"\"\"Create a new Tree\"\"\"\n",
    "    \n",
    "    def __init__(self, val=0, left=None, right=None):\n",
    "        self.val = val\n",
    "        self.left = left\n",
    "        self.right = right\n",
    "\n",
    "\n",
    "    def __str__(self):\n",
    "        self.__repr__(self)\n",
    "\n",
    "\n",
    "    def __repr__(self):\n",
    "       return str(self.val)\n",
    "\n",
    "\n",
    "def inOrder(root: TreeNode) -> None:\n",
    "    \"\"\"Print the tree from given root node\n",
    "\n",
    "    :param root:\n",
    "    \"\"\"\n",
    "    if root != None:\n",
    "        inOrder(root.left)\n",
    "        print(root.val, end= \" \")\n",
    "        inOrder(root.right)\n",
    "\n",
    "\n",
    "def buildTree(nums: list) -> TreeNode:\n",
    "    \"\"\"Build a tree from an array using a queue\n",
    "\n",
    "    :param nums:\n",
    "    :return: root of tree\n",
    "    \"\"\"\n",
    "    if not nums:\n",
    "        return None\n",
    "\n",
    "    root = TreeNode(nums[0])\n",
    "    q = [root]\n",
    "    i = 1\n",
    "\n",
    "    while i < len(nums):\n",
    "        curr = q.pop(0)\n",
    "\n",
    "        if i < len(nums) and nums[i]:\n",
    "            curr.left = TreeNode(nums[i])\n",
    "            q.append(curr.left)\n",
    "            i += 1\n",
    "            \n",
    "        else:\n",
    "            i += 1\n",
    "            \n",
    "        if i < len(nums) and nums[i]:\n",
    "            curr.right = TreeNode(nums[i])\n",
    "            q.append(curr.right)\n",
    "            i += 1\n",
    "\n",
    "        else:\n",
    "            i += 1\n",
    "\n",
    "    return root\n"
   ]
  },
  {
   "cell_type": "markdown",
   "id": "46b0def3-fe00-43ef-a5d0-716184a45b7c",
   "metadata": {},
   "source": [
    "#### Initial Solution"
   ]
  },
  {
   "cell_type": "code",
   "execution_count": 30,
   "id": "250b14fe-447a-4f2a-8668-3c5a48878e9a",
   "metadata": {},
   "outputs": [],
   "source": [
    "class Solution:\n",
    "    def helper(self, root: Optional[TreeNode], targetSum: int, currentSum: int) -> int:\n",
    "        if not root:\n",
    "            return 0\n",
    "\n",
    "        count = 0\n",
    "        currentSum += root.val\n",
    "\n",
    "        if currentSum == targetSum:\n",
    "            count += 1\n",
    "\n",
    "        count += self.helper(root.left, targetSum, currentSum)\n",
    "        count += self.helper(root.right, targetSum, currentSum)\n",
    "\n",
    "        return count\n",
    "\n",
    "\n",
    "    def pathSum(self, root: Optional[TreeNode], targetSum: int) -> int:\n",
    "        if not root:\n",
    "            return 0\n",
    "\n",
    "        count = 0\n",
    "        currentSum = root.val\n",
    "\n",
    "        count += self.pathSum(root.left, targetSum)\n",
    "        count += self.pathSum(root.right, targetSum)\n",
    "\n",
    "        if currentSum == targetSum:\n",
    "            count += 1\n",
    "\n",
    "        count += self.helper(root.left, targetSum, currentSum)\n",
    "        count += self.helper(root.right, targetSum, currentSum)\n",
    "\n",
    "        return count"
   ]
  },
  {
   "cell_type": "markdown",
   "id": "5a6ed995-8605-4243-b7c1-5575cedce5b5",
   "metadata": {},
   "source": [
    "##### Improved Solution"
   ]
  },
  {
   "cell_type": "code",
   "execution_count": 35,
   "id": "a12050c5-1e74-4d24-ad8e-c1b3b676f46c",
   "metadata": {},
   "outputs": [],
   "source": [
    "from collections import Counter\n",
    "\n",
    "class Solution:\n",
    "    def pathSum(self, root: Optional[TreeNode], targetSum: int) -> int:\n",
    "        def dfs(node, current_sum):\n",
    "            if not node:\n",
    "                return 0\n",
    "\n",
    "            current_sum += node.val\n",
    "\n",
    "            path_count = path_counts[current_sum - targetSum]\n",
    "\n",
    "            path_counts[current_sum] += 1\n",
    "\n",
    "            path_count += dfs(node.left, current_sum)\n",
    "            path_count += dfs(node.right, current_sum)\n",
    "\n",
    "            path_counts[current_sum] -= 1\n",
    "\n",
    "            return path_count\n",
    "\n",
    "        path_counts = Counter({0:1})\n",
    "\n",
    "        return dfs(root, 0)"
   ]
  },
  {
   "cell_type": "markdown",
   "id": "4a833389-10be-445f-a294-48b88aeb4318",
   "metadata": {},
   "source": [
    "#### Testing:"
   ]
  },
  {
   "cell_type": "code",
   "execution_count": 37,
   "id": "7a62363a-3933-471b-97c2-770ebcabc3aa",
   "metadata": {},
   "outputs": [
    {
     "name": "stdout",
     "output_type": "stream",
     "text": [
      "4\n"
     ]
    }
   ],
   "source": [
    "params = [\n",
    "    [[1,-2,-3,1,3,-2,None,-1],-1]\n",
    "]\n",
    "\n",
    "s = Solution()\n",
    "\n",
    "for i in range(len(params)):\n",
    "    root = buildTree(params[i][0])\n",
    "    print(s.pathSum(root, params[i][1]))"
   ]
  },
  {
   "cell_type": "markdown",
   "id": "52c5c4f2-6ecb-40eb-badd-2af9f5071a86",
   "metadata": {},
   "source": [
    "#### Notes:"
   ]
  },
  {
   "cell_type": "markdown",
   "id": "9d5b8b27-d9a2-4413-9c0f-61a32bf0d87a",
   "metadata": {},
   "source": []
  },
  {
   "cell_type": "markdown",
   "id": "5e9b32d0-4873-4f8a-a503-5a95aecad3cc",
   "metadata": {},
   "source": [
    "### Helpful Resources:"
   ]
  },
  {
   "cell_type": "markdown",
   "id": "d2035565-e17d-42b1-bb43-68674223cf11",
   "metadata": {},
   "source": []
  }
 ],
 "metadata": {
  "kernelspec": {
   "display_name": "Python 3 (ipykernel)",
   "language": "python",
   "name": "python3"
  },
  "language_info": {
   "codemirror_mode": {
    "name": "ipython",
    "version": 3
   },
   "file_extension": ".py",
   "mimetype": "text/x-python",
   "name": "python",
   "nbconvert_exporter": "python",
   "pygments_lexer": "ipython3",
   "version": "3.12.2"
  }
 },
 "nbformat": 4,
 "nbformat_minor": 5
}
