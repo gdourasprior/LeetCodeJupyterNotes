{
 "cells": [
  {
   "cell_type": "markdown",
   "id": "3df51a72-bbec-48ed-b3e5-2479ac73bc5e",
   "metadata": {},
   "source": [
    "### The Problem:"
   ]
  },
  {
   "cell_type": "markdown",
   "id": "0143ac4f-2aad-450c-9b0a-05e8756889b8",
   "metadata": {},
   "source": [
    "The problem can be found [**here**](https://leetcode.com/problems/is-subsequence/submissions/1580773347/?envType=study-plan-v2&envId=leetcode-75)."
   ]
  },
  {
   "cell_type": "markdown",
   "id": "8dcb4eb0-224a-403b-9f0e-43473431a911",
   "metadata": {},
   "source": [
    "### My Code:"
   ]
  },
  {
   "cell_type": "markdown",
   "id": "d6c5f746-98a6-4968-9021-49475d529e17",
   "metadata": {},
   "source": [
    "#### Initial Code"
   ]
  },
  {
   "cell_type": "code",
   "execution_count": 1,
   "id": "250b14fe-447a-4f2a-8668-3c5a48878e9a",
   "metadata": {},
   "outputs": [],
   "source": [
    "def is_subsequence(s: str, t: str) -> bool:\n",
    "    \"\"\"Determine if s is a subsequence of t.\n",
    "\n",
    "    :param s: s is a string, 0 <= len(s) <= 100\n",
    "    :param t: t is a string, 0 <= len(t) <= 1000\n",
    "    :return: True if s in t, False otherwise\n",
    "    \"\"\"\n",
    "    if not s:\n",
    "        return True\n",
    "\n",
    "    if not s and not t:\n",
    "        return True\n",
    "\n",
    "    if s and not t:\n",
    "        return False\n",
    "\n",
    "    c = 0\n",
    "\n",
    "    i = 0\n",
    "\n",
    "    while i < len(t):\n",
    "\n",
    "        if s[c] == t[i]:\n",
    "            c += 1\n",
    "\n",
    "        if c == len(s):\n",
    "            return True\n",
    "\n",
    "        i += 1\n",
    "\n",
    "    return False\n"
   ]
  },
  {
   "cell_type": "markdown",
   "id": "56857c4e-eb10-48b1-b18d-b3422d2c62d6",
   "metadata": {},
   "source": [
    "#### Improved Code"
   ]
  },
  {
   "cell_type": "code",
   "execution_count": null,
   "id": "b63554a6-a7fa-4345-ae75-5949f470a7e4",
   "metadata": {},
   "outputs": [],
   "source": []
  },
  {
   "cell_type": "markdown",
   "id": "5f61921e-5b97-41b4-b236-39f4e78eb517",
   "metadata": {},
   "source": [
    "#### Extended Task for varying s for same t"
   ]
  },
  {
   "cell_type": "markdown",
   "id": "6b8d7f30-0ca0-439f-85a2-e1e57c66932f",
   "metadata": {},
   "source": [
    "Solution likely uses Dynamic Programming, specifically 'memoisation'. "
   ]
  },
  {
   "cell_type": "code",
   "execution_count": null,
   "id": "2b1eef77-1aab-42d9-aa06-61d2ab81265d",
   "metadata": {},
   "outputs": [],
   "source": []
  },
  {
   "cell_type": "markdown",
   "id": "4a833389-10be-445f-a294-48b88aeb4318",
   "metadata": {},
   "source": [
    "#### Testing:"
   ]
  },
  {
   "cell_type": "code",
   "execution_count": 2,
   "id": "7a62363a-3933-471b-97c2-770ebcabc3aa",
   "metadata": {},
   "outputs": [
    {
     "name": "stdout",
     "output_type": "stream",
     "text": [
      "True\n",
      "False\n"
     ]
    }
   ],
   "source": [
    "params = [\n",
    "    [\"abc\", \"ahbgdc\"],\n",
    "    [\"axc\", \"ahbgdc\"],\n",
    "]\n",
    "for i in range(len(params)):\n",
    "    print(is_subsequence(params[i][0], params[i][1]))"
   ]
  },
  {
   "cell_type": "markdown",
   "id": "52c5c4f2-6ecb-40eb-badd-2af9f5071a86",
   "metadata": {},
   "source": [
    "#### Notes:"
   ]
  },
  {
   "cell_type": "markdown",
   "id": "9d5b8b27-d9a2-4413-9c0f-61a32bf0d87a",
   "metadata": {},
   "source": [
    "- Always check the Constraints to avoid silly mistakes."
   ]
  },
  {
   "cell_type": "markdown",
   "id": "5e9b32d0-4873-4f8a-a503-5a95aecad3cc",
   "metadata": {},
   "source": [
    "### Helpful Resources:"
   ]
  },
  {
   "cell_type": "markdown",
   "id": "d2035565-e17d-42b1-bb43-68674223cf11",
   "metadata": {},
   "source": []
  }
 ],
 "metadata": {
  "kernelspec": {
   "display_name": "Python 3 (ipykernel)",
   "language": "python",
   "name": "python3"
  },
  "language_info": {
   "codemirror_mode": {
    "name": "ipython",
    "version": 3
   },
   "file_extension": ".py",
   "mimetype": "text/x-python",
   "name": "python",
   "nbconvert_exporter": "python",
   "pygments_lexer": "ipython3",
   "version": "3.12.2"
  }
 },
 "nbformat": 4,
 "nbformat_minor": 5
}
