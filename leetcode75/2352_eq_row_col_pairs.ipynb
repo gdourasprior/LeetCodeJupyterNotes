{
 "cells": [
  {
   "cell_type": "markdown",
   "id": "3df51a72-bbec-48ed-b3e5-2479ac73bc5e",
   "metadata": {},
   "source": [
    "### The Problem:"
   ]
  },
  {
   "cell_type": "markdown",
   "id": "0143ac4f-2aad-450c-9b0a-05e8756889b8",
   "metadata": {},
   "source": [
    "The problem can be found [**here**](https://leetcode.com/problems/equal-row-and-column-pairs/description/?envType=study-plan-v2&envId=leetcode-75)."
   ]
  },
  {
   "cell_type": "markdown",
   "id": "8dcb4eb0-224a-403b-9f0e-43473431a911",
   "metadata": {},
   "source": [
    "### My Code:"
   ]
  },
  {
   "cell_type": "markdown",
   "id": "46b0def3-fe00-43ef-a5d0-716184a45b7c",
   "metadata": {},
   "source": [
    "#### Initial Solution"
   ]
  },
  {
   "cell_type": "code",
   "execution_count": 29,
   "id": "250b14fe-447a-4f2a-8668-3c5a48878e9a",
   "metadata": {},
   "outputs": [],
   "source": [
    "def equal_pairs(grid: list[list[int]]) -> int:\n",
    "    \"\"\"Find pairs of rows and columns.\n",
    "\n",
    "    Constraints:\n",
    "\n",
    "    n == grid.length == grid[i].length\n",
    "    1 <= n <= 200\n",
    "    1 <= grid[i][j] <= 105\n",
    "\n",
    "    :param grid: n x n matrix\n",
    "    \"\"\"\n",
    "    n = len(grid)\n",
    "    \n",
    "    # map the matrix\n",
    "\n",
    "    row = dict()\n",
    "\n",
    "    pairs = 0\n",
    "\n",
    "    for i in range(n):\n",
    "        current = [0] * n\n",
    "        \n",
    "        for j in range(n):\n",
    "            current[j] = str(grid[i][j])\n",
    "\n",
    "        current = \" \".join(current)\n",
    "\n",
    "        if current in row:\n",
    "            row[current] += 1\n",
    "        else:\n",
    "            row[current] = 1\n",
    "\n",
    "\n",
    "    for i in range(n):\n",
    "        current = [0] * n\n",
    "\n",
    "        for j in range(n):\n",
    "            current[j] = str(grid[j][i])\n",
    "\n",
    "        current = \" \".join(current)\n",
    "\n",
    "        if current in row:\n",
    "            pairs += row[current]\n",
    "        \n",
    "    return pairs\n"
   ]
  },
  {
   "cell_type": "code",
   "execution_count": 2,
   "id": "2afd6056-f91d-4697-a90c-9bcd0f9f4459",
   "metadata": {},
   "outputs": [],
   "source": [
    "##### Improved Solution"
   ]
  },
  {
   "cell_type": "code",
   "execution_count": 41,
   "id": "a12050c5-1e74-4d24-ad8e-c1b3b676f46c",
   "metadata": {},
   "outputs": [],
   "source": [
    "def equal_pairs(grid: list[list[int]]) -> int:\n",
    "    \"\"\"Find pairs of rows and columns.\n",
    "\n",
    "    Constraints:\n",
    "\n",
    "    n == grid.length == grid[i].length\n",
    "    1 <= n <= 200\n",
    "    1 <= grid[i][j] <= 105\n",
    "\n",
    "    :param grid: n x n matrix\n",
    "    \"\"\"\n",
    "    n = len(grid)\n",
    "    \n",
    "    # map the matrix\n",
    "\n",
    "    row = dict()\n",
    "    col = dict()\n",
    "\n",
    "    pairs = 0\n",
    "\n",
    "    for i in range(n):\n",
    "        r, c = [0] * n, [0] * n\n",
    "        \n",
    "        for j in range(n):\n",
    "            r[j] = str(grid[i][j])\n",
    "            c[j] = str(grid[j][i])\n",
    "            \n",
    "        r, c = \" \".join(r), \" \".join(c)\n",
    "\n",
    "        if r in row:\n",
    "            row[r] += 1\n",
    "            \n",
    "        else:\n",
    "            row[r] = 1\n",
    "\n",
    "        if c in col:\n",
    "            col[c] += 1\n",
    "            \n",
    "        else:\n",
    "            col[c] = 1\n",
    "\n",
    "    keys = row.keys()\n",
    "\n",
    "    for key in keys:\n",
    "        \n",
    "        if key in col:\n",
    "            pairs += row[key] * col[key]\n",
    "                  \n",
    "    return pairs"
   ]
  },
  {
   "cell_type": "code",
   "execution_count": 50,
   "id": "e1d40927-acfe-43da-90c9-a603ed51cd01",
   "metadata": {},
   "outputs": [],
   "source": [
    "import collections\n",
    "\n",
    "def equal_pairs(grid: list[list[int]]) -> int:\n",
    "    \"\"\"Find pairs of rows and columns.\n",
    "\n",
    "    Constraints:\n",
    "\n",
    "    n == grid.length == grid[i].length\n",
    "    1 <= n <= 200\n",
    "    1 <= grid[i][j] <= 105\n",
    "\n",
    "    :param grid: n x n matrix\n",
    "    \"\"\"\n",
    "\n",
    "    n = len(grid)\n",
    "\n",
    "    rows = collections.Counter(tuple(row) for row in grid)\n",
    "\n",
    "    count = 0\n",
    "\n",
    "    for col in zip(*grid):\n",
    "        count += rows[tuple(col)]\n",
    "\n",
    "    return count"
   ]
  },
  {
   "cell_type": "markdown",
   "id": "4a833389-10be-445f-a294-48b88aeb4318",
   "metadata": {},
   "source": [
    "#### Testing:"
   ]
  },
  {
   "cell_type": "code",
   "execution_count": 51,
   "id": "7a62363a-3933-471b-97c2-770ebcabc3aa",
   "metadata": {},
   "outputs": [
    {
     "name": "stdout",
     "output_type": "stream",
     "text": [
      "3\n"
     ]
    }
   ],
   "source": [
    "params = [\n",
    "    [[3,1,2,2],[1,4,4,5],[2,4,2,2],[2,4,2,2]]\n",
    "]\n",
    "for i in range(len(params)):\n",
    "    print(equal_pairs(params[i]))"
   ]
  },
  {
   "cell_type": "markdown",
   "id": "52c5c4f2-6ecb-40eb-badd-2af9f5071a86",
   "metadata": {},
   "source": [
    "#### Notes:"
   ]
  },
  {
   "cell_type": "markdown",
   "id": "9d5b8b27-d9a2-4413-9c0f-61a32bf0d87a",
   "metadata": {},
   "source": [
    "This initial solution uses dictionaries (Python's hashmap) to record each row.\n",
    "\n",
    "When each of the n rows has been added to a hashmap, the columns are iterated through. If a column matches a row the 'pairs' counted is incremented by the number of occurances of the row.\n",
    "\n",
    "This initial implementation is slow, however.\n",
    "\n",
    "By using the 'collections' module you can significantly speed up the algorithm."
   ]
  },
  {
   "cell_type": "markdown",
   "id": "5e9b32d0-4873-4f8a-a503-5a95aecad3cc",
   "metadata": {},
   "source": [
    "### Helpful Resources:"
   ]
  },
  {
   "cell_type": "markdown",
   "id": "d2035565-e17d-42b1-bb43-68674223cf11",
   "metadata": {},
   "source": []
  }
 ],
 "metadata": {
  "kernelspec": {
   "display_name": "Python 3 (ipykernel)",
   "language": "python",
   "name": "python3"
  },
  "language_info": {
   "codemirror_mode": {
    "name": "ipython",
    "version": 3
   },
   "file_extension": ".py",
   "mimetype": "text/x-python",
   "name": "python",
   "nbconvert_exporter": "python",
   "pygments_lexer": "ipython3",
   "version": "3.12.2"
  }
 },
 "nbformat": 4,
 "nbformat_minor": 5
}
