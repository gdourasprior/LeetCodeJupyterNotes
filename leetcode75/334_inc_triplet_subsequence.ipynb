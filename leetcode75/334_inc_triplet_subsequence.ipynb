{
 "cells": [
  {
   "cell_type": "markdown",
   "id": "3df51a72-bbec-48ed-b3e5-2479ac73bc5e",
   "metadata": {},
   "source": [
    "### The Problem:"
   ]
  },
  {
   "cell_type": "markdown",
   "id": "0143ac4f-2aad-450c-9b0a-05e8756889b8",
   "metadata": {},
   "source": [
    "The problem can be found [**here**](https://leetcode.com/problems/increasing-triplet-subsequence/?envType=study-plan-v2&envId=leetcode-75)."
   ]
  },
  {
   "cell_type": "markdown",
   "id": "8dcb4eb0-224a-403b-9f0e-43473431a911",
   "metadata": {},
   "source": [
    "### My Code:"
   ]
  },
  {
   "cell_type": "code",
   "execution_count": 126,
   "id": "250b14fe-447a-4f2a-8668-3c5a48878e9a",
   "metadata": {},
   "outputs": [],
   "source": [
    "def increasing_triplet(nums: list[int]) -> bool:\n",
    "    \"\"\"Determine if an 'Increasing Triplet Subsequence' exists.\n",
    "\n",
    "    \"Given an integer array nums, return true if there exists a triple\n",
    "    of indices (i, j, k) such that i < j < k and nums[i] < nums[j] < nums[k].\n",
    "    If no such indices exists, return false.\"\n",
    "\n",
    "    :param nums: an integer array\n",
    "    :return: True if a ITS is found otherwise False\n",
    "    \"\"\"\n",
    "\n",
    "    s = len(nums)\n",
    "\n",
    "    if s < 3:  # list should contain at least 1 triplet\n",
    "        return False\n",
    "\n",
    "    i = 0\n",
    "    c = 1  # The count\n",
    "    l = i\n",
    "    p = i # Start counting\n",
    "\n",
    "    while p < s:\n",
    "        if p == s -1:\n",
    "            break\n",
    "        \n",
    "        i += 1\n",
    "\n",
    "        if i == s:\n",
    "            if p != l:\n",
    "                c -= 1\n",
    "                i = p + 1\n",
    "                p = l\n",
    "                continue\n",
    "            else:\n",
    "                c = 1\n",
    "                l = p + 1\n",
    "                p = l\n",
    "                i = l\n",
    "                continue\n",
    "\n",
    "        if i > p and nums[i] > nums[p]:\n",
    "            p = i\n",
    "            c += 1\n",
    "\n",
    "        if c >= 3:\n",
    "            return True\n",
    "\n",
    "    return False\n"
   ]
  },
  {
   "cell_type": "markdown",
   "id": "4a833389-10be-445f-a294-48b88aeb4318",
   "metadata": {},
   "source": [
    "#### Testing:"
   ]
  },
  {
   "cell_type": "code",
   "execution_count": 125,
   "id": "7a62363a-3933-471b-97c2-770ebcabc3aa",
   "metadata": {},
   "outputs": [
    {
     "name": "stdout",
     "output_type": "stream",
     "text": [
      "False\n",
      "True\n",
      "True\n",
      "False\n",
      "False\n",
      "True\n"
     ]
    }
   ],
   "source": [
    "params = [\n",
    "    [6,7,1,2],\n",
    "    [20,100,10,12,5,13],\n",
    "    [20,100,22,32,15,33],\n",
    "    [5,4,3,2,1],\n",
    "    [1],\n",
    "    [1,0,1,0,2,0,0,0,5]\n",
    "    \n",
    "]\n",
    "for i in range(len(params)):\n",
    "    print(increasing_triplet(params[i]))"
   ]
  },
  {
   "cell_type": "markdown",
   "id": "52c5c4f2-6ecb-40eb-badd-2af9f5071a86",
   "metadata": {},
   "source": [
    "#### Notes:"
   ]
  },
  {
   "cell_type": "markdown",
   "id": "9d5b8b27-d9a2-4413-9c0f-61a32bf0d87a",
   "metadata": {},
   "source": [
    "- Example\n",
    "- Example Two"
   ]
  },
  {
   "cell_type": "markdown",
   "id": "5e9b32d0-4873-4f8a-a503-5a95aecad3cc",
   "metadata": {},
   "source": [
    "### Helpful Resources:"
   ]
  },
  {
   "cell_type": "markdown",
   "id": "d2035565-e17d-42b1-bb43-68674223cf11",
   "metadata": {},
   "source": []
  }
 ],
 "metadata": {
  "kernelspec": {
   "display_name": "Python 3 (ipykernel)",
   "language": "python",
   "name": "python3"
  },
  "language_info": {
   "codemirror_mode": {
    "name": "ipython",
    "version": 3
   },
   "file_extension": ".py",
   "mimetype": "text/x-python",
   "name": "python",
   "nbconvert_exporter": "python",
   "pygments_lexer": "ipython3",
   "version": "3.12.2"
  }
 },
 "nbformat": 4,
 "nbformat_minor": 5
}
