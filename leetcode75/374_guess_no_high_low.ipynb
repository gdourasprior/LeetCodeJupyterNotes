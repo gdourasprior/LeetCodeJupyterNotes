{
 "cells": [
  {
   "cell_type": "markdown",
   "id": "3df51a72-bbec-48ed-b3e5-2479ac73bc5e",
   "metadata": {},
   "source": [
    "### The Problem:"
   ]
  },
  {
   "cell_type": "markdown",
   "id": "0143ac4f-2aad-450c-9b0a-05e8756889b8",
   "metadata": {},
   "source": [
    "The problem can be found [**here**](putLinkHere.com)."
   ]
  },
  {
   "cell_type": "markdown",
   "id": "8dcb4eb0-224a-403b-9f0e-43473431a911",
   "metadata": {},
   "source": [
    "### My Code:"
   ]
  },
  {
   "cell_type": "markdown",
   "id": "46b0def3-fe00-43ef-a5d0-716184a45b7c",
   "metadata": {},
   "source": [
    "#### Initial Solution"
   ]
  },
  {
   "cell_type": "code",
   "execution_count": 29,
   "id": "250b14fe-447a-4f2a-8668-3c5a48878e9a",
   "metadata": {},
   "outputs": [],
   "source": [
    "class Solution:\n",
    "    \n",
    "    def guessNumber(self, n: int, pick: int) -> int:\n",
    "        \"\"\"Guess what the picked number is until correct.\n",
    "\n",
    "        Constraints:\n",
    "        \n",
    "        1 <= n <= 231 - 1\n",
    "        1 <= pick <= n\n",
    "        \n",
    "        :param n: the range of possible picks\n",
    "        :return: the correct guess\n",
    "        \"\"\"\n",
    "        l, r = 1, n + 1\n",
    "\n",
    "        g = r // 2\n",
    "\n",
    "        response = self.guess(g, pick)\n",
    "\n",
    "        while response:\n",
    "            if response == -1:\n",
    "                r = g\n",
    "\n",
    "            if response == 1:\n",
    "                l = g\n",
    "\n",
    "            g = (r+l) // 2\n",
    "\n",
    "            response = self.guess(g, pick)\n",
    "\n",
    "        return g\n",
    "\n",
    "\n",
    "    def guess(self, num: int, pick: int) -> int:\n",
    "        \"\"\"Determine if a guess was correct\n",
    "\n",
    "        -1: Your guess is higher than the number I picked\n",
    "        (i.e. num > pick).\n",
    "        1: Your guess is lower than the number I picked\n",
    "        (i.e. num < pick).\n",
    "        0: your guess is equal to the number I picked\n",
    "        (i.e. num == pick).\n",
    "\n",
    "        :param num: the guess\n",
    "        :return: [-1,0,1]\n",
    "        \"\"\"\n",
    "        if num > pick:\n",
    "            return -1\n",
    "        elif num < pick:\n",
    "            return 1\n",
    "        else:\n",
    "            return 0\n"
   ]
  },
  {
   "cell_type": "markdown",
   "id": "5a6ed995-8605-4243-b7c1-5575cedce5b5",
   "metadata": {},
   "source": [
    "##### Improved Solution"
   ]
  },
  {
   "cell_type": "code",
   "execution_count": 46,
   "id": "a12050c5-1e74-4d24-ad8e-c1b3b676f46c",
   "metadata": {},
   "outputs": [
    {
     "ename": "SyntaxError",
     "evalue": "invalid syntax (1911935832.py, line 20)",
     "output_type": "error",
     "traceback": [
      "\u001b[0;36m  Cell \u001b[0;32mIn[46], line 20\u001b[0;36m\u001b[0m\n\u001b[0;31m    case == 0:\u001b[0m\n\u001b[0m         ^\u001b[0m\n\u001b[0;31mSyntaxError\u001b[0m\u001b[0;31m:\u001b[0m invalid syntax\n"
     ]
    }
   ],
   "source": [
    "class Solution:\n",
    "    \n",
    "    def guessNumber(self, n: int, pick: int) -> int:\n",
    "        \"\"\"Guess what the picked number is until correct.\n",
    "\n",
    "        Constraints:\n",
    "        \n",
    "        1 <= n <= 231 - 1\n",
    "        1 <= pick <= n\n",
    "        \n",
    "        :param n: the range of possible picks\n",
    "        :return: the correct guess\n",
    "        \"\"\"\n",
    "        l, r = 1, n\n",
    "\n",
    "        while l < r:\n",
    "            m = l + (r-l)//2\n",
    "\n",
    "            match guess(m):\n",
    "                case == 0:\n",
    "                    return m\n",
    "                case < 0:\n",
    "                    r = m\n",
    "                case > 0:\n",
    "                    l = m + 1\n",
    "\n",
    "        return l\n",
    "\n",
    "\n",
    "    def guess(self, num: int, pick: int) -> int:\n",
    "        \"\"\"Determine if a guess was correct\n",
    "\n",
    "        -1: Your guess is higher than the number I picked\n",
    "        (i.e. num > pick).\n",
    "        1: Your guess is lower than the number I picked\n",
    "        (i.e. num < pick).\n",
    "        0: your guess is equal to the number I picked\n",
    "        (i.e. num == pick).\n",
    "\n",
    "        :param num: the guess\n",
    "        :return: [-1,0,1]\n",
    "        \"\"\"\n",
    "        if num > pick:\n",
    "            return -1\n",
    "        elif num < pick:\n",
    "            return 1\n",
    "        else:\n",
    "            return 0\n"
   ]
  },
  {
   "cell_type": "markdown",
   "id": "4a833389-10be-445f-a294-48b88aeb4318",
   "metadata": {},
   "source": [
    "#### Testing:"
   ]
  },
  {
   "cell_type": "code",
   "execution_count": 47,
   "id": "7a62363a-3933-471b-97c2-770ebcabc3aa",
   "metadata": {},
   "outputs": [
    {
     "name": "stdout",
     "output_type": "stream",
     "text": [
      "6\n",
      "36\n",
      "71\n"
     ]
    }
   ],
   "source": [
    "params = [\n",
    "    [10,6],\n",
    "    [100,36],\n",
    "    [1000, 71]\n",
    "]\n",
    "\n",
    "s = Solution()\n",
    "\n",
    "for i in range(len(params)):\n",
    "    print(s.guessNumber(params[i][0], params[i][1]))"
   ]
  },
  {
   "cell_type": "markdown",
   "id": "52c5c4f2-6ecb-40eb-badd-2af9f5071a86",
   "metadata": {},
   "source": [
    "#### Notes:"
   ]
  },
  {
   "cell_type": "markdown",
   "id": "9d5b8b27-d9a2-4413-9c0f-61a32bf0d87a",
   "metadata": {},
   "source": [
    "- Example\n",
    "- Example Two"
   ]
  },
  {
   "cell_type": "markdown",
   "id": "5e9b32d0-4873-4f8a-a503-5a95aecad3cc",
   "metadata": {},
   "source": [
    "### Helpful Resources:"
   ]
  },
  {
   "cell_type": "markdown",
   "id": "d2035565-e17d-42b1-bb43-68674223cf11",
   "metadata": {},
   "source": []
  }
 ],
 "metadata": {
  "kernelspec": {
   "display_name": "Python 3 (ipykernel)",
   "language": "python",
   "name": "python3"
  },
  "language_info": {
   "codemirror_mode": {
    "name": "ipython",
    "version": 3
   },
   "file_extension": ".py",
   "mimetype": "text/x-python",
   "name": "python",
   "nbconvert_exporter": "python",
   "pygments_lexer": "ipython3",
   "version": "3.12.2"
  }
 },
 "nbformat": 4,
 "nbformat_minor": 5
}
