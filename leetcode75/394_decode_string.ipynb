{
 "cells": [
  {
   "cell_type": "markdown",
   "id": "3df51a72-bbec-48ed-b3e5-2479ac73bc5e",
   "metadata": {},
   "source": [
    "### The Problem:"
   ]
  },
  {
   "cell_type": "markdown",
   "id": "0143ac4f-2aad-450c-9b0a-05e8756889b8",
   "metadata": {},
   "source": [
    "The problem can be found [**here**](putLinkHere.com)."
   ]
  },
  {
   "cell_type": "markdown",
   "id": "8dcb4eb0-224a-403b-9f0e-43473431a911",
   "metadata": {},
   "source": [
    "### My Code:"
   ]
  },
  {
   "cell_type": "markdown",
   "id": "46b0def3-fe00-43ef-a5d0-716184a45b7c",
   "metadata": {},
   "source": [
    "#### Initial Solution"
   ]
  },
  {
   "cell_type": "markdown",
   "id": "23a3ab3a-6129-45c0-bb49-224487dba365",
   "metadata": {},
   "source": [
    "##### Improved Solution"
   ]
  },
  {
   "cell_type": "code",
   "execution_count": 39,
   "id": "a12050c5-1e74-4d24-ad8e-c1b3b676f46c",
   "metadata": {},
   "outputs": [],
   "source": [
    "def decode(s: str) -> str:\n",
    "    \"\"\"Decode a given string.\n",
    "\n",
    "    Constraints:\n",
    "\n",
    "    1 <= s.length <= 30\n",
    "    s consists of lowercase English letters, digits, and square brackets '[]'.\n",
    "    s is guaranteed to be a valid input.\n",
    "    All the integers in s are in the range [1, 300].\n",
    "\n",
    "    :param s: string to decode\n",
    "    :return: decoded string\n",
    "    \"\"\"\n",
    "\n",
    "    n = len(s)\n",
    "\n",
    "    l, r = 0, 0\n",
    "\n",
    "    stack = list()\n",
    "\n",
    "    output = list()\n",
    "\n",
    "    while r < n:\n",
    "\n",
    "        if s[r].isalpha():\n",
    "            output.append(s[r])\n",
    "\n",
    "        if s[r].isdigit():\n",
    "            l = r\n",
    "\n",
    "            while s[r] != '[':\n",
    "                r += 1\n",
    "\n",
    "            k = int(s[l:r])\n",
    "            stack.append(s[r])\n",
    "            r += 1\n",
    "            l = r\n",
    "\n",
    "            while stack:\n",
    "\n",
    "                if s[r] == '[':\n",
    "                    stack.append(s[r])\n",
    "\n",
    "                elif s[r] == ']':\n",
    "                    stack.pop()\n",
    "\n",
    "                r += 1\n",
    "\n",
    "            r -= 1\n",
    "\n",
    "            output.append(k * decode(s[l:r]))\n",
    "\n",
    "        r += 1\n",
    "\n",
    "    return \"\".join(output)"
   ]
  },
  {
   "cell_type": "markdown",
   "id": "4a833389-10be-445f-a294-48b88aeb4318",
   "metadata": {},
   "source": [
    "#### Testing:"
   ]
  },
  {
   "cell_type": "code",
   "execution_count": 40,
   "id": "7a62363a-3933-471b-97c2-770ebcabc3aa",
   "metadata": {
    "editable": true,
    "slideshow": {
     "slide_type": ""
    },
    "tags": []
   },
   "outputs": [
    {
     "name": "stdout",
     "output_type": "stream",
     "text": [
      "aaabcbc\n",
      "accaccacc\n",
      "abcabccdcdcdef\n",
      "abcefgggefggg\n",
      "abcabcabcabcabcabcabcabcabcabcabcabcabcabcabcabcabcabcabcabcabcabcabcabcabcabcabcabcabcabcabcabcabcabcabcabcabcabcabcabcabcabcabcabcabcabcabcabcabcabcabcabcabcabcabcabcabcabcabcabcabcabcabcabcabcabcabcabcabcabcabcabcabcabcabcabcabcabcabcabcabcabcabcabcabcabcabcabcabcabcabcabcabcabcabcabcabcabcabcabcabcabcabcabcabcabcabcabcabcabcabcabcabcabcabcabcabcabcabcabcabcabcabcabcabcabcabcabcabcabcabcabcabcabcabcabcabcabcabcabcabcabcabcabcabcabcabcabcabcabcabcabcabcabcabcabcabcabcabcabcabcabcabcabcabcabcabcabcabcabcabcabcabcabcabcabcabcabcabcabcabcabcabcabcabcabcabcabcabcabcabcabcabcabcabcabcabcabcabcabcabcabcabcabcabcabcabcabcabcabcabcabcabcabcabcabcabcabcabcabcabcabcabcabcabcabcabcabcabcabcabcabcabcabcabcabcabcabcabcabcabcabcabcabcabcabcabcabcabcabcabcabcabcabcabcabcabcabcabcabcabcabcabcabcabcabcabcabcabcabcabcabcabcabcabcabcabcabcabcabcabcabcabcabcabcabcabcabcabcabcabcabcabcabcabcabcabcabcabcabc\n"
     ]
    }
   ],
   "source": [
    "params = [\n",
    "    \"3[a]2[bc]\",\n",
    "    \"3[a2[c]]\",\n",
    "    \"2[abc]3[cd]ef\",\n",
    "    \"abc2[ef3[g]]\",\n",
    "    \"300[a1[bc]]\"\n",
    "]\n",
    "for i in range(len(params)):\n",
    "    print(decode(params[i]))"
   ]
  },
  {
   "cell_type": "markdown",
   "id": "52c5c4f2-6ecb-40eb-badd-2af9f5071a86",
   "metadata": {},
   "source": [
    "#### Notes:"
   ]
  },
  {
   "cell_type": "markdown",
   "id": "9d5b8b27-d9a2-4413-9c0f-61a32bf0d87a",
   "metadata": {},
   "source": [
    "- Example\n",
    "- Example Two"
   ]
  },
  {
   "cell_type": "markdown",
   "id": "5e9b32d0-4873-4f8a-a503-5a95aecad3cc",
   "metadata": {},
   "source": [
    "### Helpful Resources:"
   ]
  },
  {
   "cell_type": "markdown",
   "id": "d2035565-e17d-42b1-bb43-68674223cf11",
   "metadata": {},
   "source": []
  }
 ],
 "metadata": {
  "kernelspec": {
   "display_name": "Python 3 (ipykernel)",
   "language": "python",
   "name": "python3"
  },
  "language_info": {
   "codemirror_mode": {
    "name": "ipython",
    "version": 3
   },
   "file_extension": ".py",
   "mimetype": "text/x-python",
   "name": "python",
   "nbconvert_exporter": "python",
   "pygments_lexer": "ipython3",
   "version": "3.12.2"
  }
 },
 "nbformat": 4,
 "nbformat_minor": 5
}
