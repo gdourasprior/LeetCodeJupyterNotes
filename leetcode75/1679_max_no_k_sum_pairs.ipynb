{
 "cells": [
  {
   "cell_type": "markdown",
   "id": "3df51a72-bbec-48ed-b3e5-2479ac73bc5e",
   "metadata": {},
   "source": [
    "### The Problem:"
   ]
  },
  {
   "cell_type": "markdown",
   "id": "0143ac4f-2aad-450c-9b0a-05e8756889b8",
   "metadata": {},
   "source": [
    "The problem can be found [**here**](putLinkHere.com)."
   ]
  },
  {
   "cell_type": "markdown",
   "id": "8dcb4eb0-224a-403b-9f0e-43473431a911",
   "metadata": {},
   "source": [
    "### My Code:"
   ]
  },
  {
   "cell_type": "markdown",
   "id": "46b0def3-fe00-43ef-a5d0-716184a45b7c",
   "metadata": {},
   "source": [
    "#### Initial Solution"
   ]
  },
  {
   "cell_type": "code",
   "execution_count": 31,
   "id": "250b14fe-447a-4f2a-8668-3c5a48878e9a",
   "metadata": {},
   "outputs": [],
   "source": [
    "def max_operations(nums: list[int], k: int) -> int:\n",
    "    \"\"\"Find the maximum number of pairs equal to k.\n",
    "\n",
    "    With each iteration the found pairs are removed,\n",
    "    a given integer therefore cannot be used more than once.\n",
    "\n",
    "    Constraints:\n",
    "    1 <= nums.length <= 10^5\n",
    "    1 <= nums[i] <= 10^9\n",
    "    1 <= k <= 10^9\n",
    "\n",
    "    :param nums: integer array\n",
    "    :param k: the target value for each pair\n",
    "    :return result: the number of completed operations\n",
    "    \"\"\"\n",
    "\n",
    "    n = len(nums)\n",
    "\n",
    "    c = 0  # Counter for no. of Operations\n",
    "\n",
    "    l = 0\n",
    "    r = l + 1\n",
    "    \n",
    "\n",
    "    while l < n - 1:\n",
    "        t = k - nums[l]  # target\n",
    "\n",
    "        if t == nums[r]:\n",
    "            nums.pop(r)\n",
    "            nums.pop(l)\n",
    "            c += 1\n",
    "\n",
    "            r = l + 1\n",
    "\n",
    "            n = len(nums)\n",
    "\n",
    "        else:\n",
    "            r += 1\n",
    "    \n",
    "            if n <= r:\n",
    "                l += 1\n",
    "                r = l + 1\n",
    "\n",
    "    return c\n"
   ]
  },
  {
   "cell_type": "markdown",
   "id": "8b9f4332-1591-4a2e-9ebf-4cbf31a8996e",
   "metadata": {},
   "source": [
    "#### Improved Solution\n",
    "\n",
    "Original solution was too slow to be accepted, due to it effectively having\n",
    "a runtime of O(n^2).\n",
    "\n",
    "This solution uses a hash map to count the occurences of values without an identified pair. When a pair is identified the counter increments and the counts for both 'num' and 'x' are deduced by one.\n",
    "\n",
    "This solution passed the tests, but was still considered slow."
   ]
  },
  {
   "cell_type": "code",
   "execution_count": 85,
   "id": "a12050c5-1e74-4d24-ad8e-c1b3b676f46c",
   "metadata": {},
   "outputs": [],
   "source": [
    "def max_operations(nums: list[int], k: int) -> int:\n",
    "    \"\"\"Find the maximum number of pairs equal to k.\n",
    "\n",
    "    With each iteration the found pairs are removed,\n",
    "    a given integer therefore cannot be used more than once.\n",
    "\n",
    "    Constraints:\n",
    "    1 <= nums.length <= 10^5\n",
    "    1 <= nums[i] <= 10^9\n",
    "    1 <= k <= 10^9\n",
    "\n",
    "    :param nums: integer array\n",
    "    :param k: the target value for each pair\n",
    "    :return result: the number of completed operations\n",
    "    \"\"\"\n",
    "    c = 0\n",
    "    x = None\n",
    "    \n",
    "    halfs = dict()\n",
    "\n",
    "    for num in nums:\n",
    "        if num not in halfs:\n",
    "            halfs[num] = 0\n",
    "\n",
    "        x = k - num\n",
    "\n",
    "        if x not in halfs:\n",
    "            halfs[x] = 0\n",
    "\n",
    "        if 0 < halfs[x] and (x != num or 1 <= halfs[x]):\n",
    "            halfs[x] -= 1\n",
    "            c += 1\n",
    "        else:\n",
    "            halfs[num] += 1          \n",
    "\n",
    "    return c\n",
    "      "
   ]
  },
  {
   "cell_type": "markdown",
   "id": "17c932ff-11d6-48fc-9da3-dda9694215c6",
   "metadata": {},
   "source": [
    "#### Best Solution\n",
    "\n",
    "This solution sorts the array. Then uses two pointers to parse through the area until the meet in the middle.\n",
    "\n",
    "It is necessary to ensure the data is sorted so that assumptions can be made in the algorithm. For example, if the sum of the l and r pointers is greater than 'k' then we know that the value pointed to by r will never be part of a solution and we can move the r pointer closer to the centre point. Likewise, we can move l closer to the centre if k is greater than the sum of l and r."
   ]
  },
  {
   "cell_type": "code",
   "execution_count": 95,
   "id": "0a40a030-2068-482c-b92c-c1423f44ac17",
   "metadata": {},
   "outputs": [],
   "source": [
    "def max_operations(nums: list[int], k: int) -> int:\n",
    "    \"\"\"Find the maximum number of pairs equal to k.\n",
    "\n",
    "    With each iteration the found pairs are removed,\n",
    "    a given integer therefore cannot be used more than once.\n",
    "\n",
    "    Constraints:\n",
    "    1 <= nums.length <= 10^5\n",
    "    1 <= nums[i] <= 10^9\n",
    "    1 <= k <= 10^9\n",
    "\n",
    "    :param nums: integer array\n",
    "    :param k: the target value for each pair\n",
    "    :return result: the number of completed operations\n",
    "    \"\"\"\n",
    "\n",
    "    nums.sort()\n",
    "\n",
    "    l, r = 0, len(nums) - 1\n",
    "    c = 0\n",
    "\n",
    "    while l < r:\n",
    "        s = nums[l] + nums[r]\n",
    "\n",
    "        if s == k:\n",
    "            c += 1\n",
    "            l += 1\n",
    "            r -= 1\n",
    "        elif s > k:\n",
    "            r -= 1\n",
    "        else:\n",
    "            l += 1\n",
    "\n",
    "    return c\n",
    "        "
   ]
  },
  {
   "cell_type": "markdown",
   "id": "4a833389-10be-445f-a294-48b88aeb4318",
   "metadata": {},
   "source": [
    "#### Testing:"
   ]
  },
  {
   "cell_type": "code",
   "execution_count": 96,
   "id": "7a62363a-3933-471b-97c2-770ebcabc3aa",
   "metadata": {},
   "outputs": [
    {
     "name": "stdout",
     "output_type": "stream",
     "text": [
      "2\n",
      "1\n",
      "0\n",
      "0\n",
      "50\n"
     ]
    }
   ],
   "source": [
    "params = [\n",
    "    [[1,2,3,4], 5],\n",
    "    [[3,1,3,4,3], 6],\n",
    "    [[1,2,3,4], 10],\n",
    "    [[], 5],\n",
    "    [[7,25,80,12,58,1,95,77,76,49,34,1,88,95,89,68,39,22,28,26,29,78,89,24,92,89,64,26,89,38,48,57,14,14,85,69,29,13,89,19,42,79,33,16,58,54,81,40,34,8,43,73,49,91,11,29,40,67,80,45,27,81,5,53,47,12,21,71,29,24,91,93,92,35,57,35,99,74,5,19,32,82,25,3,20,29,39,91,89,2,58,60,65,61,73,51,98,53,7,6,83,9,83,90,72,28,14,74,6,82,49,48,55,7,14,5,6,53,52,68,52,13,69,80,99,29,50,58,43,15,15,9,83,11,98,11,10,4,61,47,82,29,45,31,28,17,11,3,66,81,60,36,93,60,19,14,52,23,77,50,72,48,1,21,55,74,76,90,87,92,83,20,13,48,79,81,48,69,37,7,71,31,31,10,56,89,42,100,85,31,88,6,31,55,1,80,90,39,43,59,33,29,48,96,86,3,16,62,37,73,65,7,86,52,95,62,77,96,29,9,85,63,19,3,74,18,89,20,97,90,61,55,97,37,42,34,95,95,92,17,69,2,71,31,46,76,1,87,73,62,22,46,99,62,77,21,79,55,77,14,96,3,59,58,25,75,74,36,46,55,84,59,96,100,20,76,59,18,10,27,22,86,47,10,92,19,90,62,14,21,40,13,17,65,7,89,65,38,42,6,21,90,88,67,9,42,52,84,25,53,34,56,26,40,53,1,97,56,88,79,47,99,1,38,3,78,30,38,78,50,90,94,52,74,64,24,72,48,96,75,89,21,27,86], 47]\n",
    "]\n",
    "for i in range(len(params)):\n",
    "    print(max_operations(params[i][0], params[i][1]))"
   ]
  },
  {
   "cell_type": "markdown",
   "id": "52c5c4f2-6ecb-40eb-badd-2af9f5071a86",
   "metadata": {},
   "source": [
    "#### Notes:"
   ]
  },
  {
   "cell_type": "markdown",
   "id": "9d5b8b27-d9a2-4413-9c0f-61a32bf0d87a",
   "metadata": {},
   "source": [
    "- Assuming a two pointer solutiion\n",
    "- The algorithm will likely be greedy\n",
    "- arrays unsorted, can't make use of structure\n",
    "- array must also change with each 'operation' due to\n",
    "requirement that previous k-pair is removed.\n",
    "\n",
    "- Array must be sorted for good runtimes."
   ]
  },
  {
   "cell_type": "markdown",
   "id": "5e9b32d0-4873-4f8a-a503-5a95aecad3cc",
   "metadata": {},
   "source": [
    "### Helpful Resources:"
   ]
  },
  {
   "cell_type": "markdown",
   "id": "d2035565-e17d-42b1-bb43-68674223cf11",
   "metadata": {},
   "source": []
  }
 ],
 "metadata": {
  "kernelspec": {
   "display_name": "Python 3 (ipykernel)",
   "language": "python",
   "name": "python3"
  },
  "language_info": {
   "codemirror_mode": {
    "name": "ipython",
    "version": 3
   },
   "file_extension": ".py",
   "mimetype": "text/x-python",
   "name": "python",
   "nbconvert_exporter": "python",
   "pygments_lexer": "ipython3",
   "version": "3.12.2"
  }
 },
 "nbformat": 4,
 "nbformat_minor": 5
}
