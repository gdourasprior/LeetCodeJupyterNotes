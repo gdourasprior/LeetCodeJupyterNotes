{
 "cells": [
  {
   "cell_type": "markdown",
   "id": "3df51a72-bbec-48ed-b3e5-2479ac73bc5e",
   "metadata": {},
   "source": [
    "### The Problem:"
   ]
  },
  {
   "cell_type": "markdown",
   "id": "0143ac4f-2aad-450c-9b0a-05e8756889b8",
   "metadata": {},
   "source": [
    "The problem can be found [**here**](https://leetcode.com/problems/asteroid-collision/description/?envType=study-plan-v2&envId=leetcode-75)."
   ]
  },
  {
   "cell_type": "markdown",
   "id": "8dcb4eb0-224a-403b-9f0e-43473431a911",
   "metadata": {},
   "source": [
    "### My Code:"
   ]
  },
  {
   "cell_type": "markdown",
   "id": "46b0def3-fe00-43ef-a5d0-716184a45b7c",
   "metadata": {},
   "source": [
    "#### Initial Solution"
   ]
  },
  {
   "cell_type": "code",
   "execution_count": 37,
   "id": "250b14fe-447a-4f2a-8668-3c5a48878e9a",
   "metadata": {},
   "outputs": [],
   "source": [
    "def asteroid_collision(asteroids: list[int]) -> list[int]:\n",
    "    \"\"\"Determine the state of a row of asteroids after all possible collisions.\n",
    "\n",
    "    Constraints:\n",
    "\n",
    "    2 <= asteroids.length <= 104\n",
    "    -1000 <= asteroids[i] <= 1000\n",
    "    asteroids[i] != 0\n",
    "\n",
    "    :param asteroids: array of ints\n",
    "    :return: array of ints\n",
    "    \"\"\"\n",
    "\n",
    "    buffer = list()\n",
    "\n",
    "    left, right = None, None\n",
    "\n",
    "    while asteroids or left:\n",
    "\n",
    "        if not left:\n",
    "\n",
    "            left = asteroids.pop()\n",
    "\n",
    "        if not right:\n",
    "\n",
    "            if buffer:\n",
    "                right = buffer.pop()\n",
    "\n",
    "            else:\n",
    "                \n",
    "                if asteroids:\n",
    "                    right = left\n",
    "                    left = asteroids.pop()\n",
    "                    \n",
    "                else:\n",
    "                    break\n",
    "\n",
    "        if right < 0:\n",
    "\n",
    "            if left < 0:\n",
    "                buffer.append(right)\n",
    "                right = left\n",
    "                left = None\n",
    "                \n",
    "            else:\n",
    "                \n",
    "                if abs(left) < abs(right):\n",
    "                    left = None\n",
    "\n",
    "                elif abs(left) > abs(right):\n",
    "                    right = None\n",
    "\n",
    "                else:\n",
    "                    right = None\n",
    "                    left = None\n",
    "\n",
    "        else:\n",
    "\n",
    "            buffer.append(right)\n",
    "            right = left\n",
    "            left = None\n",
    "\n",
    "    if right:\n",
    "        buffer.append(right)\n",
    "\n",
    "    if left:\n",
    "        buffer.append(left)\n",
    "\n",
    "    while buffer:\n",
    "\n",
    "        asteroids.append(buffer.pop())\n",
    "\n",
    "    \n",
    "    return asteroids\n"
   ]
  },
  {
   "cell_type": "markdown",
   "id": "e89229bb-c762-4246-b4e9-d994d4059db5",
   "metadata": {},
   "source": [
    "##### Improved Solution"
   ]
  },
  {
   "cell_type": "code",
   "execution_count": 41,
   "id": "a12050c5-1e74-4d24-ad8e-c1b3b676f46c",
   "metadata": {},
   "outputs": [],
   "source": [
    "def asteroid_collision(asteroids: list[int]) -> list[int]:\n",
    "    \"\"\"Determine the state of a row of asteroids after all possible collisions.\n",
    "\n",
    "    Constraints:\n",
    "\n",
    "    2 <= asteroids.length <= 104\n",
    "    -1000 <= asteroids[i] <= 1000\n",
    "    asteroids[i] != 0\n",
    "\n",
    "    :param asteroids: array of ints\n",
    "    :return: array of ints\n",
    "    \"\"\"\n",
    "    pos_stack, neg_stack = list(), list()\n",
    "\n",
    "    for i in range(len(asteroids)):\n",
    "\n",
    "        current = asteroids[i]\n",
    "\n",
    "        if current > 0:\n",
    "            pos_stack.append(current)\n",
    "\n",
    "        else:\n",
    "            destroyed = False\n",
    "            magnitude = abs(current)\n",
    "\n",
    "            while pos_stack and (not destroyed):\n",
    "\n",
    "                rival = pos_stack.pop()\n",
    "\n",
    "                if magnitude < rival:\n",
    "                    pos_stack.append(rival)\n",
    "                    destroyed = True\n",
    "\n",
    "                elif magnitude == rival:\n",
    "                    destroyed = True\n",
    "\n",
    "            if not destroyed:\n",
    "                neg_stack.append(current)\n",
    "\n",
    "    return neg_stack + pos_stack\n",
    "                    "
   ]
  },
  {
   "cell_type": "markdown",
   "id": "4a833389-10be-445f-a294-48b88aeb4318",
   "metadata": {},
   "source": [
    "#### Testing:"
   ]
  },
  {
   "cell_type": "code",
   "execution_count": 44,
   "id": "7a62363a-3933-471b-97c2-770ebcabc3aa",
   "metadata": {},
   "outputs": [
    {
     "name": "stdout",
     "output_type": "stream",
     "text": [
      "[-2]\n"
     ]
    }
   ],
   "source": [
    "params = [\n",
    "    [-2,2,-1,-2]\n",
    "]\n",
    "for i in range(len(params)):\n",
    "    print(asteroid_collision(params[i]))"
   ]
  },
  {
   "cell_type": "markdown",
   "id": "52c5c4f2-6ecb-40eb-badd-2af9f5071a86",
   "metadata": {},
   "source": [
    "#### Notes:"
   ]
  },
  {
   "cell_type": "markdown",
   "id": "9d5b8b27-d9a2-4413-9c0f-61a32bf0d87a",
   "metadata": {},
   "source": []
  },
  {
   "cell_type": "markdown",
   "id": "5e9b32d0-4873-4f8a-a503-5a95aecad3cc",
   "metadata": {},
   "source": [
    "### Helpful Resources:"
   ]
  },
  {
   "cell_type": "markdown",
   "id": "d2035565-e17d-42b1-bb43-68674223cf11",
   "metadata": {},
   "source": []
  }
 ],
 "metadata": {
  "kernelspec": {
   "display_name": "Python 3 (ipykernel)",
   "language": "python",
   "name": "python3"
  },
  "language_info": {
   "codemirror_mode": {
    "name": "ipython",
    "version": 3
   },
   "file_extension": ".py",
   "mimetype": "text/x-python",
   "name": "python",
   "nbconvert_exporter": "python",
   "pygments_lexer": "ipython3",
   "version": "3.12.2"
  }
 },
 "nbformat": 4,
 "nbformat_minor": 5
}
