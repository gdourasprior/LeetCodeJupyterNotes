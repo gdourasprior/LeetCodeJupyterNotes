{
 "cells": [
  {
   "cell_type": "markdown",
   "id": "3df51a72-bbec-48ed-b3e5-2479ac73bc5e",
   "metadata": {},
   "source": [
    "### The Problem:"
   ]
  },
  {
   "cell_type": "markdown",
   "id": "0143ac4f-2aad-450c-9b0a-05e8756889b8",
   "metadata": {},
   "source": [
    "The problem can be found [**here**](https://leetcode.com/problems/max-consecutive-ones-iii/description/?envType=study-plan-v2&envId=leetcode-75)."
   ]
  },
  {
   "cell_type": "markdown",
   "id": "8dcb4eb0-224a-403b-9f0e-43473431a911",
   "metadata": {},
   "source": [
    "### My Code:"
   ]
  },
  {
   "cell_type": "markdown",
   "id": "46b0def3-fe00-43ef-a5d0-716184a45b7c",
   "metadata": {},
   "source": [
    "#### Initial Solution"
   ]
  },
  {
   "cell_type": "code",
   "execution_count": 1,
   "id": "250b14fe-447a-4f2a-8668-3c5a48878e9a",
   "metadata": {},
   "outputs": [],
   "source": [
    "def longest_ones(nums: list[int], k: int) -> int:\n",
    "    \"\"\"Find the maximum number of consecutive ones in given list.\n",
    "\n",
    "    :param nums: list of integers [0,1]\n",
    "    :param k: the number of 0s that can be flipped to be 1\n",
    "    :return mx: the maximum length of consecutive ones found in nums\n",
    "    \"\"\"\n",
    "\n",
    "    mx = 0\n",
    "    cur_mx = 0\n",
    "    l, r = 0, k\n",
    "\n",
    "    for i in range(l, r):\n",
    "        if nums[i] == 0:\n",
    "            cur_mx += 1\n",
    "            k -= 1\n",
    "        else:\n",
    "            cur_mx += 1\n",
    "\n",
    "    sub_array = nums[l:r]\n",
    "\n",
    "    mx = cur_mx\n",
    "\n",
    "    while r < len(nums):\n",
    "        sub_array = nums[l:r]  # DELETE THIS\n",
    "\n",
    "        if nums[r] == 1:\n",
    "            cur_mx += 1\n",
    "        else:\n",
    "            if k > 0:\n",
    "                cur_mx += 1\n",
    "                k -= 1\n",
    "            else:\n",
    "                cur_mx += 1\n",
    "                k -= 1\n",
    "                while k < 1:  # This operation could be simplified(?)\n",
    "                    if nums[l] == 1:\n",
    "                        cur_mx -= 1\n",
    "                    else:\n",
    "                        cur_mx -= 1\n",
    "                        k += 1\n",
    "\n",
    "                    l += 1\n",
    "\n",
    "        if mx < cur_mx:\n",
    "            mx = cur_mx\n",
    "\n",
    "        r += 1\n",
    "\n",
    "    return mx\n"
   ]
  },
  {
   "cell_type": "code",
   "execution_count": 2,
   "id": "2afd6056-f91d-4697-a90c-9bcd0f9f4459",
   "metadata": {},
   "outputs": [],
   "source": [
    "##### Improved Solution"
   ]
  },
  {
   "cell_type": "code",
   "execution_count": 3,
   "id": "a12050c5-1e74-4d24-ad8e-c1b3b676f46c",
   "metadata": {},
   "outputs": [],
   "source": [
    "def longest_ones(nums: list[int], k: int) -> int:\n",
    "    \"\"\"Find the maximum number of consecutive ones in given list.\n",
    "\n",
    "    :param nums: list of integers [0,1]\n",
    "    :param k: the number of 0s that can be flipped to be 1\n",
    "    :return mx: the maximum length of consecutive ones found in nums\n",
    "    \"\"\"\n",
    "\n",
    "    l, r = 0, 0\n",
    "    c, m = 0, 0\n",
    "\n",
    "    while r < len(nums):\n",
    "\n",
    "        if nums[r] == 1:\n",
    "            c += 1  # If r lands on a '1', add to counter and continue\n",
    "            \n",
    "        else:\n",
    "\n",
    "            if k > 0:  # If r can afford to flip a '0', then do so and continue as if it were a '1'\n",
    "                k -= 1\n",
    "                c += 1\n",
    "                \n",
    "            else:\n",
    "\n",
    "                k -= 1\n",
    "\n",
    "                \"\"\"\n",
    "                This code advances through the array/list until r can afford to flip\n",
    "                the current '0' that it has 'landed on'. Anyone '1' l lands on are\n",
    "                removed from the count. The reason for not removing from the count when\n",
    "                an l lands on an '0' is because we're looking to swap the first found '0'\n",
    "                for the current '0' (which r is on).\n",
    "                \"\"\"\n",
    "                \n",
    "                while l < r and k < 0:\n",
    "                    \n",
    "                    if nums[l] == 1:\n",
    "                        c -= 1\n",
    "                        \n",
    "                    else:\n",
    "                        k += 1\n",
    "\n",
    "                    l += 1\n",
    "                \n",
    "        if m < c:\n",
    "            m = c\n",
    "\n",
    "        r += 1\n",
    "\n",
    "    return m\n",
    "    "
   ]
  },
  {
   "cell_type": "markdown",
   "id": "4a833389-10be-445f-a294-48b88aeb4318",
   "metadata": {},
   "source": [
    "#### Testing:"
   ]
  },
  {
   "cell_type": "code",
   "execution_count": 4,
   "id": "7a62363a-3933-471b-97c2-770ebcabc3aa",
   "metadata": {},
   "outputs": [
    {
     "name": "stdout",
     "output_type": "stream",
     "text": [
      "6\n"
     ]
    }
   ],
   "source": [
    "params = [\n",
    "    [[0,0,1,0,0,1,0,1], 3]\n",
    "]\n",
    "for i in range(len(params)):\n",
    "    print(longest_ones(params[i][0], params[i][1]))"
   ]
  },
  {
   "cell_type": "markdown",
   "id": "52c5c4f2-6ecb-40eb-badd-2af9f5071a86",
   "metadata": {},
   "source": [
    "#### Notes:"
   ]
  },
  {
   "cell_type": "markdown",
   "id": "9d5b8b27-d9a2-4413-9c0f-61a32bf0d87a",
   "metadata": {},
   "source": [
    "This is a variable sliding window problem. The difficulty comes from the fact that\n",
    "the window must grow or shrink in accordance with the value of k. The original algorithm failed to effectively deal with shrinking the window at the point in which 'k' had been utterly spent. At this point, it is necessary to advance until you can 'unflip' a 0 to have enough k to advance.\n",
    "\n",
    "For this problem, it helped to get out some pen and paper and physically draw out the\n",
    "problem and work out a solution!"
   ]
  },
  {
   "cell_type": "markdown",
   "id": "5e9b32d0-4873-4f8a-a503-5a95aecad3cc",
   "metadata": {},
   "source": [
    "### Helpful Resources:"
   ]
  },
  {
   "cell_type": "markdown",
   "id": "d2035565-e17d-42b1-bb43-68674223cf11",
   "metadata": {},
   "source": []
  }
 ],
 "metadata": {
  "kernelspec": {
   "display_name": "Python 3 (ipykernel)",
   "language": "python",
   "name": "python3"
  },
  "language_info": {
   "codemirror_mode": {
    "name": "ipython",
    "version": 3
   },
   "file_extension": ".py",
   "mimetype": "text/x-python",
   "name": "python",
   "nbconvert_exporter": "python",
   "pygments_lexer": "ipython3",
   "version": "3.12.2"
  }
 },
 "nbformat": 4,
 "nbformat_minor": 5
}
