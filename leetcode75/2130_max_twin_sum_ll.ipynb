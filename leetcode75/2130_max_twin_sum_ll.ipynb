{
 "cells": [
  {
   "cell_type": "markdown",
   "id": "3df51a72-bbec-48ed-b3e5-2479ac73bc5e",
   "metadata": {},
   "source": [
    "### The Problem:"
   ]
  },
  {
   "cell_type": "markdown",
   "id": "0143ac4f-2aad-450c-9b0a-05e8756889b8",
   "metadata": {},
   "source": [
    "The problem can be found [**here**](putLinkHere)."
   ]
  },
  {
   "cell_type": "markdown",
   "id": "8dcb4eb0-224a-403b-9f0e-43473431a911",
   "metadata": {},
   "source": [
    "### My Code:"
   ]
  },
  {
   "cell_type": "code",
   "execution_count": 1,
   "id": "94fedd80-a124-49c7-8c4d-4af008bae2f2",
   "metadata": {},
   "outputs": [],
   "source": [
    "from typing import List, Optional"
   ]
  },
  {
   "cell_type": "code",
   "execution_count": 2,
   "id": "b85a3724-0db4-42c1-be9f-8b9e11b7d525",
   "metadata": {},
   "outputs": [],
   "source": [
    "# Definition for singly-linked list.\n",
    "class ListNode:\n",
    "    def __init__(self, x):\n",
    "        self.val = x\n",
    "        self.next = None\n",
    "\n",
    "def create_list(arr: List[int] = None, pos: int = -1) -> ListNode:\n",
    "    if arr == None or len(arr) == 0:\n",
    "        return None\n",
    "\n",
    "    head = ListNode(arr[0])\n",
    "    current = head\n",
    "\n",
    "    loop = head\n",
    "\n",
    "    for i in range(1, len(arr)):\n",
    "        current.next = ListNode(arr[i])\n",
    "\n",
    "        current = current.next\n",
    "\n",
    "        if i == pos:\n",
    "            loop = current\n",
    "\n",
    "    if pos != -1:\n",
    "        current.next = loop\n",
    "\n",
    "    return head\n",
    "\n",
    "\n",
    "def print_list(head: ListNode) -> None:\n",
    "    current = head\n",
    "\n",
    "    while current != None:\n",
    "        print(current.val, end=\", \")\n",
    "        current = current.next\n",
    "\n",
    "    print()\n",
    "\n",
    "    return None"
   ]
  },
  {
   "cell_type": "markdown",
   "id": "46b0def3-fe00-43ef-a5d0-716184a45b7c",
   "metadata": {},
   "source": [
    "#### Initial Solution"
   ]
  },
  {
   "cell_type": "code",
   "execution_count": 28,
   "id": "250b14fe-447a-4f2a-8668-3c5a48878e9a",
   "metadata": {},
   "outputs": [],
   "source": [
    "class Solution:\n",
    "    def pairSum(self, head: Optional[ListNode]) -> int:\n",
    "        \"\"\"Find the greatest sum of each node pair\n",
    "\n",
    "        :param head: head of ll\n",
    "        :return: largest sum\n",
    "        \"\"\"\n",
    "        curr = head\n",
    "        nxt = head.next\n",
    "\n",
    "        if not nxt.next:\n",
    "            return curr.val + nxt.val\n",
    "\n",
    "        after = nxt.next\n",
    "\n",
    "        mx, x = 0, 0\n",
    "\n",
    "        n = 0\n",
    "\n",
    "        # find list length\n",
    "\n",
    "        while curr != None:\n",
    "            curr = curr.next\n",
    "            n += 1\n",
    "\n",
    "        h = n // 2\n",
    "        i = 0\n",
    "\n",
    "        curr = head\n",
    "\n",
    "        while nxt != None:\n",
    "            if i >= h:\n",
    "                nxt.next = curr\n",
    "                if i == h + 1:\n",
    "                    curr.next = None\n",
    "                curr = nxt\n",
    "                nxt = after\n",
    "            else:\n",
    "                curr = curr.next\n",
    "                nxt = nxt.next\n",
    "                after = nxt.next\n",
    "\n",
    "            i += 1\n",
    "\n",
    "        tail = curr\n",
    "        curr = head\n",
    "        i = 0\n",
    "\n",
    "        while i <= h:\n",
    "            x = curr.val + tail.val\n",
    "\n",
    "            mx = max(mx, x)\n",
    "\n",
    "            curr = curr.next\n",
    "            tail = tail.next\n",
    "            i += 1\n",
    "\n",
    "        return mx"
   ]
  },
  {
   "cell_type": "markdown",
   "id": "ed459cb4-0dbf-4c7a-93f2-bb2dda633b22",
   "metadata": {},
   "source": [
    "#### Better LL so"
   ]
  },
  {
   "cell_type": "code",
   "execution_count": 44,
   "id": "e2dcf94f-3a86-4e3c-9327-d75ef61ae222",
   "metadata": {},
   "outputs": [],
   "source": [
    "class Solution:\n",
    "    def pairSum(self, head: Optional[ListNode]) -> int:\n",
    "        \"\"\"Find the greatest sum of each node pair\n",
    "\n",
    "        :param head: head of ll\n",
    "        :return: largest sum\n",
    "        \"\"\"\n",
    "        slow = head\n",
    "\n",
    "        if not slow.next.next:\n",
    "            return slow.val + slow.next.val\n",
    "\n",
    "        fast = slow\n",
    "        stack = []\n",
    "\n",
    "        while fast:\n",
    "            stack.append(slow.val)\n",
    "            slow = slow.next\n",
    "            fast = fast.next.next\n",
    "\n",
    "        mx = 0\n",
    "\n",
    "        while slow:\n",
    "            x = slow.val + stack.pop()\n",
    "            mx = max(mx, x)\n",
    "\n",
    "            slow = slow.next\n",
    "\n",
    "        return mx"
   ]
  },
  {
   "cell_type": "markdown",
   "id": "5a6ed995-8605-4243-b7c1-5575cedce5b5",
   "metadata": {},
   "source": [
    "##### Improved Solution"
   ]
  },
  {
   "cell_type": "code",
   "execution_count": 40,
   "id": "a12050c5-1e74-4d24-ad8e-c1b3b676f46c",
   "metadata": {},
   "outputs": [],
   "source": [
    "class Solution:\n",
    "    def pairSum(self, head: Optional[ListNode]) -> int:\n",
    "        \"\"\"Find the greatest sum of each node pair\n",
    "\n",
    "        :param head: head of ll\n",
    "        :return: largest sum\n",
    "        \"\"\"\n",
    "        curr = head\n",
    "\n",
    "        if not curr.next.next:\n",
    "            return curr.val + curr.next.val\n",
    "\n",
    "        vals = dict()\n",
    "\n",
    "        n = 0\n",
    "\n",
    "        while curr != None:\n",
    "            vals[n] = curr.val\n",
    "            curr = curr.next\n",
    "            n += 1\n",
    "\n",
    "        mx = 0\n",
    "\n",
    "        h = n // 2\n",
    "\n",
    "        for i in range(0, h):\n",
    "            mx = max(mx, (vals[i] + vals[n-1-i]))\n",
    "\n",
    "        return mx"
   ]
  },
  {
   "cell_type": "markdown",
   "id": "4a833389-10be-445f-a294-48b88aeb4318",
   "metadata": {},
   "source": [
    "#### Testing:"
   ]
  },
  {
   "cell_type": "code",
   "execution_count": 45,
   "id": "7a62363a-3933-471b-97c2-770ebcabc3aa",
   "metadata": {},
   "outputs": [
    {
     "name": "stdout",
     "output_type": "stream",
     "text": [
      "6\n",
      "7\n",
      "100001\n"
     ]
    }
   ],
   "source": [
    "params = [\n",
    "    [[5,4,2,1], -1],\n",
    "    [[4,2,2,3], -1],\n",
    "    [[1,100000], -1]\n",
    "]\n",
    "\n",
    "s = Solution()\n",
    "\n",
    "for i in range(len(params)):\n",
    "    head = create_list(params[i][0], params[i][1])\n",
    "    print(s.pairSum(head))"
   ]
  },
  {
   "cell_type": "markdown",
   "id": "52c5c4f2-6ecb-40eb-badd-2af9f5071a86",
   "metadata": {},
   "source": [
    "#### Notes:"
   ]
  },
  {
   "cell_type": "markdown",
   "id": "9d5b8b27-d9a2-4413-9c0f-61a32bf0d87a",
   "metadata": {},
   "source": [
    "- Example\n",
    "- Example Two"
   ]
  },
  {
   "cell_type": "markdown",
   "id": "5e9b32d0-4873-4f8a-a503-5a95aecad3cc",
   "metadata": {},
   "source": [
    "### Helpful Resources:"
   ]
  },
  {
   "cell_type": "markdown",
   "id": "d2035565-e17d-42b1-bb43-68674223cf11",
   "metadata": {},
   "source": []
  }
 ],
 "metadata": {
  "kernelspec": {
   "display_name": "Python 3 (ipykernel)",
   "language": "python",
   "name": "python3"
  },
  "language_info": {
   "codemirror_mode": {
    "name": "ipython",
    "version": 3
   },
   "file_extension": ".py",
   "mimetype": "text/x-python",
   "name": "python",
   "nbconvert_exporter": "python",
   "pygments_lexer": "ipython3",
   "version": "3.12.2"
  }
 },
 "nbformat": 4,
 "nbformat_minor": 5
}
