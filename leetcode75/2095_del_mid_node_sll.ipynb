{
 "cells": [
  {
   "cell_type": "markdown",
   "id": "3df51a72-bbec-48ed-b3e5-2479ac73bc5e",
   "metadata": {},
   "source": [
    "### The Problem:"
   ]
  },
  {
   "cell_type": "markdown",
   "id": "0143ac4f-2aad-450c-9b0a-05e8756889b8",
   "metadata": {},
   "source": [
    "The problem can be found [**here**](putLinkHere.com)."
   ]
  },
  {
   "cell_type": "markdown",
   "id": "8dcb4eb0-224a-403b-9f0e-43473431a911",
   "metadata": {},
   "source": [
    "### My Code:"
   ]
  },
  {
   "cell_type": "code",
   "execution_count": 23,
   "id": "698f39e3-43aa-47f3-bc2b-202946ececa7",
   "metadata": {},
   "outputs": [],
   "source": [
    "class ListNode:\n",
    "    \n",
    "    def __init__(self, val=0, next=None):\n",
    "        \n",
    "        self.val = val\n",
    "        self.next = next\n",
    "\n",
    "\n",
    "def createList(nums: list) -> ListNode:\n",
    "    if not nums:\n",
    "        return None\n",
    "\n",
    "    head = None\n",
    "    current = None\n",
    "\n",
    "    for i in range(len(nums)):\n",
    "\n",
    "        new = ListNode(nums[i])\n",
    "\n",
    "        if not head:\n",
    "            head = new\n",
    "\n",
    "        else:\n",
    "            current = head\n",
    "\n",
    "            while current.next:\n",
    "                current = current.next\n",
    "\n",
    "            current.next = new\n",
    "\n",
    "    return head\n",
    "\n",
    "\n",
    "def printList(head: ListNode) -> None:\n",
    "\n",
    "    current = head\n",
    "    result = list()\n",
    "\n",
    "    while current:\n",
    "        result.append(str(current.val))\n",
    "        current = current.next\n",
    "\n",
    "    print(\" \".join(result))\n"
   ]
  },
  {
   "cell_type": "markdown",
   "id": "46b0def3-fe00-43ef-a5d0-716184a45b7c",
   "metadata": {},
   "source": [
    "#### Initial Solution"
   ]
  },
  {
   "cell_type": "code",
   "execution_count": 34,
   "id": "250b14fe-447a-4f2a-8668-3c5a48878e9a",
   "metadata": {},
   "outputs": [],
   "source": [
    "class Solution:\n",
    "    \n",
    "    def deleteMiddle(self, head: ListNode) -> ListNode:\n",
    "        \"\"\"Delete the middle node of SLL\n",
    "\n",
    "        :param head: head node of SLL\n",
    "        :return: head of modified list\n",
    "        \"\"\"\n",
    "        n = 1\n",
    "\n",
    "        current = head\n",
    "\n",
    "        while current.next:\n",
    "            n += 1\n",
    "            current = current.next\n",
    "\n",
    "        if n == 1:\n",
    "            return None\n",
    "\n",
    "        m = n // 2 - 1\n",
    "\n",
    "        current = head\n",
    "\n",
    "        for i in range(m):\n",
    "            current = current.next\n",
    "\n",
    "        current.next = current.next.next\n",
    "\n",
    "        return head\n"
   ]
  },
  {
   "cell_type": "markdown",
   "id": "5a6ed995-8605-4243-b7c1-5575cedce5b5",
   "metadata": {},
   "source": [
    "##### Improved Solution"
   ]
  },
  {
   "cell_type": "code",
   "execution_count": 73,
   "id": "a12050c5-1e74-4d24-ad8e-c1b3b676f46c",
   "metadata": {},
   "outputs": [],
   "source": [
    "class Solution:\n",
    "    \n",
    "    def deleteMiddle(self, head: ListNode) -> ListNode:\n",
    "        \"\"\"Delete the middle node of SLL\n",
    "\n",
    "        :param head: head node of SLL\n",
    "        :return: head of modified list\n",
    "        \"\"\"\n",
    "        prior = ListNode(next=head)\n",
    "        slow, fast = prior, head\n",
    "\n",
    "        while fast and fast.next:\n",
    "            fast = fast.next.next\n",
    "            slow = slow.next\n",
    "\n",
    "        slow.next = slow.next.next\n",
    "\n",
    "        return prior.next"
   ]
  },
  {
   "cell_type": "markdown",
   "id": "4a833389-10be-445f-a294-48b88aeb4318",
   "metadata": {},
   "source": [
    "#### Testing:"
   ]
  },
  {
   "cell_type": "code",
   "execution_count": 74,
   "id": "7a62363a-3933-471b-97c2-770ebcabc3aa",
   "metadata": {},
   "outputs": [
    {
     "name": "stdout",
     "output_type": "stream",
     "text": [
      "1 3 4 7 1 2 6\n",
      "1 3 4 1 2 6\n",
      "1 2 3 4\n",
      "1 2 4\n",
      "2 1\n",
      "2\n",
      "1\n",
      "!\n",
      "\n"
     ]
    }
   ],
   "source": [
    "params = [\n",
    "    [1,3,4,7,1,2,6],\n",
    "    [1,2,3,4],\n",
    "    [2,1],\n",
    "    [1]\n",
    "]\n",
    "\n",
    "s = Solution()\n",
    "\n",
    "for i in range(len(params)):\n",
    "    head = createList(params[i])\n",
    "    printList(head)\n",
    "\n",
    "    head = s.deleteMiddle(head)\n",
    "    \n",
    "    if not head:\n",
    "        print(\"!\")\n",
    "        \n",
    "    printList(head)\n"
   ]
  },
  {
   "cell_type": "markdown",
   "id": "52c5c4f2-6ecb-40eb-badd-2af9f5071a86",
   "metadata": {},
   "source": [
    "#### Notes:"
   ]
  },
  {
   "cell_type": "markdown",
   "id": "9d5b8b27-d9a2-4413-9c0f-61a32bf0d87a",
   "metadata": {},
   "source": [
    "- Example\n",
    "- Example Two"
   ]
  },
  {
   "cell_type": "markdown",
   "id": "5e9b32d0-4873-4f8a-a503-5a95aecad3cc",
   "metadata": {},
   "source": [
    "### Helpful Resources:"
   ]
  },
  {
   "cell_type": "markdown",
   "id": "d2035565-e17d-42b1-bb43-68674223cf11",
   "metadata": {},
   "source": []
  }
 ],
 "metadata": {
  "kernelspec": {
   "display_name": "Python 3 (ipykernel)",
   "language": "python",
   "name": "python3"
  },
  "language_info": {
   "codemirror_mode": {
    "name": "ipython",
    "version": 3
   },
   "file_extension": ".py",
   "mimetype": "text/x-python",
   "name": "python",
   "nbconvert_exporter": "python",
   "pygments_lexer": "ipython3",
   "version": "3.12.2"
  }
 },
 "nbformat": 4,
 "nbformat_minor": 5
}
