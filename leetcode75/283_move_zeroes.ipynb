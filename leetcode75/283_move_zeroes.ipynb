{
 "cells": [
  {
   "cell_type": "markdown",
   "id": "3df51a72-bbec-48ed-b3e5-2479ac73bc5e",
   "metadata": {},
   "source": [
    "### The Problem:"
   ]
  },
  {
   "cell_type": "markdown",
   "id": "0143ac4f-2aad-450c-9b0a-05e8756889b8",
   "metadata": {},
   "source": [
    "The problem can be found [**here**](https://leetcode.com/problems/move-zeroes/description/?envType=study-plan-v2&envId=leetcode-75)."
   ]
  },
  {
   "cell_type": "markdown",
   "id": "8dcb4eb0-224a-403b-9f0e-43473431a911",
   "metadata": {},
   "source": [
    "### My Code:"
   ]
  },
  {
   "cell_type": "markdown",
   "id": "66002fdc-aa50-4218-802e-f40024f0be55",
   "metadata": {},
   "source": [
    "#### Initial Attempt"
   ]
  },
  {
   "cell_type": "code",
   "execution_count": 4,
   "id": "a8ded7ff-c0bb-4824-ae6f-e319f36a9747",
   "metadata": {},
   "outputs": [],
   "source": [
    "def move_zeroes(nums: list[int]) -> None:\n",
    "    \"\"\"Move the '0's found within 'nums' to the end without changing the order.\n",
    "\n",
    "    This function does not copy the array, operates in-place\n",
    "    \n",
    "    :param nums: an array of integers\n",
    "    \"\"\"\n",
    "    n = len(nums)\n",
    "    \n",
    "    if n == 1:\n",
    "        return\n",
    "\n",
    "    f = 0\n",
    "\n",
    "    for s in range(n):\n",
    "\n",
    "        if not nums[s]:\n",
    "            \n",
    "            f = s + 1\n",
    "            \n",
    "            while f < n:\n",
    "\n",
    "                if nums[f]:\n",
    "\n",
    "                    break\n",
    "\n",
    "                f += 1\n",
    "\n",
    "            if f < n:\n",
    "                nums[s], nums[f] = nums[f], nums[s]\n",
    "            else:\n",
    "                return\n",
    "    "
   ]
  },
  {
   "cell_type": "markdown",
   "id": "98ba6c42-d738-4c18-a38f-1cf3021c9ad4",
   "metadata": {},
   "source": [
    "#### Improved"
   ]
  },
  {
   "cell_type": "code",
   "execution_count": 1,
   "id": "250b14fe-447a-4f2a-8668-3c5a48878e9a",
   "metadata": {},
   "outputs": [],
   "source": [
    "def move_zeroes(nums: list[int]) -> None:\n",
    "    \"\"\"Move the '0's found within 'nums' to the end without changing the order.\n",
    "\n",
    "    This function does not copy the array, operates in-place\n",
    "    \n",
    "    :param nums: an array of integers\n",
    "    \"\"\"\n",
    "    \n",
    "    "
   ]
  },
  {
   "cell_type": "markdown",
   "id": "4a833389-10be-445f-a294-48b88aeb4318",
   "metadata": {},
   "source": [
    "#### Testing:"
   ]
  },
  {
   "cell_type": "code",
   "execution_count": 6,
   "id": "7a62363a-3933-471b-97c2-770ebcabc3aa",
   "metadata": {},
   "outputs": [
    {
     "name": "stdout",
     "output_type": "stream",
     "text": [
      "[1, 3, 12, 0, 0]\n",
      "[0]\n",
      "[12, 3, 1, 0, 0]\n",
      "[0, 0, 0, 0]\n",
      "[1, 3, 12, 0, 0]\n"
     ]
    }
   ],
   "source": [
    "params = [\n",
    "    [0,1,0,3,12],\n",
    "    [0],\n",
    "    [12,3,0,1,0],\n",
    "    [0,0,0,0],\n",
    "    [1,3,12,0,0]\n",
    "]\n",
    "for i in range(len(params)):\n",
    "    move_zeroes(params[i])\n",
    "\n",
    "for i in range(len(params)):\n",
    "    print(params[i])"
   ]
  },
  {
   "cell_type": "markdown",
   "id": "52c5c4f2-6ecb-40eb-badd-2af9f5071a86",
   "metadata": {},
   "source": [
    "#### Notes:"
   ]
  },
  {
   "cell_type": "markdown",
   "id": "9d5b8b27-d9a2-4413-9c0f-61a32bf0d87a",
   "metadata": {},
   "source": [
    "- Two Pointer Problem"
   ]
  },
  {
   "cell_type": "markdown",
   "id": "5e9b32d0-4873-4f8a-a503-5a95aecad3cc",
   "metadata": {},
   "source": [
    "### Helpful Resources:"
   ]
  },
  {
   "cell_type": "markdown",
   "id": "d2035565-e17d-42b1-bb43-68674223cf11",
   "metadata": {},
   "source": []
  }
 ],
 "metadata": {
  "kernelspec": {
   "display_name": "Python 3 (ipykernel)",
   "language": "python",
   "name": "python3"
  },
  "language_info": {
   "codemirror_mode": {
    "name": "ipython",
    "version": 3
   },
   "file_extension": ".py",
   "mimetype": "text/x-python",
   "name": "python",
   "nbconvert_exporter": "python",
   "pygments_lexer": "ipython3",
   "version": "3.12.2"
  }
 },
 "nbformat": 4,
 "nbformat_minor": 5
}
