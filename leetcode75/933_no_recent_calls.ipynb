{
 "cells": [
  {
   "cell_type": "markdown",
   "id": "3df51a72-bbec-48ed-b3e5-2479ac73bc5e",
   "metadata": {
    "editable": true,
    "slideshow": {
     "slide_type": ""
    },
    "tags": []
   },
   "source": [
    "### The Problem:"
   ]
  },
  {
   "cell_type": "markdown",
   "id": "0143ac4f-2aad-450c-9b0a-05e8756889b8",
   "metadata": {},
   "source": [
    "The problem can be found [**here**](https://leetcode.com/problems/number-of-recent-calls/description/?envType=study-plan-v2&envId=leetcode-75)."
   ]
  },
  {
   "cell_type": "markdown",
   "id": "8dcb4eb0-224a-403b-9f0e-43473431a911",
   "metadata": {},
   "source": [
    "### My Code:"
   ]
  },
  {
   "cell_type": "markdown",
   "id": "46b0def3-fe00-43ef-a5d0-716184a45b7c",
   "metadata": {},
   "source": [
    "#### Initial Solution"
   ]
  },
  {
   "cell_type": "code",
   "execution_count": 40,
   "id": "250b14fe-447a-4f2a-8668-3c5a48878e9a",
   "metadata": {
    "editable": true,
    "scrolled": true,
    "slideshow": {
     "slide_type": ""
    },
    "tags": []
   },
   "outputs": [],
   "source": [
    "class RecentCounter:\n",
    "    \"\"\"A counter that logs previous requests.\"\"\"\n",
    "\n",
    "    def __init__(self):\n",
    "        self.RANGE = 3000\n",
    "        self.requests = list()\n",
    "        self.counter = 0\n",
    "\n",
    "\n",
    "    def queue(self, t: int) -> None:\n",
    "        \"\"\"Add item to beginning of queue.\n",
    "\n",
    "        :param t: the timestamp\n",
    "        \"\"\"\n",
    "        self.counter += 1\n",
    "\n",
    "        self.requests.append(t)\n",
    "\n",
    "\n",
    "    def dequeue(self) -> int:\n",
    "        \"\"\"Remove item from queue.\"\"\"\n",
    "\n",
    "        self.counter -= 1\n",
    "\n",
    "        return  self.requests.pop(0)\n",
    "\n",
    "\n",
    "    def ping(self, t: int) -> int:\n",
    "        \"\"\"Determine how many pings have been sent within range\n",
    "\n",
    "        :param t: a new request for time t (ms)\n",
    "        \"\"\"\n",
    "        lower =  t - self.RANGE\n",
    "        self.queue(t)\n",
    "\n",
    "        while self.counter > 0 and self.requests[0] < lower:\n",
    "            self.dequeue()\n",
    "\n",
    "        return self.counter\n"
   ]
  },
  {
   "cell_type": "markdown",
   "id": "020fd9ed-f76d-4869-b345-c7d6db94b130",
   "metadata": {},
   "source": [
    "##### Improved Solution"
   ]
  },
  {
   "cell_type": "code",
   "execution_count": 41,
   "id": "a12050c5-1e74-4d24-ad8e-c1b3b676f46c",
   "metadata": {},
   "outputs": [],
   "source": [
    "class RecentCounter:\n",
    "    \"\"\"A counter that logs previous requests.\"\"\"\n",
    "\n",
    "    def __init__(self):\n",
    "        self.RANGE = 3000\n",
    "        self.requests = list()\n",
    "        self.n = 0\n",
    "        self.start = 0\n",
    "\n",
    "\n",
    "    def ping(self, t: int) -> int:\n",
    "        \"\"\"Determine how many pings have been sent within range\n",
    "\n",
    "        :param t: a new request for time t (ms)\n",
    "        \"\"\"\n",
    "        self.requests.append(t)\n",
    "        self.n += 1\n",
    "\n",
    "        while self.requests[self.start] < t - 3000:\n",
    "            self.start += 1\n",
    "\n",
    "        return self.n - self.start"
   ]
  },
  {
   "cell_type": "markdown",
   "id": "4a833389-10be-445f-a294-48b88aeb4318",
   "metadata": {},
   "source": [
    "#### Testing:"
   ]
  },
  {
   "cell_type": "code",
   "execution_count": 42,
   "id": "7a62363a-3933-471b-97c2-770ebcabc3aa",
   "metadata": {
    "editable": true,
    "slideshow": {
     "slide_type": ""
    },
    "tags": []
   },
   "outputs": [
    {
     "name": "stdout",
     "output_type": "stream",
     "text": [
      "1\n",
      "2\n",
      "3\n",
      "3\n"
     ]
    }
   ],
   "source": [
    "params = [\n",
    "    1,\n",
    "    100,\n",
    "    3001,\n",
    "    3002\n",
    "]\n",
    "\n",
    "s = RecentCounter()\n",
    "\n",
    "for i in range(len(params)):\n",
    "    print(s.ping(params[i]))\n",
    "    "
   ]
  },
  {
   "cell_type": "markdown",
   "id": "52c5c4f2-6ecb-40eb-badd-2af9f5071a86",
   "metadata": {},
   "source": [
    "#### Notes:"
   ]
  },
  {
   "cell_type": "markdown",
   "id": "9d5b8b27-d9a2-4413-9c0f-61a32bf0d87a",
   "metadata": {},
   "source": [
    "- Example\n",
    "- Example Two"
   ]
  },
  {
   "cell_type": "markdown",
   "id": "5e9b32d0-4873-4f8a-a503-5a95aecad3cc",
   "metadata": {},
   "source": [
    "### Helpful Resources:"
   ]
  },
  {
   "cell_type": "markdown",
   "id": "d2035565-e17d-42b1-bb43-68674223cf11",
   "metadata": {},
   "source": []
  }
 ],
 "metadata": {
  "kernelspec": {
   "display_name": "Python 3 (ipykernel)",
   "language": "python",
   "name": "python3"
  },
  "language_info": {
   "codemirror_mode": {
    "name": "ipython",
    "version": 3
   },
   "file_extension": ".py",
   "mimetype": "text/x-python",
   "name": "python",
   "nbconvert_exporter": "python",
   "pygments_lexer": "ipython3",
   "version": "3.12.2"
  }
 },
 "nbformat": 4,
 "nbformat_minor": 5
}
