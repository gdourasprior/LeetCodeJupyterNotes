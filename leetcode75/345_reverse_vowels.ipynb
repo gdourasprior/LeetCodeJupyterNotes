{
 "cells": [
  {
   "cell_type": "markdown",
   "id": "3df51a72-bbec-48ed-b3e5-2479ac73bc5e",
   "metadata": {},
   "source": [
    "### The Problem:"
   ]
  },
  {
   "cell_type": "markdown",
   "id": "0143ac4f-2aad-450c-9b0a-05e8756889b8",
   "metadata": {},
   "source": [
    "The problem can be found [**here**](putLinkHere.com)."
   ]
  },
  {
   "cell_type": "markdown",
   "id": "8dcb4eb0-224a-403b-9f0e-43473431a911",
   "metadata": {},
   "source": [
    "### My Code:"
   ]
  },
  {
   "cell_type": "code",
   "execution_count": 9,
   "id": "250b14fe-447a-4f2a-8668-3c5a48878e9a",
   "metadata": {
    "editable": true,
    "slideshow": {
     "slide_type": ""
    },
    "tags": []
   },
   "outputs": [],
   "source": [
    "def reverse_vowels(s: str) -> str:\n",
    "    \"\"\"Reverse the order of only the vowels in the given string.\n",
    "\n",
    "    :param s: The string for which the vowels are to be reversed.\n",
    "    :return: 's' with its vowels reversed.\n",
    "    \"\"\"\n",
    "\n",
    "    v = set([\n",
    "        'A', 'a',\n",
    "        'E', 'e',\n",
    "        'I', 'i',\n",
    "        'O', 'o',\n",
    "        'U', 'u'\n",
    "    ])\n",
    "\n",
    "    s = list(s)\n",
    "\n",
    "    l, r = 0, len(s) - 1\n",
    "\n",
    "    while l < r:\n",
    "        if s[l] in v and s[r] in v:\n",
    "            t = s[l]\n",
    "            s[l] = s[r]\n",
    "            s[r] = t\n",
    "            l += 1\n",
    "            r -= 1\n",
    "\n",
    "        elif s[l] not in v:\n",
    "            l += 1\n",
    "        elif s[r] not in v:\n",
    "            r -= 1\n",
    "\n",
    "\n",
    "    return \"\".join(s)\n"
   ]
  },
  {
   "cell_type": "markdown",
   "id": "4a833389-10be-445f-a294-48b88aeb4318",
   "metadata": {},
   "source": [
    "#### Testing:"
   ]
  },
  {
   "cell_type": "code",
   "execution_count": 10,
   "id": "7a62363a-3933-471b-97c2-770ebcabc3aa",
   "metadata": {},
   "outputs": [
    {
     "name": "stdout",
     "output_type": "stream",
     "text": [
      "AceCreIm\n",
      "leotcede\n"
     ]
    }
   ],
   "source": [
    "s = [\n",
    "    \"IceCreAm\",\n",
    "    \"leetcode\"\n",
    "]\n",
    "for i in range(len(s)):\n",
    "    print(reverse_vowels(s[i]))"
   ]
  },
  {
   "cell_type": "markdown",
   "id": "52c5c4f2-6ecb-40eb-badd-2af9f5071a86",
   "metadata": {},
   "source": [
    "#### Notes:"
   ]
  },
  {
   "cell_type": "markdown",
   "id": "9d5b8b27-d9a2-4413-9c0f-61a32bf0d87a",
   "metadata": {},
   "source": [
    "- Example\n",
    "- Example Two"
   ]
  },
  {
   "cell_type": "markdown",
   "id": "5e9b32d0-4873-4f8a-a503-5a95aecad3cc",
   "metadata": {},
   "source": [
    "### Helpful Resources:"
   ]
  },
  {
   "cell_type": "markdown",
   "id": "d2035565-e17d-42b1-bb43-68674223cf11",
   "metadata": {},
   "source": []
  }
 ],
 "metadata": {
  "kernelspec": {
   "display_name": "Python 3 (ipykernel)",
   "language": "python",
   "name": "python3"
  },
  "language_info": {
   "codemirror_mode": {
    "name": "ipython",
    "version": 3
   },
   "file_extension": ".py",
   "mimetype": "text/x-python",
   "name": "python",
   "nbconvert_exporter": "python",
   "pygments_lexer": "ipython3",
   "version": "3.12.2"
  }
 },
 "nbformat": 4,
 "nbformat_minor": 5
}
