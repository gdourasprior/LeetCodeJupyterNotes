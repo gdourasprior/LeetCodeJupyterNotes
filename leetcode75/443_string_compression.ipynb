{
 "cells": [
  {
   "cell_type": "markdown",
   "id": "3df51a72-bbec-48ed-b3e5-2479ac73bc5e",
   "metadata": {},
   "source": [
    "### The Problem:"
   ]
  },
  {
   "cell_type": "markdown",
   "id": "0143ac4f-2aad-450c-9b0a-05e8756889b8",
   "metadata": {},
   "source": [
    "The problem can be found [**here**](https://leetcode.com/problems/string-compression/description/?envType=study-plan-v2&envId=leetcode-75)."
   ]
  },
  {
   "cell_type": "markdown",
   "id": "8dcb4eb0-224a-403b-9f0e-43473431a911",
   "metadata": {},
   "source": [
    "### My Code:"
   ]
  },
  {
   "cell_type": "markdown",
   "id": "46b0def3-fe00-43ef-a5d0-716184a45b7c",
   "metadata": {},
   "source": [
    "#### Initial Solution"
   ]
  },
  {
   "cell_type": "code",
   "execution_count": 1,
   "id": "250b14fe-447a-4f2a-8668-3c5a48878e9a",
   "metadata": {},
   "outputs": [],
   "source": [
    "\n",
    "def compress(chars: list[str]) -> int:\n",
    "    \"\"\"Compress the given char array.\n",
    "\n",
    "    Example:\n",
    "\n",
    "    a = [\"a\",\"a\",\"A\",\"A\",\"b\",\"C\",\"C\",\"C\", \"[\"]\n",
    "    compress(a) -> [\"a\",\"2\",\"A\",\"2\",\"b\",\"C\",\"3\",\"[\"]\n",
    "\n",
    "    The compressed char array is stored within the original\n",
    "    input array.\n",
    "\n",
    "    :param chars: list of chars\n",
    "    :return: the length of the new list\n",
    "    \"\"\"\n",
    "\n",
    "    length = len(chars)\n",
    "\n",
    "    if length == 1:\n",
    "        return 1\n",
    "\n",
    "    head, current, count, n = 0, 0, 0, 0\n",
    "\n",
    "    while head < length:\n",
    "        current = head\n",
    "        while current < length and chars[current] == chars[head]:\n",
    "            current += 1\n",
    "\n",
    "        chars[n] = chars[head]\n",
    "        n += 1\n",
    "\n",
    "        if current - head > 1:\n",
    "            count = str(current - head)\n",
    "\n",
    "            for digit in count:\n",
    "                chars[n] = digit\n",
    "                n += 1\n",
    "\n",
    "        head = current\n",
    "\n",
    "    return n\n",
    "        "
   ]
  },
  {
   "cell_type": "code",
   "execution_count": 2,
   "id": "2afd6056-f91d-4697-a90c-9bcd0f9f4459",
   "metadata": {},
   "outputs": [],
   "source": [
    "##### Improved Solution"
   ]
  },
  {
   "cell_type": "code",
   "execution_count": null,
   "id": "a12050c5-1e74-4d24-ad8e-c1b3b676f46c",
   "metadata": {},
   "outputs": [],
   "source": []
  },
  {
   "cell_type": "markdown",
   "id": "4a833389-10be-445f-a294-48b88aeb4318",
   "metadata": {},
   "source": [
    "#### Testing:"
   ]
  },
  {
   "cell_type": "code",
   "execution_count": 3,
   "id": "7a62363a-3933-471b-97c2-770ebcabc3aa",
   "metadata": {},
   "outputs": [
    {
     "name": "stdout",
     "output_type": "stream",
     "text": [
      "6\n",
      "3\n",
      "10\n"
     ]
    }
   ],
   "source": [
    "params = [\n",
    "    [\"a\",\"a\",\"b\",\"b\",\"c\",\"c\",\"c\"],\n",
    "    [\"a\",\"b\",\"c\",],\n",
    "    [\"a\",\"b\",\"a\",\"b\",\"A\",\"A\",\"A\",\"a\",\"a\",\"[\",\"]\"]\n",
    "]\n",
    "for i in range(len(params)):\n",
    "    print(compress(params[i]))"
   ]
  },
  {
   "cell_type": "markdown",
   "id": "52c5c4f2-6ecb-40eb-badd-2af9f5071a86",
   "metadata": {},
   "source": [
    "#### Notes:"
   ]
  },
  {
   "cell_type": "markdown",
   "id": "9d5b8b27-d9a2-4413-9c0f-61a32bf0d87a",
   "metadata": {},
   "source": [
    "I assume this problem to be a two pointer problem, in which we keep track of the 'head' of a potential group of character then iterate using a 'runner' to determine how long the group of characters beginning with the current head is. Record this into the array and then advance the head to the current position of the runner to begin 'compressing' the next group."
   ]
  },
  {
   "cell_type": "markdown",
   "id": "5e9b32d0-4873-4f8a-a503-5a95aecad3cc",
   "metadata": {},
   "source": [
    "### Helpful Resources:"
   ]
  },
  {
   "cell_type": "markdown",
   "id": "d2035565-e17d-42b1-bb43-68674223cf11",
   "metadata": {},
   "source": [
    "- [This](https://algo.monster/liteproblems/443) AlgoMonster article was helpful in understanding the logic."
   ]
  }
 ],
 "metadata": {
  "kernelspec": {
   "display_name": "Python 3 (ipykernel)",
   "language": "python",
   "name": "python3"
  },
  "language_info": {
   "codemirror_mode": {
    "name": "ipython",
    "version": 3
   },
   "file_extension": ".py",
   "mimetype": "text/x-python",
   "name": "python",
   "nbconvert_exporter": "python",
   "pygments_lexer": "ipython3",
   "version": "3.12.2"
  }
 },
 "nbformat": 4,
 "nbformat_minor": 5
}
