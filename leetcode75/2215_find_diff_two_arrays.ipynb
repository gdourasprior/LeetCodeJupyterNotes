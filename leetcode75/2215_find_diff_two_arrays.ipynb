{
 "cells": [
  {
   "cell_type": "markdown",
   "id": "3df51a72-bbec-48ed-b3e5-2479ac73bc5e",
   "metadata": {},
   "source": [
    "### The Problem:"
   ]
  },
  {
   "cell_type": "markdown",
   "id": "0143ac4f-2aad-450c-9b0a-05e8756889b8",
   "metadata": {},
   "source": [
    "The problem can be found [**here**](https://leetcode.com/problems/find-the-difference-of-two-arrays/description/?envType=study-plan-v2&envId=leetcode-75)."
   ]
  },
  {
   "cell_type": "markdown",
   "id": "8dcb4eb0-224a-403b-9f0e-43473431a911",
   "metadata": {},
   "source": [
    "### My Code:"
   ]
  },
  {
   "cell_type": "markdown",
   "id": "46b0def3-fe00-43ef-a5d0-716184a45b7c",
   "metadata": {},
   "source": [
    "#### Initial Solution"
   ]
  },
  {
   "cell_type": "code",
   "execution_count": 6,
   "id": "250b14fe-447a-4f2a-8668-3c5a48878e9a",
   "metadata": {},
   "outputs": [],
   "source": [
    "def find_difference(nums1: list[int], nums2: list[int]) -> list[list[int]]:\n",
    "    \"\"\"Find the distict variables unique to both arrays.\n",
    "\n",
    "    Constraints:\n",
    "\n",
    "    1 <= nums1.length, nums2.length <= 1000\n",
    "    -1000 <= nums1[i], nums2[i] <= 1000\n",
    "\n",
    "    :param nums1: interger array\n",
    "    :param nums2: //\n",
    "    :return: an array of arrays, contains the unique elements\n",
    "    \"\"\"\n",
    "\n",
    "    r = [None] * 2\n",
    "\n",
    "    nums1, nums2 = set(nums1), set(nums2)\n",
    "\n",
    "    r[0] = list(nums1.difference(nums2))\n",
    "    r[1] = list(nums2.difference(nums1))\n",
    "\n",
    "    return r"
   ]
  },
  {
   "cell_type": "code",
   "execution_count": 2,
   "id": "2afd6056-f91d-4697-a90c-9bcd0f9f4459",
   "metadata": {},
   "outputs": [],
   "source": [
    "##### Improved Solution"
   ]
  },
  {
   "cell_type": "code",
   "execution_count": null,
   "id": "a12050c5-1e74-4d24-ad8e-c1b3b676f46c",
   "metadata": {},
   "outputs": [],
   "source": []
  },
  {
   "cell_type": "markdown",
   "id": "4a833389-10be-445f-a294-48b88aeb4318",
   "metadata": {},
   "source": [
    "#### Testing:"
   ]
  },
  {
   "cell_type": "code",
   "execution_count": 7,
   "id": "7a62363a-3933-471b-97c2-770ebcabc3aa",
   "metadata": {},
   "outputs": [
    {
     "name": "stdout",
     "output_type": "stream",
     "text": [
      "[[1, 3], [4, 6]]\n",
      "[[3], []]\n"
     ]
    }
   ],
   "source": [
    "params = [\n",
    "    [[1,2,3],[2,4,6]],\n",
    "    [[1,2,3,3],[1,1,2,2]]\n",
    "]\n",
    "for i in range(len(params)):\n",
    "    print(find_difference(params[i][0], params[i][1]))"
   ]
  },
  {
   "cell_type": "markdown",
   "id": "52c5c4f2-6ecb-40eb-badd-2af9f5071a86",
   "metadata": {},
   "source": [
    "#### Notes:"
   ]
  },
  {
   "cell_type": "markdown",
   "id": "9d5b8b27-d9a2-4413-9c0f-61a32bf0d87a",
   "metadata": {},
   "source": [
    "In Python, this problem is made trivial with by the set data structure. The reason being is that the set is a hashmap, similiar to Python's dict data structure, that can only contain unique values. That solves the first part of the problem.\n",
    "\n",
    "Then, the set function allows you to check for any differences between the two, generating another set. This set only includes values found in the set the function is called on.\n",
    "\n",
    "Now, simply cast this new set as a list and the you have the answer. Do for nums2 and return the results."
   ]
  },
  {
   "cell_type": "markdown",
   "id": "5e9b32d0-4873-4f8a-a503-5a95aecad3cc",
   "metadata": {},
   "source": [
    "### Helpful Resources:"
   ]
  },
  {
   "cell_type": "markdown",
   "id": "d2035565-e17d-42b1-bb43-68674223cf11",
   "metadata": {},
   "source": []
  }
 ],
 "metadata": {
  "kernelspec": {
   "display_name": "Python 3 (ipykernel)",
   "language": "python",
   "name": "python3"
  },
  "language_info": {
   "codemirror_mode": {
    "name": "ipython",
    "version": 3
   },
   "file_extension": ".py",
   "mimetype": "text/x-python",
   "name": "python",
   "nbconvert_exporter": "python",
   "pygments_lexer": "ipython3",
   "version": "3.12.2"
  }
 },
 "nbformat": 4,
 "nbformat_minor": 5
}
