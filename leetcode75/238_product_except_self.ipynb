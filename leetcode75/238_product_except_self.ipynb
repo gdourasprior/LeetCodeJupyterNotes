{
 "cells": [
  {
   "cell_type": "markdown",
   "id": "3df51a72-bbec-48ed-b3e5-2479ac73bc5e",
   "metadata": {},
   "source": [
    "### The Problem:"
   ]
  },
  {
   "cell_type": "markdown",
   "id": "0143ac4f-2aad-450c-9b0a-05e8756889b8",
   "metadata": {},
   "source": [
    "The problem can be found [**here**](putLinkHere.com)."
   ]
  },
  {
   "cell_type": "markdown",
   "id": "8dcb4eb0-224a-403b-9f0e-43473431a911",
   "metadata": {},
   "source": [
    "### My Code:"
   ]
  },
  {
   "cell_type": "code",
   "execution_count": 24,
   "id": "250b14fe-447a-4f2a-8668-3c5a48878e9a",
   "metadata": {},
   "outputs": [],
   "source": [
    "def product_except_self(nums: list[int]) -> list[int]:\n",
    "    \"\"\"Return an list in which each element is the product of all other elements\n",
    "    excluding the current element.\n",
    "\n",
    "    :param nums: A list of integers.\n",
    "    :return results: A list of integers.\n",
    "    \"\"\"\n",
    "\n",
    "    t = 1\n",
    "    z = 0\n",
    "    \n",
    "    for num in nums:\n",
    "        if num != 0:\n",
    "            t *= num\n",
    "        else:\n",
    "            z += 1\n",
    "\n",
    "    results = [0] * len(nums)\n",
    "\n",
    "    for i in range(len(nums)):\n",
    "        if nums[i] != 0:\n",
    "            if z:\n",
    "                results[i] = 0\n",
    "            else:\n",
    "                results[i] = t // nums[i]\n",
    "        else:\n",
    "            if (z - 1) != 0:\n",
    "                results[i] = 0\n",
    "            else:\n",
    "                results[i] = t\n",
    "\n",
    "    return results"
   ]
  },
  {
   "cell_type": "markdown",
   "id": "4a833389-10be-445f-a294-48b88aeb4318",
   "metadata": {},
   "source": [
    "#### Testing:"
   ]
  },
  {
   "cell_type": "code",
   "execution_count": 25,
   "id": "7a62363a-3933-471b-97c2-770ebcabc3aa",
   "metadata": {},
   "outputs": [
    {
     "name": "stdout",
     "output_type": "stream",
     "text": [
      "[0, 0, 9, 0, 0]\n",
      "[0, 0, 0, 0, 0]\n"
     ]
    }
   ],
   "source": [
    "params = [\n",
    "    [1,2,3,4],\n",
    "    [-1,1,0,-3,3],\n",
    "    [1,0,2,0,1],\n",
    "    [-1,-2,-3,-4]\n",
    "]\n",
    "\n",
    "params = [\n",
    "    [-1,1,0,-3,3],\n",
    "    [1,0,2,0,1]\n",
    "]\n",
    "\n",
    "for i in range(len(params)):\n",
    "    print(product_except_self(params[i]))"
   ]
  },
  {
   "cell_type": "markdown",
   "id": "52c5c4f2-6ecb-40eb-badd-2af9f5071a86",
   "metadata": {},
   "source": [
    "#### Notes:"
   ]
  },
  {
   "cell_type": "markdown",
   "id": "9d5b8b27-d9a2-4413-9c0f-61a32bf0d87a",
   "metadata": {},
   "source": [
    "- Example\n",
    "- Example Two"
   ]
  },
  {
   "cell_type": "markdown",
   "id": "5e9b32d0-4873-4f8a-a503-5a95aecad3cc",
   "metadata": {},
   "source": [
    "### Helpful Resources:"
   ]
  },
  {
   "cell_type": "markdown",
   "id": "d2035565-e17d-42b1-bb43-68674223cf11",
   "metadata": {},
   "source": []
  }
 ],
 "metadata": {
  "kernelspec": {
   "display_name": "Python 3 (ipykernel)",
   "language": "python",
   "name": "python3"
  },
  "language_info": {
   "codemirror_mode": {
    "name": "ipython",
    "version": 3
   },
   "file_extension": ".py",
   "mimetype": "text/x-python",
   "name": "python",
   "nbconvert_exporter": "python",
   "pygments_lexer": "ipython3",
   "version": "3.12.2"
  }
 },
 "nbformat": 4,
 "nbformat_minor": 5
}
