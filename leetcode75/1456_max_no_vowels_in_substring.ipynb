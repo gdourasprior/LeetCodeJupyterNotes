{
 "cells": [
  {
   "cell_type": "markdown",
   "id": "3df51a72-bbec-48ed-b3e5-2479ac73bc5e",
   "metadata": {},
   "source": [
    "### The Problem:"
   ]
  },
  {
   "cell_type": "markdown",
   "id": "0143ac4f-2aad-450c-9b0a-05e8756889b8",
   "metadata": {},
   "source": [
    "The problem can be found [**here**](https://leetcode.com/problems/maximum-number-of-vowels-in-a-substring-of-given-length/description/?envType=study-plan-v2&envId=leetcode-75)."
   ]
  },
  {
   "cell_type": "markdown",
   "id": "8dcb4eb0-224a-403b-9f0e-43473431a911",
   "metadata": {},
   "source": [
    "### My Code:"
   ]
  },
  {
   "cell_type": "markdown",
   "id": "46b0def3-fe00-43ef-a5d0-716184a45b7c",
   "metadata": {},
   "source": [
    "#### Initial Solution"
   ]
  },
  {
   "cell_type": "code",
   "execution_count": 1,
   "id": "250b14fe-447a-4f2a-8668-3c5a48878e9a",
   "metadata": {},
   "outputs": [],
   "source": [
    "def max_vowels(s: str, k: int) -> int:\n",
    "    \"\"\"Find the substring with the most vowels.\n",
    "\n",
    "    :param s: a string of lowercase letters\n",
    "    :param k: size of the search window\n",
    "    :return vc: the maximum no. of vowels for a window size k\n",
    "    \"\"\"\n",
    "\n",
    "    vl = ['a','e','i','o','u']\n",
    "    f, l = 0, k\n",
    "    vc = 0\n",
    "    mx_vc = 0\n",
    "\n",
    "    while l <= len(s):\n",
    "        vc = 0\n",
    "        for c in range(f, l):\n",
    "            if s[c] in vl:\n",
    "                vc += 1\n",
    "\n",
    "        if mx_vc < vc:\n",
    "            mx_vc = vc\n",
    "\n",
    "        f += 1\n",
    "        l += 1\n",
    "    \n",
    "    return mx_vc\n",
    "        "
   ]
  },
  {
   "cell_type": "markdown",
   "id": "9b57b1dc-bb35-496e-a691-752c736e3dc5",
   "metadata": {},
   "source": [
    "##### Improved Solution"
   ]
  },
  {
   "cell_type": "code",
   "execution_count": 2,
   "id": "a12050c5-1e74-4d24-ad8e-c1b3b676f46c",
   "metadata": {},
   "outputs": [],
   "source": [
    "def max_vowels(s: str, k: int) -> int:\n",
    "    \"\"\"Find the substring with the most vowels.\n",
    "\n",
    "    :param s: a string of lowercase letters\n",
    "    :param k: size of the search window\n",
    "    :return vc: the maximum no. of vowels for a window size k\n",
    "    \"\"\"\n",
    "\n",
    "    \n",
    "    vl = set('aeiou')\n",
    "    f = 0\n",
    "    l = False\n",
    "    vc = 0\n",
    "    mx_vc = 0\n",
    "\n",
    "    n = len(s)\n",
    "\n",
    "    for c in range(f, f+k):\n",
    "        if s[c] in vl:\n",
    "            vc += 1\n",
    "\n",
    "    mx_vc = vc\n",
    "\n",
    "    if s[f] in vl:\n",
    "        l = True\n",
    "\n",
    "    f += 1\n",
    "\n",
    "    while f+k <= n:\n",
    "        if l:\n",
    "            vc -= 1\n",
    "\n",
    "        if s[f+k-1] in vl:\n",
    "            vc += 1\n",
    "\n",
    "        if mx_vc < vc:\n",
    "            mx_vc = vc\n",
    "\n",
    "        if s[f] in vl:\n",
    "            l = True\n",
    "        else:\n",
    "            l = False\n",
    "\n",
    "        f += 1\n",
    "\n",
    "\n",
    "    return mx_vc\n",
    "                  "
   ]
  },
  {
   "cell_type": "markdown",
   "id": "4a833389-10be-445f-a294-48b88aeb4318",
   "metadata": {},
   "source": [
    "#### Testing:"
   ]
  },
  {
   "cell_type": "code",
   "execution_count": 3,
   "id": "7a62363a-3933-471b-97c2-770ebcabc3aa",
   "metadata": {},
   "outputs": [
    {
     "name": "stdout",
     "output_type": "stream",
     "text": [
      "3\n",
      "2\n",
      "2\n",
      "4\n",
      "4\n"
     ]
    }
   ],
   "source": [
    "params = [\n",
    "    [\"abciiidef\", 3],\n",
    "    [\"aeiou\", 2],\n",
    "    [\"leetcode\", 3],\n",
    "    [\"leetcode\", 8],\n",
    "    [\"leetcode\", 7]\n",
    "]\n",
    "for i in range(len(params)):\n",
    "    print(max_vowels(params[i][0], params[i][1]))"
   ]
  },
  {
   "cell_type": "markdown",
   "id": "52c5c4f2-6ecb-40eb-badd-2af9f5071a86",
   "metadata": {},
   "source": [
    "#### Notes:"
   ]
  },
  {
   "cell_type": "markdown",
   "id": "9d5b8b27-d9a2-4413-9c0f-61a32bf0d87a",
   "metadata": {},
   "source": [
    "This is a sliding window problem. Create a window of size k, and move it through the array. Noting the no. of vowels found.\n",
    "\n",
    "Initial solution is too slow to pass. For each iteration, the algorithm was checking 3 additional entry within the array 's'. As a result, there is a great deal of redundency within the code.\n",
    "\n",
    "The improved solution only checks the outgoing and incoming characters to determine if they're vowels or not. This solution therefore has a runtime of O(n) because it only iterate through the array a single time and checks each entry twice (O(2n) -> O(n)).\n",
    "\n",
    "One final change to the improved algorithm is to simply switch out a list/array for a set. This allows for much faster lookup per operation (which is twice per iteration). This does significantly improve the runtime of the algorithm because looking up value 'x' in a set takes constant time O(1), however the list must be searched (O(n)) to determine if 'x' is found within, for example. This improvement is due to set having a hash table implementation as opposed to a array-like implementation as in the case of lists."
   ]
  },
  {
   "cell_type": "markdown",
   "id": "5e9b32d0-4873-4f8a-a503-5a95aecad3cc",
   "metadata": {},
   "source": [
    "### Helpful Resources:"
   ]
  },
  {
   "cell_type": "markdown",
   "id": "d2035565-e17d-42b1-bb43-68674223cf11",
   "metadata": {},
   "source": []
  }
 ],
 "metadata": {
  "kernelspec": {
   "display_name": "Python 3 (ipykernel)",
   "language": "python",
   "name": "python3"
  },
  "language_info": {
   "codemirror_mode": {
    "name": "ipython",
    "version": 3
   },
   "file_extension": ".py",
   "mimetype": "text/x-python",
   "name": "python",
   "nbconvert_exporter": "python",
   "pygments_lexer": "ipython3",
   "version": "3.12.2"
  }
 },
 "nbformat": 4,
 "nbformat_minor": 5
}
