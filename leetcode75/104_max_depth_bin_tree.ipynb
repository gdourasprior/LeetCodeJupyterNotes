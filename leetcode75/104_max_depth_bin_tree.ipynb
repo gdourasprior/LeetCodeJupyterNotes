{
 "cells": [
  {
   "cell_type": "markdown",
   "id": "3df51a72-bbec-48ed-b3e5-2479ac73bc5e",
   "metadata": {},
   "source": [
    "### The Problem:"
   ]
  },
  {
   "cell_type": "markdown",
   "id": "0143ac4f-2aad-450c-9b0a-05e8756889b8",
   "metadata": {},
   "source": [
    "The problem can be found [**here**](https://leetcode.com/problems/maximum-depth-of-binary-tree/description/?envType=study-plan-v2&envId=leetcode-75)."
   ]
  },
  {
   "cell_type": "markdown",
   "id": "8dcb4eb0-224a-403b-9f0e-43473431a911",
   "metadata": {},
   "source": [
    "### My Code:"
   ]
  },
  {
   "cell_type": "markdown",
   "id": "19081bbe-2f26-495f-afba-41bd4310012e",
   "metadata": {},
   "source": [
    "Code for creating and printing the tree nodes comes from PranchalK and Improved by Thangaraj from GeeksforGeeks\n",
    "\n",
    "The original code can be found [here](https://www.geeksforgeeks.org/construct-complete-binary-tree-given-array/)!"
   ]
  },
  {
   "cell_type": "code",
   "execution_count": 36,
   "id": "01bb12f1-18e8-4768-8eda-efcb0da89f47",
   "metadata": {},
   "outputs": [],
   "source": [
    "class TreeNode:\n",
    "    \"\"\"Create a new Tree\"\"\"\n",
    "    \n",
    "    def __init__(self, val=0, left=None, right=None):\n",
    "        self.val = val\n",
    "        self.left = left\n",
    "        self.right = right\n",
    "\n",
    "\n",
    "def insertLevelOrder(arr: list, i: int, n: int) -> TreeNode:\n",
    "    \"\"\"Create a Tree in level order\n",
    "\n",
    "    :param arr:\n",
    "    :param i:\n",
    "    :param n:\n",
    "    :return: the root of the created tree\n",
    "    \"\"\"\n",
    "    root = None\n",
    "\n",
    "    if i < n and arr[i]:\n",
    "        root = TreeNode(arr[i])\n",
    "\n",
    "        root.left = insertLevelOrder(arr, 2 * i + 1, n)\n",
    "\n",
    "        root.right = insertLevelOrder(arr, 2 * i + 2, n)\n",
    "\n",
    "    return root\n",
    "\n",
    "\n",
    "def inOrder(root: TreeNode) -> None:\n",
    "    \"\"\"Print the tree from given root node\n",
    "\n",
    "    :param root:\n",
    "    \"\"\"\n",
    "    if root != None:\n",
    "        inOrder(root.left)\n",
    "        print(root.val, end=\" \")\n",
    "        inOrder(root.right)\n"
   ]
  },
  {
   "cell_type": "markdown",
   "id": "46b0def3-fe00-43ef-a5d0-716184a45b7c",
   "metadata": {},
   "source": [
    "#### Initial Solution"
   ]
  },
  {
   "cell_type": "code",
   "execution_count": 54,
   "id": "250b14fe-447a-4f2a-8668-3c5a48878e9a",
   "metadata": {},
   "outputs": [],
   "source": [
    "class Solution:\n",
    "    def maxDepth(self, root: TreeNode) -> int:\n",
    "        \"\"\"Find the maximum depth of a tree\n",
    "\n",
    "        :param root: the root of the tree\n",
    "        \"\"\"\n",
    "        if root:\n",
    "            return 1 + max(self.maxDepth(root.left), self.maxDepth(root.right))\n",
    "        \n",
    "        return 0"
   ]
  },
  {
   "cell_type": "markdown",
   "id": "5a6ed995-8605-4243-b7c1-5575cedce5b5",
   "metadata": {},
   "source": [
    "##### Iterative Solution"
   ]
  },
  {
   "cell_type": "code",
   "execution_count": 52,
   "id": "a12050c5-1e74-4d24-ad8e-c1b3b676f46c",
   "metadata": {},
   "outputs": [],
   "source": [
    "class Solution:\n",
    "    def maxDepth(self, root: TreeNode) -> int:\n",
    "        \"\"\"Find the maximum depth of a tree\n",
    "\n",
    "        :param root: the root of the tree\n",
    "        \"\"\"\n",
    "        if not root:\n",
    "            return 0\n",
    "\n",
    "        depth = 0\n",
    "        queue = list()\n",
    "        path = list()\n",
    "\n",
    "        queue.append(root)\n",
    "\n",
    "        while queue:\n",
    "            root = queue[-1]\n",
    "\n",
    "            if path and path[-1] == root:\n",
    "\n",
    "                size = len(path)\n",
    "\n",
    "                if size > depth:\n",
    "\n",
    "                    depth = size\n",
    "\n",
    "                path.pop()\n",
    "                queue.pop()\n",
    "\n",
    "            else:\n",
    "                path.append(root)\n",
    "\n",
    "                if root.right != None:\n",
    "                    queue.append(root.right)\n",
    "\n",
    "                if root.left != None:\n",
    "                    queue.append(root.left)\n",
    "\n",
    "        return depth\n",
    "    "
   ]
  },
  {
   "cell_type": "markdown",
   "id": "4a833389-10be-445f-a294-48b88aeb4318",
   "metadata": {},
   "source": [
    "#### Testing:"
   ]
  },
  {
   "cell_type": "code",
   "execution_count": 55,
   "id": "7a62363a-3933-471b-97c2-770ebcabc3aa",
   "metadata": {},
   "outputs": [
    {
     "name": "stdout",
     "output_type": "stream",
     "text": [
      "1 2 depth = 2\n",
      "1 1 1 1 1 1 1 1 depth = 4\n",
      "depth = 0\n",
      "1 depth = 1\n"
     ]
    }
   ],
   "source": [
    "params = [\n",
    "    #[3,9,20,None,None,15,7],\n",
    "    [1,None,2],\n",
    "    [1,1,1,1,1,1,1,1],\n",
    "    [],\n",
    "    [1]\n",
    "]\n",
    "\n",
    "s = Solution()\n",
    "\n",
    "for i in range(len(params)):\n",
    "    n = len(params[i])\n",
    "    root = None\n",
    "    root = insertLevelOrder(params[i], 0, n)\n",
    "    inOrder(root)\n",
    "    print(f\"depth = {s.maxDepth(root)}\")\n"
   ]
  },
  {
   "cell_type": "markdown",
   "id": "52c5c4f2-6ecb-40eb-badd-2af9f5071a86",
   "metadata": {},
   "source": [
    "#### Notes:"
   ]
  },
  {
   "cell_type": "markdown",
   "id": "9d5b8b27-d9a2-4413-9c0f-61a32bf0d87a",
   "metadata": {},
   "source": []
  },
  {
   "cell_type": "markdown",
   "id": "5e9b32d0-4873-4f8a-a503-5a95aecad3cc",
   "metadata": {},
   "source": [
    "### Helpful Resources:"
   ]
  },
  {
   "cell_type": "markdown",
   "id": "d2035565-e17d-42b1-bb43-68674223cf11",
   "metadata": {},
   "source": [
    "- Algorithm for an iterative solution maxDepth was found [here](https://stackoverflow.com/questions/19886297/finding-max-depth-of-binary-tree-without-recursion) by user 'chill'."
   ]
  }
 ],
 "metadata": {
  "kernelspec": {
   "display_name": "Python 3 (ipykernel)",
   "language": "python",
   "name": "python3"
  },
  "language_info": {
   "codemirror_mode": {
    "name": "ipython",
    "version": 3
   },
   "file_extension": ".py",
   "mimetype": "text/x-python",
   "name": "python",
   "nbconvert_exporter": "python",
   "pygments_lexer": "ipython3",
   "version": "3.12.2"
  }
 },
 "nbformat": 4,
 "nbformat_minor": 5
}
