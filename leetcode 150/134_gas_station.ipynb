{
 "cells": [
  {
   "cell_type": "markdown",
   "id": "3df51a72-bbec-48ed-b3e5-2479ac73bc5e",
   "metadata": {},
   "source": [
    "### The Problem:"
   ]
  },
  {
   "cell_type": "markdown",
   "id": "0143ac4f-2aad-450c-9b0a-05e8756889b8",
   "metadata": {},
   "source": [
    "The problem can be found [**here**](putLinkHere)."
   ]
  },
  {
   "cell_type": "markdown",
   "id": "8dcb4eb0-224a-403b-9f0e-43473431a911",
   "metadata": {},
   "source": [
    "### My Code:"
   ]
  },
  {
   "cell_type": "markdown",
   "id": "46b0def3-fe00-43ef-a5d0-716184a45b7c",
   "metadata": {},
   "source": [
    "#### Initial Solution"
   ]
  },
  {
   "cell_type": "code",
   "execution_count": 35,
   "id": "250b14fe-447a-4f2a-8668-3c5a48878e9a",
   "metadata": {},
   "outputs": [],
   "source": [
    "from typing import List\n",
    "\n",
    "class Solution:\n",
    "    def canCompleteCircuit(self, gas: List[int], cost: List[int]) -> int:\n",
    "        \"\"\"Determine which gas station can be the start of a complete circuit.\n",
    "\n",
    "        Constraints:\n",
    "\n",
    "        n == gas.length == cost.length\n",
    "        1 <= n <= 105\n",
    "        0 <= gas[i], cost[i] <= 104\n",
    "        :param gas:\n",
    "        :param cost:\n",
    "        :return: the index for the correct gas station, otherwise -1\n",
    "        \"\"\"\n",
    "\n",
    "        for i in range(len(gas)):\n",
    "            if gas[i] < cost[i]:\n",
    "                continue\n",
    "\n",
    "            current = i\n",
    "            counter = 0\n",
    "            tank = gas[current]\n",
    "\n",
    "            while counter != len(gas):\n",
    "                tank -= cost[current]\n",
    "\n",
    "                if tank < 0:\n",
    "                    break\n",
    "\n",
    "                current += 1\n",
    "\n",
    "                if current == len(gas):\n",
    "                    current = 0\n",
    "\n",
    "                tank += gas[current]\n",
    "                counter += 1\n",
    "\n",
    "            if tank >= 0:\n",
    "                return i\n",
    "\n",
    "        return -1"
   ]
  },
  {
   "cell_type": "markdown",
   "id": "c7112bd9-eb43-42a3-bdfa-e892cd0b4c7b",
   "metadata": {},
   "source": [
    "This solution functions but is far too slow."
   ]
  },
  {
   "cell_type": "markdown",
   "id": "5a6ed995-8605-4243-b7c1-5575cedce5b5",
   "metadata": {},
   "source": [
    "##### Improved Solution"
   ]
  },
  {
   "cell_type": "code",
   "execution_count": 26,
   "id": "a12050c5-1e74-4d24-ad8e-c1b3b676f46c",
   "metadata": {},
   "outputs": [],
   "source": [
    "from typing import List\n",
    "\n",
    "class Solution:\n",
    "    def canCompleteCircuit(self, gas: List[int], cost: List[int]) -> int:\n",
    "        \"\"\"Determine which gas station can be the start of a complete circuit.\n",
    "\n",
    "        Constraints:\n",
    "\n",
    "        n == gas.length == cost.length\n",
    "        1 <= n <= 105\n",
    "        0 <= gas[i], cost[i] <= 104\n",
    "        :param gas:\n",
    "        :param cost:\n",
    "        :return: the index for the correct gas station, otherwise -1\n",
    "        \"\"\"\n",
    "        tank = 0\n",
    "        lowest = float('inf')\n",
    "        x = None\n",
    "        for i in range(len(gas)):\n",
    "            tank += gas[i]\n",
    "            tank -= cost[i]\n",
    "\n",
    "            if tank < lowest:\n",
    "                lowest = tank\n",
    "                x = i\n",
    "\n",
    "        if tank < 0:\n",
    "            return -1\n",
    "\n",
    "        x += 1\n",
    "\n",
    "        if x == len(gas):\n",
    "            x = 0\n",
    "\n",
    "        return x"
   ]
  },
  {
   "cell_type": "markdown",
   "id": "0ca3a1de-9719-499d-a7b0-31dd1a31cc5b",
   "metadata": {},
   "source": [
    "In order for the 'car' to complete a full circuit of the road it must have, after a complete circuit at least 0 fuel left in its tank.\n",
    "\n",
    "If we iterate through the array from i = 0 to i = n and at each stop we add the current value of gas[i] and subtract the value of cost[i] then we effectively complete a full circuit of the whole road. Should, overall, the 'tank' have a value of less than 0 then it is impossible to complete a circuit regardless of start position.\n",
    "\n",
    "However, should the tank have a value of at least 0 then we set the index we return as the index immediately AFTER the index in which the tank was at its lowest overall cumulative value. This ensures that we have the greatest amount in the tank prior to the 'lowest point' overall."
   ]
  },
  {
   "cell_type": "markdown",
   "id": "4a833389-10be-445f-a294-48b88aeb4318",
   "metadata": {},
   "source": [
    "#### Testing:"
   ]
  },
  {
   "cell_type": "code",
   "execution_count": 25,
   "id": "7a62363a-3933-471b-97c2-770ebcabc3aa",
   "metadata": {},
   "outputs": [
    {
     "name": "stdout",
     "output_type": "stream",
     "text": [
      "3\n",
      "-1\n"
     ]
    }
   ],
   "source": [
    "params = [\n",
    "    [[1,2,3,4,5],[3,4,5,1,2]],\n",
    "    [[2,3,4],[3,4,3]]\n",
    "]\n",
    "\n",
    "s = Solution()\n",
    "\n",
    "for i in range(len(params)):\n",
    "    print(s.canCompleteCircuit(params[i][0], params[i][1]))"
   ]
  },
  {
   "cell_type": "markdown",
   "id": "52c5c4f2-6ecb-40eb-badd-2af9f5071a86",
   "metadata": {},
   "source": [
    "#### Notes:"
   ]
  },
  {
   "cell_type": "markdown",
   "id": "9d5b8b27-d9a2-4413-9c0f-61a32bf0d87a",
   "metadata": {},
   "source": [
    "- Example\n",
    "- Example Two"
   ]
  },
  {
   "cell_type": "markdown",
   "id": "5e9b32d0-4873-4f8a-a503-5a95aecad3cc",
   "metadata": {},
   "source": [
    "### Helpful Resources:"
   ]
  },
  {
   "cell_type": "markdown",
   "id": "d2035565-e17d-42b1-bb43-68674223cf11",
   "metadata": {},
   "source": []
  }
 ],
 "metadata": {
  "kernelspec": {
   "display_name": "Python 3 (ipykernel)",
   "language": "python",
   "name": "python3"
  },
  "language_info": {
   "codemirror_mode": {
    "name": "ipython",
    "version": 3
   },
   "file_extension": ".py",
   "mimetype": "text/x-python",
   "name": "python",
   "nbconvert_exporter": "python",
   "pygments_lexer": "ipython3",
   "version": "3.12.2"
  }
 },
 "nbformat": 4,
 "nbformat_minor": 5
}
