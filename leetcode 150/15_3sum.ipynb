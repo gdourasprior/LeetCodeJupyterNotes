{
 "cells": [
  {
   "cell_type": "markdown",
   "id": "3df51a72-bbec-48ed-b3e5-2479ac73bc5e",
   "metadata": {},
   "source": [
    "### The Problem:"
   ]
  },
  {
   "cell_type": "markdown",
   "id": "0143ac4f-2aad-450c-9b0a-05e8756889b8",
   "metadata": {},
   "source": [
    "The problem can be found [**here**](https://leetcode.com/problems/3sum/description/?envType=study-plan-v2&envId=top-interview-150)."
   ]
  },
  {
   "cell_type": "markdown",
   "id": "8dcb4eb0-224a-403b-9f0e-43473431a911",
   "metadata": {},
   "source": [
    "### My Code:"
   ]
  },
  {
   "cell_type": "markdown",
   "id": "46b0def3-fe00-43ef-a5d0-716184a45b7c",
   "metadata": {},
   "source": [
    "#### Initial Solution"
   ]
  },
  {
   "cell_type": "code",
   "execution_count": 50,
   "id": "250b14fe-447a-4f2a-8668-3c5a48878e9a",
   "metadata": {},
   "outputs": [],
   "source": [
    "from typing import List\n",
    "\n",
    "class Solution:\n",
    "    def threeSum(self, nums: List[int]) -> List[List[int]]:\n",
    "        s = set()\n",
    "        nums.sort()\n",
    "        for i in range(len(nums)):\n",
    "            l, r = i+1, len(nums)-1\n",
    "\n",
    "            while l < r:\n",
    "                current = nums[i] + nums[l] + nums[r]\n",
    "\n",
    "                if current < 0:\n",
    "                    l += 1\n",
    "                elif current > 0:\n",
    "                    r -= 1\n",
    "                else:\n",
    "                    s.add((nums[i],nums[l],nums[r]))\n",
    "                    l += 1\n",
    "                    r -= 1\n",
    "\n",
    "        op = list(s)\n",
    "        return op"
   ]
  },
  {
   "cell_type": "markdown",
   "id": "a77d12b4-e70d-44b5-a10e-8071a00c0a27",
   "metadata": {},
   "source": [
    "Algorithm\n",
    "In order to efficently solve this problem it is advisable to sort the given array. This makes it possible to efficently search the array because we can make key assumptions such as that nums[l] <= nums[r] and therefore we can increment l and r dependent on the result of the current sum.\n",
    "\n",
    "Iterate through the array from 0 -> nums.len-1.\n",
    "For each value of i, lock the current nums[i].\n",
    "Then, implement a standard two pointer algorithm through the array:\n",
    "$left pointer = i+1, right pointer = nums.len-1$.\n",
    "\n",
    "This gives us our triples. If we find a triple that sums to '0' we add it to a set to avoid duplicates. If a valid triple is found we increment both the left and right pointer.\n",
    "\n",
    "When the whole array has been iterated through, convert the set storing the answers into a list and return it."
   ]
  },
  {
   "cell_type": "markdown",
   "id": "5a6ed995-8605-4243-b7c1-5575cedce5b5",
   "metadata": {},
   "source": [
    "##### Improved Solution"
   ]
  },
  {
   "cell_type": "code",
   "execution_count": 4,
   "id": "a12050c5-1e74-4d24-ad8e-c1b3b676f46c",
   "metadata": {},
   "outputs": [],
   "source": [
    "from typing import List\n",
    "\n",
    "class Solution:\n",
    "    def threeSum(self, nums: List[int]) -> List[List[int]]:\n",
    "        nums.sort()\n",
    "        result = list()\n",
    "\n",
    "        for i in range(len(nums) - 1):\n",
    "            if nums[i] > 0:\n",
    "                break\n",
    "            if i == 0 or nums[i-1] != nums[i]:\n",
    "                l, r = i+1, len(nums)-1\n",
    "\n",
    "                while l < r:\n",
    "                    curr = nums[i] + nums[l] + nums[r]\n",
    "\n",
    "                    if curr < 0:\n",
    "                        l += 1\n",
    "                    elif curr > 0:\n",
    "                        r -= 1\n",
    "                    else:\n",
    "                        result.append([i,l,r])\n",
    "                        l += 1\n",
    "                        r -= 1\n",
    "\n",
    "                        while nums[l] == nums[l-1] and l < r:\n",
    "                            l += 1\n",
    "\n",
    "        return result"
   ]
  },
  {
   "cell_type": "markdown",
   "id": "bbaf4776-e07f-4d2a-b21e-9c3a05c6b23d",
   "metadata": {},
   "source": [
    "This algorithm is similiar to the first but makes better use of the input array being sorted. For example, we don't can ignore values of i where nums[i-1] == nums[i] because we'll get the same results (minus the initial sum).\n",
    "\n",
    "Furthermore, if we find a complete '3sum' we can advances through all values of l where nums[l] == nums[l-1] for the same reason.\n",
    "\n",
    "In both cases, these optimisations are possible because the result should not contain duplicates so we don't need to check any duplicate values which will result in duplicate solutions.\n",
    "\n",
    "In both cases, this algorithm is complete and will search all possible combinations.\n",
    "\n",
    "Runtime: O(nlogn)\n",
    "Space: O(1) (not including output), the original algorithm has a set which grows in size with possible solutions O(n)."
   ]
  },
  {
   "cell_type": "markdown",
   "id": "4a833389-10be-445f-a294-48b88aeb4318",
   "metadata": {},
   "source": [
    "#### Testing:"
   ]
  },
  {
   "cell_type": "code",
   "execution_count": 5,
   "id": "7a62363a-3933-471b-97c2-770ebcabc3aa",
   "metadata": {},
   "outputs": [
    {
     "name": "stdout",
     "output_type": "stream",
     "text": [
      "[]\n",
      "[[1, 2, 5], [1, 3, 4]]\n",
      "[]\n",
      "[[0, 1, 2]]\n"
     ]
    }
   ],
   "source": [
    "params = [\n",
    "    [1,2,-2,-1],\n",
    "    [-1,0,1,2,-1,-4],\n",
    "    [0,1,1],\n",
    "    [0,0,0]\n",
    "]\n",
    "\n",
    "s = Solution()\n",
    "\n",
    "for i in range(len(params)):\n",
    "    print(s.threeSum(params[i]))"
   ]
  },
  {
   "cell_type": "markdown",
   "id": "52c5c4f2-6ecb-40eb-badd-2af9f5071a86",
   "metadata": {},
   "source": [
    "#### Notes:"
   ]
  },
  {
   "cell_type": "markdown",
   "id": "9d5b8b27-d9a2-4413-9c0f-61a32bf0d87a",
   "metadata": {},
   "source": [
    "- Example\n",
    "- Example Two"
   ]
  },
  {
   "cell_type": "markdown",
   "id": "5e9b32d0-4873-4f8a-a503-5a95aecad3cc",
   "metadata": {},
   "source": [
    "### Helpful Resources:"
   ]
  },
  {
   "cell_type": "markdown",
   "id": "d2035565-e17d-42b1-bb43-68674223cf11",
   "metadata": {},
   "source": []
  }
 ],
 "metadata": {
  "kernelspec": {
   "display_name": "Python 3 (ipykernel)",
   "language": "python",
   "name": "python3"
  },
  "language_info": {
   "codemirror_mode": {
    "name": "ipython",
    "version": 3
   },
   "file_extension": ".py",
   "mimetype": "text/x-python",
   "name": "python",
   "nbconvert_exporter": "python",
   "pygments_lexer": "ipython3",
   "version": "3.12.2"
  }
 },
 "nbformat": 4,
 "nbformat_minor": 5
}
