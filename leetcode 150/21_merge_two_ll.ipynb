{
 "cells": [
  {
   "cell_type": "markdown",
   "id": "3df51a72-bbec-48ed-b3e5-2479ac73bc5e",
   "metadata": {},
   "source": [
    "### The Problem:"
   ]
  },
  {
   "cell_type": "markdown",
   "id": "0143ac4f-2aad-450c-9b0a-05e8756889b8",
   "metadata": {},
   "source": [
    "The problem can be found [**here**](putLinkHere)."
   ]
  },
  {
   "cell_type": "markdown",
   "id": "8dcb4eb0-224a-403b-9f0e-43473431a911",
   "metadata": {},
   "source": [
    "### My Code:"
   ]
  },
  {
   "cell_type": "code",
   "execution_count": 5,
   "id": "076a9a3a-871f-4cb5-bde0-3bffa9244528",
   "metadata": {},
   "outputs": [],
   "source": [
    "from typing import List, Optional"
   ]
  },
  {
   "cell_type": "code",
   "execution_count": 20,
   "id": "250b14fe-447a-4f2a-8668-3c5a48878e9a",
   "metadata": {},
   "outputs": [],
   "source": [
    "# Definition for singly-linked list.\n",
    "class ListNode:\n",
    "    def __init__(self, x):\n",
    "        self.val = x\n",
    "        self.next = None\n",
    "\n",
    "def create_list(arr: List[int] = None, pos: int = -1) -> ListNode:\n",
    "    if arr == None or len(arr) == 0:\n",
    "        return None\n",
    "\n",
    "    head = ListNode(arr[0])\n",
    "    current = head\n",
    "\n",
    "    loop = head\n",
    "\n",
    "    for i in range(1, len(arr)):\n",
    "        current.next = ListNode(arr[i])\n",
    "\n",
    "        current = current.next\n",
    "\n",
    "        if i == pos:\n",
    "            loop = current\n",
    "\n",
    "    if pos != -1:\n",
    "        current.next = loop\n",
    "\n",
    "    return head\n",
    "\n",
    "\n",
    "def print_list(head: ListNode) -> None:\n",
    "    current = head\n",
    "\n",
    "    while current != None:\n",
    "        print(current.val, end=\", \")\n",
    "        current = current.next\n",
    "\n",
    "    print()\n",
    "\n",
    "    return None\n"
   ]
  },
  {
   "cell_type": "markdown",
   "id": "46b0def3-fe00-43ef-a5d0-716184a45b7c",
   "metadata": {},
   "source": [
    "#### Initial Solution"
   ]
  },
  {
   "cell_type": "code",
   "execution_count": 13,
   "id": "f785a655-e0d0-41b3-8357-6f66cc0c8b07",
   "metadata": {},
   "outputs": [],
   "source": [
    "class Solution:\n",
    "    def mergeTwoLists(self, list1: Optional[ListNode], list2: Optional[ListNode]) -> Optional[ListNode]:\n",
    "        if list1 == None:\n",
    "            return list2\n",
    "\n",
    "        if list2 == None:\n",
    "            return list1\n",
    "        \n",
    "        head = None\n",
    "        current = None\n",
    "        while list1 != None and list2 != None:\n",
    "            if not head:\n",
    "                if list1.val <= list2.val:\n",
    "                    head = list1\n",
    "                    list1 = list1.next\n",
    "                else:\n",
    "                    head = list2\n",
    "                    list2 = list2.next\n",
    "\n",
    "                current = head\n",
    "            else:\n",
    "                if list1.val <= list2.val:\n",
    "                    current.next = list1\n",
    "                    list1 = list1.next\n",
    "                    current = current.next\n",
    "                else:\n",
    "                    current.next = list2\n",
    "                    list2 = list2.next\n",
    "                    current = current.next\n",
    "\n",
    "        while list1 != None:\n",
    "            current.next = list1\n",
    "            list1 = list1.next\n",
    "            current = current.next\n",
    "\n",
    "        while list2 != None:\n",
    "            current.next = list2\n",
    "            list2 = list2.next\n",
    "            current = current.next\n",
    "\n",
    "        return head"
   ]
  },
  {
   "cell_type": "markdown",
   "id": "5a6ed995-8605-4243-b7c1-5575cedce5b5",
   "metadata": {},
   "source": [
    "##### Improved Solution"
   ]
  },
  {
   "cell_type": "code",
   "execution_count": 2,
   "id": "a12050c5-1e74-4d24-ad8e-c1b3b676f46c",
   "metadata": {},
   "outputs": [],
   "source": [
    "class Solution:\n",
    "    \n",
    "    def example(self, param: int = 0) -> str:\n",
    "        \"\"\"An Example function.\n",
    "    \n",
    "        :param param: An int, it does nothing!\n",
    "        :return: Returns the String \"Hello World!\"\n",
    "        \"\"\"\n",
    "        \n",
    "        return \"Hello World!\"\n",
    "\n",
    "\n",
    "# -- Add Code Here\n"
   ]
  },
  {
   "cell_type": "markdown",
   "id": "4a833389-10be-445f-a294-48b88aeb4318",
   "metadata": {},
   "source": [
    "#### Testing:"
   ]
  },
  {
   "cell_type": "code",
   "execution_count": 21,
   "id": "7a62363a-3933-471b-97c2-770ebcabc3aa",
   "metadata": {},
   "outputs": [
    {
     "name": "stdout",
     "output_type": "stream",
     "text": [
      "1, 1, 2, 3, 4, 4, \n",
      "\n",
      "0, \n"
     ]
    }
   ],
   "source": [
    "params = [\n",
    "    [[1,2,4],[1,3,4]],\n",
    "    [[],[]],\n",
    "    [[],[0]]\n",
    "]\n",
    "\n",
    "s = Solution()\n",
    "\n",
    "for i in range(len(params)):\n",
    "    head1 = create_list(params[i][0])\n",
    "    head2 = create_list(params[i][1])\n",
    "    print_list(s.mergeTwoLists(head1,head2))"
   ]
  },
  {
   "cell_type": "markdown",
   "id": "52c5c4f2-6ecb-40eb-badd-2af9f5071a86",
   "metadata": {},
   "source": [
    "#### Notes:"
   ]
  },
  {
   "cell_type": "markdown",
   "id": "9d5b8b27-d9a2-4413-9c0f-61a32bf0d87a",
   "metadata": {},
   "source": [
    "- Example\n",
    "- Example Two"
   ]
  },
  {
   "cell_type": "markdown",
   "id": "5e9b32d0-4873-4f8a-a503-5a95aecad3cc",
   "metadata": {},
   "source": [
    "### Helpful Resources:"
   ]
  },
  {
   "cell_type": "markdown",
   "id": "d2035565-e17d-42b1-bb43-68674223cf11",
   "metadata": {},
   "source": []
  }
 ],
 "metadata": {
  "kernelspec": {
   "display_name": "Python 3 (ipykernel)",
   "language": "python",
   "name": "python3"
  },
  "language_info": {
   "codemirror_mode": {
    "name": "ipython",
    "version": 3
   },
   "file_extension": ".py",
   "mimetype": "text/x-python",
   "name": "python",
   "nbconvert_exporter": "python",
   "pygments_lexer": "ipython3",
   "version": "3.12.2"
  }
 },
 "nbformat": 4,
 "nbformat_minor": 5
}
