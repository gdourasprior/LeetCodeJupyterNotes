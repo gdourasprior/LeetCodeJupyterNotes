{
 "cells": [
  {
   "cell_type": "markdown",
   "id": "3df51a72-bbec-48ed-b3e5-2479ac73bc5e",
   "metadata": {},
   "source": [
    "### The Problem:"
   ]
  },
  {
   "cell_type": "markdown",
   "id": "0143ac4f-2aad-450c-9b0a-05e8756889b8",
   "metadata": {},
   "source": [
    "The problem can be found [**here**](linkHere)."
   ]
  },
  {
   "cell_type": "markdown",
   "id": "8dcb4eb0-224a-403b-9f0e-43473431a911",
   "metadata": {},
   "source": [
    "### My Code:"
   ]
  },
  {
   "cell_type": "markdown",
   "id": "19081bbe-2f26-495f-afba-41bd4310012e",
   "metadata": {},
   "source": [
    "Code for creating and printing the tree nodes comes from PranchalK and Improved by Thangaraj from GeeksforGeeks\n",
    "\n",
    "The original code can be found [here](https://www.geeksforgeeks.org/construct-complete-binary-tree-given-array/)!"
   ]
  },
  {
   "cell_type": "code",
   "execution_count": 1,
   "id": "5d13f87a-010d-4ee9-894d-f6e50386a468",
   "metadata": {},
   "outputs": [],
   "source": [
    "from typing import List, Optional"
   ]
  },
  {
   "cell_type": "code",
   "execution_count": 2,
   "id": "01bb12f1-18e8-4768-8eda-efcb0da89f47",
   "metadata": {},
   "outputs": [],
   "source": [
    "class TreeNode:\n",
    "    \"\"\"Create a new Tree\"\"\"\n",
    "    \n",
    "    def __init__(self, val=0, left=None, right=None):\n",
    "        self.val = val\n",
    "        self.left = left\n",
    "        self.right = right\n",
    "\n",
    "# Recursive creation and printing\n",
    "\n",
    "def insertLevelOrder(arr: list, i: int, n: int) -> TreeNode:\n",
    "    \"\"\"Create a Tree in level order\n",
    "\n",
    "    :param arr:\n",
    "    :param i:\n",
    "    :param n:\n",
    "    :return: the root of the created tree\n",
    "    \"\"\"\n",
    "    root = None\n",
    "\n",
    "    if i < n and arr[i]:\n",
    "        root = TreeNode(arr[i])\n",
    "\n",
    "        root.left = insertLevelOrder(arr, 2 * i + 1, n)\n",
    "\n",
    "        root.right = insertLevelOrder(arr, 2 * i + 2, n)\n",
    "\n",
    "    return root\n",
    "\n",
    "\n",
    "def inOrder(root: TreeNode) -> None:\n",
    "    \"\"\"Print the tree from given root node\n",
    "\n",
    "    :param root:\n",
    "    \"\"\"\n",
    "    if root != None:\n",
    "        inOrder(root.left)\n",
    "        print(root.val, end= \" \")\n",
    "        inOrder(root.right)\n",
    "\n",
    "\n",
    "# Queue based creation\n",
    "\n",
    "def buildTree(nums: list) -> TreeNode:\n",
    "    \"\"\"Build a tree from an array using a queue\n",
    "\n",
    "    :param nums:\n",
    "    :return: root of tree\n",
    "    \"\"\"\n",
    "    if not nums:\n",
    "        return None\n",
    "\n",
    "    root = TreeNode(nums[0])\n",
    "    q = [root]\n",
    "    i = 1\n",
    "\n",
    "    while i < len(nums):\n",
    "        curr = q.pop(0)\n",
    "\n",
    "        if i < len(nums) and nums[i]:\n",
    "            curr.left = TreeNode(nums[i])\n",
    "            q.append(curr.left)\n",
    "            i += 1\n",
    "            \n",
    "        else:\n",
    "            i += 1\n",
    "            \n",
    "        if i < len(nums) and nums[i]:\n",
    "            curr.right = TreeNode(nums[i])\n",
    "            q.append(curr.right)\n",
    "            i += 1\n",
    "\n",
    "        else:\n",
    "            i += 1\n",
    "\n",
    "    return root\n"
   ]
  },
  {
   "cell_type": "markdown",
   "id": "46b0def3-fe00-43ef-a5d0-716184a45b7c",
   "metadata": {},
   "source": [
    "#### Initial Solution"
   ]
  },
  {
   "cell_type": "code",
   "execution_count": 30,
   "id": "a12050c5-1e74-4d24-ad8e-c1b3b676f46c",
   "metadata": {},
   "outputs": [],
   "source": [
    "class Solution:\n",
    "\n",
    "    def altDFNote(self, root: Optional[TreeNode], arr: List[int] = None) -> List:\n",
    "        if arr == None:\n",
    "            arr = list()\n",
    "\n",
    "        if root != None:\n",
    "            self.altDFNote(root.left, arr)\n",
    "            arr.append(root.val)\n",
    "            self.altDFNote(root.right, arr)\n",
    "        else:\n",
    "            arr.append('null')\n",
    "\n",
    "        return arr\n",
    "\n",
    "\n",
    "    def isSameTree(self, p: Optional[TreeNode], q: Optional[TreeNode]) -> bool:\n",
    "        pl = self.altDFNote(p)\n",
    "        ql = self.altDFNote(q)\n",
    "\n",
    "        if len(pl) != len(ql):\n",
    "            return False\n",
    "\n",
    "        for i in range(len(pl)):\n",
    "            if pl[i] != ql[i]:\n",
    "                return False\n",
    "\n",
    "        return True\n"
   ]
  },
  {
   "cell_type": "markdown",
   "id": "5a6ed995-8605-4243-b7c1-5575cedce5b5",
   "metadata": {},
   "source": [
    "#### Improved Solution"
   ]
  },
  {
   "cell_type": "code",
   "execution_count": 41,
   "id": "250b14fe-447a-4f2a-8668-3c5a48878e9a",
   "metadata": {},
   "outputs": [],
   "source": [
    "class Solution:\n",
    "    \n",
    "    def isSameTree(self, p: Optional[TreeNode], q: Optional[TreeNode]) -> bool:\n",
    "        if p is None and q is None:\n",
    "            return True\n",
    "\n",
    "        if p is None or q is None:\n",
    "            return False\n",
    "\n",
    "        if p.val == q.val:\n",
    "            return self.isSameTree(p.left, q.left) and self.isSameTree(p.right, q.right)\n",
    "\n",
    "        return False"
   ]
  },
  {
   "cell_type": "markdown",
   "id": "4a833389-10be-445f-a294-48b88aeb4318",
   "metadata": {},
   "source": [
    "#### Testing:"
   ]
  },
  {
   "cell_type": "code",
   "execution_count": 42,
   "id": "7a62363a-3933-471b-97c2-770ebcabc3aa",
   "metadata": {},
   "outputs": [
    {
     "name": "stdout",
     "output_type": "stream",
     "text": [
      "True\n",
      "False\n"
     ]
    }
   ],
   "source": [
    "params = [\n",
    "    [[1,2,3],[1,2,3]],\n",
    "    [[2,2,2,None,2,None,None,2],[2,2,2,2,None,2,None]]\n",
    "]\n",
    "\n",
    "s = Solution()\n",
    "\n",
    "for i in range(len(params)):\n",
    "    p = buildTree(params[i][0])\n",
    "    q = buildTree(params[i][1])\n",
    "\n",
    "    print(s.isSameTree(p, q))\n"
   ]
  },
  {
   "cell_type": "markdown",
   "id": "52c5c4f2-6ecb-40eb-badd-2af9f5071a86",
   "metadata": {},
   "source": [
    "#### Notes:"
   ]
  },
  {
   "cell_type": "markdown",
   "id": "9d5b8b27-d9a2-4413-9c0f-61a32bf0d87a",
   "metadata": {},
   "source": []
  },
  {
   "cell_type": "markdown",
   "id": "5e9b32d0-4873-4f8a-a503-5a95aecad3cc",
   "metadata": {},
   "source": [
    "### Helpful Resources:"
   ]
  },
  {
   "cell_type": "markdown",
   "id": "d2035565-e17d-42b1-bb43-68674223cf11",
   "metadata": {},
   "source": []
  }
 ],
 "metadata": {
  "kernelspec": {
   "display_name": "Python 3 (ipykernel)",
   "language": "python",
   "name": "python3"
  },
  "language_info": {
   "codemirror_mode": {
    "name": "ipython",
    "version": 3
   },
   "file_extension": ".py",
   "mimetype": "text/x-python",
   "name": "python",
   "nbconvert_exporter": "python",
   "pygments_lexer": "ipython3",
   "version": "3.12.2"
  }
 },
 "nbformat": 4,
 "nbformat_minor": 5
}
