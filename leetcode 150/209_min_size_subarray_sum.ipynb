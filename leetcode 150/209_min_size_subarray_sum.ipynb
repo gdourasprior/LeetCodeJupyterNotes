{
 "cells": [
  {
   "cell_type": "markdown",
   "id": "3df51a72-bbec-48ed-b3e5-2479ac73bc5e",
   "metadata": {},
   "source": [
    "### The Problem:"
   ]
  },
  {
   "cell_type": "markdown",
   "id": "0143ac4f-2aad-450c-9b0a-05e8756889b8",
   "metadata": {},
   "source": [
    "The problem can be found [**here**](https://leetcode.com/problems/minimum-size-subarray-sum/description/?envType=study-plan-v2&envId=top-interview-150)."
   ]
  },
  {
   "cell_type": "markdown",
   "id": "8dcb4eb0-224a-403b-9f0e-43473431a911",
   "metadata": {},
   "source": [
    "### My Code:"
   ]
  },
  {
   "cell_type": "markdown",
   "id": "46b0def3-fe00-43ef-a5d0-716184a45b7c",
   "metadata": {},
   "source": [
    "#### Failed Solution"
   ]
  },
  {
   "cell_type": "code",
   "execution_count": 29,
   "id": "250b14fe-447a-4f2a-8668-3c5a48878e9a",
   "metadata": {},
   "outputs": [],
   "source": [
    "from typing import List\n",
    "\n",
    "class Solution:\n",
    "    def minSubArrayLen(self, target: int, nums: List[int]) -> int:\n",
    "        \"\"\"Find the minimum subarray that sums to the target.\n",
    "\n",
    "        Constraints:\n",
    "\n",
    "        1 <= target <= 109\n",
    "        1 <= nums.length <= 105\n",
    "        1 <= nums[i] <= 104\n",
    "        :param target:\n",
    "        :param nums:\n",
    "        :return: minimum subarray that equals target\n",
    "        \"\"\"\n",
    "        # nums.sort() -- removed to solve required problem (sub-array, not any subset).\n",
    "        l, r = 0, 0\n",
    "\n",
    "        s = nums[0]\n",
    "        result = float('inf')\n",
    "\n",
    "        while l <= r and r < len(nums):\n",
    "            if s < target:\n",
    "                r += 1\n",
    "                if r < len(nums):\n",
    "                    s += nums[r]\n",
    "            else:\n",
    "                if r - l + 1 < result:\n",
    "                    result = r - l + 1\n",
    "                s -= nums[l]\n",
    "                l += 1\n",
    "\n",
    "        if result == float('inf'):\n",
    "            return 0\n",
    "\n",
    "        return result"
   ]
  },
  {
   "cell_type": "markdown",
   "id": "6e96d4c2-0e6f-44be-8649-23ca0d4393b8",
   "metadata": {},
   "source": [
    "Firstly, we sort the array this simplified the logic. The algorithm works by building up the sliding window.\n",
    "\n",
    "We start at the lefthand side of the array, 0, and if the initial value is smaller than the target we shift the right pointer over, adding the value of the new rightmost element.\n",
    "\n",
    "Should we find a subarray that is at least the value of the target we set this current subarray's size to be the answer and move the left pointer to the right. The result is only updated if the size of the current subarray is smaller than the previously identified solution."
   ]
  },
  {
   "cell_type": "markdown",
   "id": "5a6ed995-8605-4243-b7c1-5575cedce5b5",
   "metadata": {},
   "source": [
    "##### Improved Solution"
   ]
  },
  {
   "cell_type": "code",
   "execution_count": 32,
   "id": "a12050c5-1e74-4d24-ad8e-c1b3b676f46c",
   "metadata": {},
   "outputs": [],
   "source": [
    "from typing import List\n",
    "\n",
    "class Solution:\n",
    "    def minSubArrayLen(self, target: int, nums: List[int]) -> int:\n",
    "        \"\"\"Find the minimum subarray that sums to the target.\n",
    "\n",
    "        Constraints:\n",
    "\n",
    "        1 <= target <= 109\n",
    "        1 <= nums.length <= 105\n",
    "        1 <= nums[i] <= 104\n",
    "        :param target:\n",
    "        :param nums:\n",
    "        :return: minimum subarray that equals target\n",
    "        \"\"\"\n",
    "        l= 0\n",
    "        s = 0\n",
    "        result = float('inf')\n",
    "\n",
    "        for r in range(len(nums)):\n",
    "            s += nums[r]\n",
    "\n",
    "            while s >= target:\n",
    "                if r - l + 1 < result:\n",
    "                    result = r - l + 1\n",
    "\n",
    "                s -= nums[l]\n",
    "                l += 1\n",
    "\n",
    "        if result == float('inf'):\n",
    "            return 0\n",
    "\n",
    "        return result"
   ]
  },
  {
   "cell_type": "markdown",
   "id": "c45a2300-35c6-4046-ac3b-9d8761e44dd9",
   "metadata": {},
   "source": [
    "The solution requires that the input array is NOT sorted. This mistake means that the previously solution is actually a slow solution. In order to make the original solution work we simply don't sort the array. However, now we must always be incementing r and only shrinking the window when the sum is greater than the target (to see how small we can make the result).\n",
    "\n",
    "This implementation is faster because it makes less comparisons, most iterations are simply a cumulative addition."
   ]
  },
  {
   "cell_type": "markdown",
   "id": "4a833389-10be-445f-a294-48b88aeb4318",
   "metadata": {},
   "source": [
    "#### Testing:"
   ]
  },
  {
   "cell_type": "code",
   "execution_count": 33,
   "id": "7a62363a-3933-471b-97c2-770ebcabc3aa",
   "metadata": {},
   "outputs": [
    {
     "name": "stdout",
     "output_type": "stream",
     "text": [
      "8\n",
      "3\n",
      "2\n",
      "1\n",
      "0\n"
     ]
    }
   ],
   "source": [
    "params = [\n",
    "    [213,[12,28,83,4,25,26,25,2,25,25,25,12]],\n",
    "    [11,[1,2,3,4,5]],\n",
    "    [7,[2,3,1,2,4,3]],\n",
    "    [4,[1,4,4]],\n",
    "    [11,[1,1,1,1,1,1,1,1]]\n",
    "]\n",
    "\n",
    "s = Solution()\n",
    "\n",
    "for i in range(len(params)):\n",
    "    print(s.minSubArrayLen(params[i][0], params[i][1]))"
   ]
  },
  {
   "cell_type": "markdown",
   "id": "52c5c4f2-6ecb-40eb-badd-2af9f5071a86",
   "metadata": {},
   "source": [
    "#### Notes:"
   ]
  },
  {
   "cell_type": "markdown",
   "id": "9d5b8b27-d9a2-4413-9c0f-61a32bf0d87a",
   "metadata": {},
   "source": [
    "- Example\n",
    "- Example Two"
   ]
  },
  {
   "cell_type": "markdown",
   "id": "5e9b32d0-4873-4f8a-a503-5a95aecad3cc",
   "metadata": {},
   "source": [
    "### Helpful Resources:"
   ]
  },
  {
   "cell_type": "markdown",
   "id": "d2035565-e17d-42b1-bb43-68674223cf11",
   "metadata": {},
   "source": []
  }
 ],
 "metadata": {
  "kernelspec": {
   "display_name": "Python 3 (ipykernel)",
   "language": "python",
   "name": "python3"
  },
  "language_info": {
   "codemirror_mode": {
    "name": "ipython",
    "version": 3
   },
   "file_extension": ".py",
   "mimetype": "text/x-python",
   "name": "python",
   "nbconvert_exporter": "python",
   "pygments_lexer": "ipython3",
   "version": "3.12.2"
  }
 },
 "nbformat": 4,
 "nbformat_minor": 5
}
