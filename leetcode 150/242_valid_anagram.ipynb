{
 "cells": [
  {
   "cell_type": "markdown",
   "id": "3df51a72-bbec-48ed-b3e5-2479ac73bc5e",
   "metadata": {},
   "source": [
    "### The Problem:"
   ]
  },
  {
   "cell_type": "markdown",
   "id": "0143ac4f-2aad-450c-9b0a-05e8756889b8",
   "metadata": {},
   "source": [
    "The problem can be found [**here**](https://leetcode.com/problems/valid-anagram/description/?envType=study-plan-v2&envId=top-interview-150)."
   ]
  },
  {
   "cell_type": "markdown",
   "id": "8dcb4eb0-224a-403b-9f0e-43473431a911",
   "metadata": {},
   "source": [
    "### My Code:"
   ]
  },
  {
   "cell_type": "markdown",
   "id": "46b0def3-fe00-43ef-a5d0-716184a45b7c",
   "metadata": {},
   "source": [
    "#### Initial Solution"
   ]
  },
  {
   "cell_type": "code",
   "execution_count": 16,
   "id": "250b14fe-447a-4f2a-8668-3c5a48878e9a",
   "metadata": {},
   "outputs": [],
   "source": [
    "class Solution:\n",
    "    def isAnagram(self, s: str, t: str) -> bool:\n",
    "        \"\"\"Determine if t is an anagram of s.\n",
    "\n",
    "        :param s:\n",
    "        :param t:\n",
    "        :return: True if t is an anagram of s, otherwise False\n",
    "        \"\"\"\n",
    "        if len(s) != len(t):\n",
    "            return False\n",
    "        \n",
    "        sa, ta = [0] * 26, [0] * 26\n",
    "\n",
    "        for i in range(len(s)):\n",
    "            sa[ord(s[i]) - ord('a')] += 1\n",
    "            ta[ord(t[i]) - ord('a')] += 1\n",
    "\n",
    "        for j in range(len(sa)):\n",
    "            if sa[j] != ta[j]:\n",
    "                return False\n",
    "\n",
    "        return True"
   ]
  },
  {
   "cell_type": "markdown",
   "id": "5a6ed995-8605-4243-b7c1-5575cedce5b5",
   "metadata": {},
   "source": [
    "##### Improved Solution"
   ]
  },
  {
   "cell_type": "code",
   "execution_count": 18,
   "id": "a12050c5-1e74-4d24-ad8e-c1b3b676f46c",
   "metadata": {},
   "outputs": [],
   "source": [
    "class Solution:\n",
    "    def isAnagram(self, s: str, t: str) -> bool:\n",
    "        \"\"\"Determine if t is an anagram of s.\n",
    "\n",
    "        :param s:\n",
    "        :param t:\n",
    "        :return: True if t is an anagram of s, otherwise False\n",
    "        \"\"\"\n",
    "        if len(s) != len(t):\n",
    "            return False\n",
    "        \n",
    "        sa, ta = dict(), dict()\n",
    "\n",
    "        for i in range(len(s)):\n",
    "            if not sa.get(s[i], None):\n",
    "                sa[s[i]] = 1\n",
    "            else:\n",
    "                sa[s[i]] += 1\n",
    "\n",
    "            if not ta.get(t[i], None):\n",
    "                ta[t[i]] = 1\n",
    "            else:\n",
    "                ta[t[i]] += 1\n",
    "\n",
    "        for j in sa.keys():\n",
    "            if sa.get(j, None) != ta.get(j, None):\n",
    "                return False\n",
    "\n",
    "        return True"
   ]
  },
  {
   "cell_type": "markdown",
   "id": "8f8b4a35-3fb9-4de6-a488-2ab82f0bdb39",
   "metadata": {},
   "source": [
    "#### Best Solution"
   ]
  },
  {
   "cell_type": "code",
   "execution_count": 21,
   "id": "d6e22aab-878a-4476-981b-adba891b019a",
   "metadata": {},
   "outputs": [],
   "source": [
    "class Solution:\n",
    "    def isAnagram(self, s: str, t: str) -> bool:\n",
    "        \"\"\"Determine if t is an anagram of s.\n",
    "\n",
    "        :param s:\n",
    "        :param t:\n",
    "        :return: True if t is an anagram of s, otherwise False\n",
    "        \"\"\"\n",
    "        if len(s) != len(t):\n",
    "            return False\n",
    "\n",
    "        ss = set(s)\n",
    "\n",
    "        for i in ss:\n",
    "            if s.count(i) != t.count(i):\n",
    "                return False\n",
    "        \n",
    "        return True"
   ]
  },
  {
   "cell_type": "markdown",
   "id": "4a833389-10be-445f-a294-48b88aeb4318",
   "metadata": {},
   "source": [
    "#### Testing:"
   ]
  },
  {
   "cell_type": "code",
   "execution_count": 22,
   "id": "7a62363a-3933-471b-97c2-770ebcabc3aa",
   "metadata": {},
   "outputs": [
    {
     "name": "stdout",
     "output_type": "stream",
     "text": [
      "True\n",
      "False\n",
      "True\n",
      "True\n",
      "False\n"
     ]
    }
   ],
   "source": [
    "params = [\n",
    "    (\"anagram\",\"nagaram\"),\n",
    "    (\"rat\",\"car\"),\n",
    "    (\"racecar\",\"carrace\"),\n",
    "    (\"mcbongo\",\"goncomb\"),\n",
    "    (\"abcdef\", \"abcdfg\")\n",
    "]\n",
    "\n",
    "s = Solution()\n",
    "\n",
    "for i in range(len(params)):\n",
    "    print(s.isAnagram(params[i][0], params[i][1]))"
   ]
  },
  {
   "cell_type": "markdown",
   "id": "52c5c4f2-6ecb-40eb-badd-2af9f5071a86",
   "metadata": {},
   "source": [
    "#### Notes:"
   ]
  },
  {
   "cell_type": "markdown",
   "id": "9d5b8b27-d9a2-4413-9c0f-61a32bf0d87a",
   "metadata": {},
   "source": [
    "- Example\n",
    "- Example Two"
   ]
  },
  {
   "cell_type": "markdown",
   "id": "5e9b32d0-4873-4f8a-a503-5a95aecad3cc",
   "metadata": {},
   "source": [
    "### Helpful Resources:"
   ]
  },
  {
   "cell_type": "markdown",
   "id": "d2035565-e17d-42b1-bb43-68674223cf11",
   "metadata": {},
   "source": []
  }
 ],
 "metadata": {
  "kernelspec": {
   "display_name": "Python 3 (ipykernel)",
   "language": "python",
   "name": "python3"
  },
  "language_info": {
   "codemirror_mode": {
    "name": "ipython",
    "version": 3
   },
   "file_extension": ".py",
   "mimetype": "text/x-python",
   "name": "python",
   "nbconvert_exporter": "python",
   "pygments_lexer": "ipython3",
   "version": "3.12.2"
  }
 },
 "nbformat": 4,
 "nbformat_minor": 5
}
