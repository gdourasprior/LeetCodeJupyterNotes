{
 "cells": [
  {
   "cell_type": "markdown",
   "id": "3df51a72-bbec-48ed-b3e5-2479ac73bc5e",
   "metadata": {},
   "source": [
    "### The Problem:"
   ]
  },
  {
   "cell_type": "markdown",
   "id": "0143ac4f-2aad-450c-9b0a-05e8756889b8",
   "metadata": {},
   "source": [
    "The problem can be found [**here**](https://leetcode.com/problems/two-sum-ii-input-array-is-sorted/?envType=study-plan-v2&envId=top-interview-150)."
   ]
  },
  {
   "cell_type": "markdown",
   "id": "8dcb4eb0-224a-403b-9f0e-43473431a911",
   "metadata": {},
   "source": [
    "### My Code:"
   ]
  },
  {
   "cell_type": "markdown",
   "id": "46b0def3-fe00-43ef-a5d0-716184a45b7c",
   "metadata": {},
   "source": [
    "#### Initial Solution"
   ]
  },
  {
   "cell_type": "code",
   "execution_count": 12,
   "id": "250b14fe-447a-4f2a-8668-3c5a48878e9a",
   "metadata": {},
   "outputs": [],
   "source": [
    "from typing import List\n",
    "\n",
    "class Solution:\n",
    "    def twoSum(self, numbers: List[int], target: int) -> List[int]:\n",
    "        \"\"\"Find two integers in numbers that sum to target.\n",
    "        Constraints:\n",
    "\n",
    "        2 <= numbers.length <= 3 * 104\n",
    "        -1000 <= numbers[i] <= 1000\n",
    "        numbers is sorted in non-decreasing order.\n",
    "        -1000 <= target <= 1000\n",
    "        The tests are generated such that there is exactly one solution.\n",
    "\n",
    "        :param numbers:\n",
    "        :param target:\n",
    "        :return: the indices of the integers that sum to target + 1\n",
    "        \"\"\"\n",
    "        l, r = 0, len(numbers)-1\n",
    "\n",
    "        while l < r:\n",
    "            current = numbers[l] + numbers[r]\n",
    "\n",
    "            if current < target:\n",
    "                l += 1\n",
    "            elif current > target:\n",
    "                r -= 1\n",
    "            else:\n",
    "                return [l+1,r+1]\n"
   ]
  },
  {
   "cell_type": "markdown",
   "id": "d7f5e57c-8990-4498-9e4b-47cc517b2205",
   "metadata": {},
   "source": [
    "Simple two pointer problem. I initially got confused by the question description. However, all you need to do is define two pointers (l and r). The first pointer, l, should be initialised to '0' whilst the second pointer will be the length of the array minus 1 (due to zero indexing).\n",
    "\n",
    "From here, the problem is solved by shrinking the 'gap' between the pointers l and r. If the sum of:\n",
    "\n",
    "$numbers[l] + numbers[r] < target$\n",
    "\n",
    "Then increment the value of l by 1.\n",
    "\n",
    "```\n",
    "l += 1\n",
    "```\n",
    "\n",
    "Should the target be too small, increment r by minus 1.\n",
    "\n",
    "```\n",
    "r -= 1\n",
    "```\n",
    "\n",
    "eventually, this will cover the whole set of possible values within the given array. The solution is complete and will find the solution (should it exist - which is must in the context)."
   ]
  },
  {
   "cell_type": "markdown",
   "id": "5a6ed995-8605-4243-b7c1-5575cedce5b5",
   "metadata": {},
   "source": [
    "##### Improved Solution"
   ]
  },
  {
   "cell_type": "code",
   "execution_count": 2,
   "id": "a12050c5-1e74-4d24-ad8e-c1b3b676f46c",
   "metadata": {},
   "outputs": [],
   "source": [
    "class Solution:\n",
    "    \n",
    "    def example(self, param: int = 0) -> str:\n",
    "        \"\"\"An Example function.\n",
    "    \n",
    "        :param param: An int, it does nothing!\n",
    "        :return: Returns the String \"Hello World!\"\n",
    "        \"\"\"\n",
    "        \n",
    "        return \"Hello World!\"\n",
    "\n",
    "\n",
    "# -- Add Code Here\n"
   ]
  },
  {
   "cell_type": "markdown",
   "id": "4a833389-10be-445f-a294-48b88aeb4318",
   "metadata": {},
   "source": [
    "#### Testing:"
   ]
  },
  {
   "cell_type": "code",
   "execution_count": 13,
   "id": "7a62363a-3933-471b-97c2-770ebcabc3aa",
   "metadata": {},
   "outputs": [
    {
     "name": "stdout",
     "output_type": "stream",
     "text": [
      "[3, 6]\n"
     ]
    }
   ],
   "source": [
    "params = [\n",
    "    [[-6, -5, -4, -2, 0, 1, 4, 7, 10], -3]\n",
    "]\n",
    "\n",
    "s = Solution()\n",
    "\n",
    "for i in range(len(params)):\n",
    "    print(s.twoSum(params[i][0],params[i][1]))"
   ]
  },
  {
   "cell_type": "markdown",
   "id": "52c5c4f2-6ecb-40eb-badd-2af9f5071a86",
   "metadata": {},
   "source": [
    "#### Notes:"
   ]
  },
  {
   "cell_type": "markdown",
   "id": "9d5b8b27-d9a2-4413-9c0f-61a32bf0d87a",
   "metadata": {},
   "source": [
    "- Example\n",
    "- Example Two"
   ]
  },
  {
   "cell_type": "markdown",
   "id": "5e9b32d0-4873-4f8a-a503-5a95aecad3cc",
   "metadata": {},
   "source": [
    "### Helpful Resources:"
   ]
  },
  {
   "cell_type": "markdown",
   "id": "d2035565-e17d-42b1-bb43-68674223cf11",
   "metadata": {},
   "source": []
  }
 ],
 "metadata": {
  "kernelspec": {
   "display_name": "Python 3 (ipykernel)",
   "language": "python",
   "name": "python3"
  },
  "language_info": {
   "codemirror_mode": {
    "name": "ipython",
    "version": 3
   },
   "file_extension": ".py",
   "mimetype": "text/x-python",
   "name": "python",
   "nbconvert_exporter": "python",
   "pygments_lexer": "ipython3",
   "version": "3.12.2"
  }
 },
 "nbformat": 4,
 "nbformat_minor": 5
}
