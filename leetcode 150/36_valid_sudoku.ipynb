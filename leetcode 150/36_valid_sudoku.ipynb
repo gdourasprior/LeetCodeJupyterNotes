{
 "cells": [
  {
   "cell_type": "markdown",
   "id": "3df51a72-bbec-48ed-b3e5-2479ac73bc5e",
   "metadata": {},
   "source": [
    "### The Problem:"
   ]
  },
  {
   "cell_type": "markdown",
   "id": "0143ac4f-2aad-450c-9b0a-05e8756889b8",
   "metadata": {},
   "source": [
    "The problem can be found [**here**](https://leetcode.com/problems/valid-sudoku/description/?envType=study-plan-v2&envId=top-interview-150)."
   ]
  },
  {
   "cell_type": "markdown",
   "id": "8dcb4eb0-224a-403b-9f0e-43473431a911",
   "metadata": {},
   "source": [
    "### My Code:"
   ]
  },
  {
   "cell_type": "markdown",
   "id": "46b0def3-fe00-43ef-a5d0-716184a45b7c",
   "metadata": {},
   "source": [
    "#### Initial Solution"
   ]
  },
  {
   "cell_type": "code",
   "execution_count": 1,
   "id": "250b14fe-447a-4f2a-8668-3c5a48878e9a",
   "metadata": {},
   "outputs": [],
   "source": [
    "from typing import List\n",
    "\n",
    "class Solution:\n",
    "    def isValidSudoku(self, board: List[List[str]]) -> bool:\n",
    "        r, c = set(), set()\n",
    "        sg = set()\n",
    "        for i in range(1, 9, 3):\n",
    "            sg.clear()\n",
    "\n",
    "            for j in range(-1, 2):\n",
    "                r.clear()\n",
    "                for k in range(9):\n",
    "                    t = board[i-j][k]\n",
    "                    if not board[i-j][k].isnumeric():\n",
    "                        continue\n",
    "\n",
    "                    if i-1 <= k <= i+1:\n",
    "                        if board[i-j][k] in sg:\n",
    "                            return False\n",
    "\n",
    "                        sg.add(board[i-j][k])\n",
    "\n",
    "                    if board[i-j][k] in r:\n",
    "                        return False\n",
    "\n",
    "                    r.add(board[i-j][k])\n",
    "\n",
    "                c.clear()\n",
    "                for k in range(9):\n",
    "                    t = board[k][i-j]\n",
    "                    if not board[k][i-j].isnumeric():\n",
    "                        continue\n",
    "\n",
    "                    if board[k][i-j] in c:\n",
    "                        return False\n",
    "\n",
    "                    c.add(board[k][i-j])\n",
    "\n",
    "        return True"
   ]
  },
  {
   "cell_type": "markdown",
   "id": "ece7a97c-ab4a-41b5-91ac-c2dbde56f52a",
   "metadata": {},
   "source": [
    "This code does not work. It attempted to 'cheat' the system by exploiting the structure of a sudoku board. I leave it up for posterities sake."
   ]
  },
  {
   "cell_type": "markdown",
   "id": "5a6ed995-8605-4243-b7c1-5575cedce5b5",
   "metadata": {},
   "source": [
    "##### Improved Solution"
   ]
  },
  {
   "cell_type": "code",
   "execution_count": 16,
   "id": "a12050c5-1e74-4d24-ad8e-c1b3b676f46c",
   "metadata": {},
   "outputs": [],
   "source": [
    "from typing import List\n",
    "\n",
    "class Solution:\n",
    "    def isValidSudoku(self, board: List[List[str]]) -> bool:\n",
    "        r, c = set(), set()\n",
    "        sg = [[set() for _ in range(3)] for _ in range(3)]\n",
    "\n",
    "        for i in range(9):\n",
    "\n",
    "            r.clear()\n",
    "            for k in range(9):\n",
    "                if not board[i][k].isnumeric():\n",
    "                    continue\n",
    "\n",
    "                if board[i][k] in sg[i//3][k//3]:\n",
    "                    return False\n",
    "\n",
    "                sg[i//3][k//3].add(board[i][k])\n",
    "\n",
    "                if board[i][k] in r:\n",
    "                    return False\n",
    "\n",
    "                r.add(board[i][k])\n",
    "\n",
    "            c.clear()\n",
    "            for k in range(9):\n",
    "                if not board[k][i].isnumeric():\n",
    "                    continue\n",
    "\n",
    "                if board[k][i] in c:\n",
    "                    return False\n",
    "\n",
    "                c.add(board[k][i])\n",
    "\n",
    "        return True\n"
   ]
  },
  {
   "cell_type": "markdown",
   "id": "cb7a5fa9-d3f7-419c-b299-9f4141caa291",
   "metadata": {},
   "source": [
    "This code iterates through both the rows and columns simultaneously this identifies if the row and column constraints are being met - that there are no duplicates.\n",
    "\n",
    "The additional complexity comes from the constraint that each sub-grid must ALSO have no duplicates. So, as we iterate we also add items to a 3x3 matrix of additional sets to ensure that no duplicates are found in each sub-grid.\n",
    "\n",
    "The set is a powerful data structure for such a problem because we simply need to know if a variable is uniquely found within a row, column or sub-grid. The set permits searching in constant time because it is ultimately a hashmap."
   ]
  },
  {
   "cell_type": "markdown",
   "id": "4a833389-10be-445f-a294-48b88aeb4318",
   "metadata": {},
   "source": [
    "#### Testing:"
   ]
  },
  {
   "cell_type": "code",
   "execution_count": 15,
   "id": "7a62363a-3933-471b-97c2-770ebcabc3aa",
   "metadata": {},
   "outputs": [
    {
     "name": "stdout",
     "output_type": "stream",
     "text": [
      "False\n",
      "False\n"
     ]
    }
   ],
   "source": [
    "params = [\n",
    "    #[[\"5\",\"3\",\".\",\".\",\"7\",\".\",\".\",\".\",\".\"],[\"6\",\".\",\".\",\"1\",\"9\",\"5\",\".\",\".\",\".\"],[\".\",\"9\",\"8\",\".\",\".\",\".\",\".\",\"6\",\".\"],[\"8\",\".\",\".\",\".\",\"6\",\".\",\".\",\".\",\"3\"],[\"4\",\".\",\".\",\"8\",\".\",\"3\",\".\",\".\",\"1\"],[\"7\",\".\",\".\",\".\",\"2\",\".\",\".\",\".\",\"6\"],[\".\",\"6\",\".\",\".\",\".\",\".\",\"2\",\"8\",\".\"],[\".\",\".\",\".\",\"4\",\"1\",\"9\",\".\",\".\",\"5\"],[\".\",\".\",\".\",\".\",\"8\",\".\",\".\",\"7\",\"9\"]],\n",
    "    #[[\"8\",\"3\",\".\",\".\",\"7\",\".\",\".\",\".\",\".\"],[\"6\",\".\",\".\",\"1\",\"9\",\"5\",\".\",\".\",\".\"],[\".\",\"9\",\"8\",\".\",\".\",\".\",\".\",\"6\",\".\"],[\"8\",\".\",\".\",\".\",\"6\",\".\",\".\",\".\",\"3\"],[\"4\",\".\",\".\",\"8\",\".\",\"3\",\".\",\".\",\"1\"],[\"7\",\".\",\".\",\".\",\"2\",\".\",\".\",\".\",\"6\"],[\".\",\"6\",\".\",\".\",\".\",\".\",\"2\",\"8\",\".\"],[\".\",\".\",\".\",\"4\",\"1\",\"9\",\".\",\".\",\"5\"],[\".\",\".\",\".\",\".\",\"8\",\".\",\".\",\"7\",\"9\"]],\n",
    "    [[\".\",\".\",\"4\",\".\",\".\",\".\",\"6\",\"3\",\".\"],[\".\",\".\",\".\",\".\",\".\",\".\",\".\",\".\",\".\"],[\"5\",\".\",\".\",\".\",\".\",\".\",\".\",\"9\",\".\"],[\".\",\".\",\".\",\"5\",\"6\",\".\",\".\",\".\",\".\"],[\"4\",\".\",\"3\",\".\",\".\",\".\",\".\",\".\",\"1\"],[\".\",\".\",\".\",\"7\",\".\",\".\",\".\",\".\",\".\"],[\".\",\".\",\".\",\"5\",\".\",\".\",\".\",\".\",\".\"],[\".\",\".\",\".\",\".\",\".\",\".\",\".\",\".\",\".\"],[\".\",\".\",\".\",\".\",\".\",\".\",\".\",\".\",\".\"]],\n",
    "    [[\".\",\".\",\".\",\".\",\"5\",\".\",\".\",\"1\",\".\"],[\".\",\"4\",\".\",\"3\",\".\",\".\",\".\",\".\",\".\"],[\".\",\".\",\".\",\".\",\".\",\"3\",\".\",\".\",\"1\"],[\"8\",\".\",\".\",\".\",\".\",\".\",\".\",\"2\",\".\"],[\".\",\".\",\"2\",\".\",\"7\",\".\",\".\",\".\",\".\"],[\".\",\"1\",\"5\",\".\",\".\",\".\",\".\",\".\",\".\"],[\".\",\".\",\".\",\".\",\".\",\"2\",\".\",\".\",\".\"],[\".\",\"2\",\".\",\"9\",\".\",\".\",\".\",\".\",\".\"],[\".\",\".\",\"4\",\".\",\".\",\".\",\".\",\".\",\".\"]]\n",
    "]\n",
    "\n",
    "s = Solution()\n",
    "\n",
    "for i in range(len(params)):\n",
    "    print(s.isValidSudoku(params[i]))"
   ]
  },
  {
   "cell_type": "markdown",
   "id": "52c5c4f2-6ecb-40eb-badd-2af9f5071a86",
   "metadata": {},
   "source": [
    "#### Notes:"
   ]
  },
  {
   "cell_type": "markdown",
   "id": "9d5b8b27-d9a2-4413-9c0f-61a32bf0d87a",
   "metadata": {},
   "source": [
    "- Example\n",
    "- Example Two"
   ]
  },
  {
   "cell_type": "markdown",
   "id": "5e9b32d0-4873-4f8a-a503-5a95aecad3cc",
   "metadata": {},
   "source": [
    "### Helpful Resources:"
   ]
  },
  {
   "cell_type": "markdown",
   "id": "d2035565-e17d-42b1-bb43-68674223cf11",
   "metadata": {},
   "source": []
  }
 ],
 "metadata": {
  "kernelspec": {
   "display_name": "Python 3 (ipykernel)",
   "language": "python",
   "name": "python3"
  },
  "language_info": {
   "codemirror_mode": {
    "name": "ipython",
    "version": 3
   },
   "file_extension": ".py",
   "mimetype": "text/x-python",
   "name": "python",
   "nbconvert_exporter": "python",
   "pygments_lexer": "ipython3",
   "version": "3.12.2"
  }
 },
 "nbformat": 4,
 "nbformat_minor": 5
}
