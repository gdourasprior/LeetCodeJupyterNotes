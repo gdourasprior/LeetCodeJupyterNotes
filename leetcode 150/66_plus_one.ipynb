{
 "cells": [
  {
   "cell_type": "markdown",
   "id": "3df51a72-bbec-48ed-b3e5-2479ac73bc5e",
   "metadata": {},
   "source": [
    "### The Problem:"
   ]
  },
  {
   "cell_type": "markdown",
   "id": "0143ac4f-2aad-450c-9b0a-05e8756889b8",
   "metadata": {},
   "source": [
    "The problem can be found [**here**](https://leetcode.com/problems/plus-one/description/?envType=study-plan-v2&envId=top-interview-150)."
   ]
  },
  {
   "cell_type": "markdown",
   "id": "8dcb4eb0-224a-403b-9f0e-43473431a911",
   "metadata": {},
   "source": [
    "### My Code:"
   ]
  },
  {
   "cell_type": "markdown",
   "id": "46b0def3-fe00-43ef-a5d0-716184a45b7c",
   "metadata": {},
   "source": [
    "#### Initial Solution"
   ]
  },
  {
   "cell_type": "code",
   "execution_count": 9,
   "id": "250b14fe-447a-4f2a-8668-3c5a48878e9a",
   "metadata": {},
   "outputs": [],
   "source": [
    "from typing import List\n",
    "\n",
    "class Solution:\n",
    "    def plusOne(self, digits: List[int]) -> List[int]:\n",
    "        \"\"\"Increment the given value stored in digits by 1.\n",
    "\n",
    "        1 <= digits.length <= 100\n",
    "        0 <= digits[i] <= 9\n",
    "        digits does not contain any leading 0's.\n",
    "        \n",
    "        :param digits: int array, each array[i] is the value for the ith position in the number 'digits'\n",
    "        :return: digits incremented by 1.\n",
    "        \"\"\"\n",
    "        r = False\n",
    "        for i in range(len(digits)-1, -1, -1):\n",
    "            if digits[i] == 9:\n",
    "                digits[i] = 0\n",
    "                r = True\n",
    "            else:\n",
    "                digits[i] += 1\n",
    "                r = False\n",
    "                break\n",
    "\n",
    "        if r:\n",
    "            digits.insert(0, 1)\n",
    "\n",
    "        return digits"
   ]
  },
  {
   "cell_type": "markdown",
   "id": "5a6ed995-8605-4243-b7c1-5575cedce5b5",
   "metadata": {},
   "source": [
    "##### Improved Solution"
   ]
  },
  {
   "cell_type": "code",
   "execution_count": 19,
   "id": "a12050c5-1e74-4d24-ad8e-c1b3b676f46c",
   "metadata": {},
   "outputs": [],
   "source": [
    "class Solution:\n",
    "    def plusOne(self, digits: List[int]) -> List[int]:\n",
    "        \"\"\"Increment the given value stored in digits by 1.\n",
    "\n",
    "        1 <= digits.length <= 100\n",
    "        0 <= digits[i] <= 9\n",
    "        digits does not contain any leading 0's.\n",
    "        \n",
    "        :param digits: int array, each array[i] is the value for the ith position in the number 'digits'\n",
    "        :return: digits incremented by 1.\n",
    "        \"\"\"\n",
    "        for i in range(len(digits)-1,-1,-1):\n",
    "            if digits[i] < 9:\n",
    "                digits[i] += 1\n",
    "                return digits\n",
    "            digits[i] = 0\n",
    "\n",
    "        return [1] + digits\n"
   ]
  },
  {
   "cell_type": "markdown",
   "id": "4a833389-10be-445f-a294-48b88aeb4318",
   "metadata": {},
   "source": [
    "#### Testing:"
   ]
  },
  {
   "cell_type": "code",
   "execution_count": 20,
   "id": "7a62363a-3933-471b-97c2-770ebcabc3aa",
   "metadata": {},
   "outputs": [
    {
     "name": "stdout",
     "output_type": "stream",
     "text": [
      "Input: 0\n",
      " Output: [1, 0, 0, 0, 0, 0, 0, 0, 0, 0, 0, 0, 0, 0, 0, 0, 0, 0, 0, 0, 0, 0, 0, 0, 0, 0, 0, 0, 0, 0, 0, 0, 0, 0, 0, 0, 0, 0, 0, 0, 0, 0, 0, 0, 0, 0, 0, 0, 0, 0, 0, 0, 0, 0, 0, 0, 0, 0, 0, 0, 0, 0, 0, 0, 0, 0, 0, 0, 0, 0, 0, 0, 0, 0, 0, 0, 0, 0, 0, 0, 0, 0, 0, 0, 0, 0, 0, 0, 0, 0, 0, 0, 0, 0, 0, 0, 0, 0, 0, 0, 0]\n",
      "Input: 1\n",
      " Output: [1, 0]\n",
      "Input: 2\n",
      " Output: [1, 3, 0]\n",
      "Input: 3\n",
      " Output: [1, 2]\n",
      "Input: 4\n",
      " Output: [4, 0, 0, 0]\n",
      "Input: 5\n",
      " Output: [1, 0, 0, 0, 0]\n",
      "Input: 6\n",
      " Output: [9, 9, 9, 0]\n",
      "Input: 7\n",
      " Output: [9, 9, 8, 9]\n"
     ]
    }
   ],
   "source": [
    "import random as r\n",
    "\n",
    "r.seed('test')\n",
    "\n",
    "params = [\n",
    "    [9 for _ in range(100)],\n",
    "    [9],\n",
    "    [1,2,9],\n",
    "    [1,1],\n",
    "    [3,9,9,9],\n",
    "    [9,9,9,9],\n",
    "    [9,9,8,9],\n",
    "    [9,9,8,8]\n",
    "]\n",
    "\n",
    "s = Solution()\n",
    "\n",
    "for i in range(len(params)):\n",
    "    print(f\"Input: {i}\\n Output: {s.plusOne(params[i])}\")"
   ]
  },
  {
   "cell_type": "markdown",
   "id": "52c5c4f2-6ecb-40eb-badd-2af9f5071a86",
   "metadata": {},
   "source": [
    "#### Notes:"
   ]
  },
  {
   "cell_type": "markdown",
   "id": "9d5b8b27-d9a2-4413-9c0f-61a32bf0d87a",
   "metadata": {},
   "source": [
    "- Example\n",
    "- Example Two"
   ]
  },
  {
   "cell_type": "markdown",
   "id": "5e9b32d0-4873-4f8a-a503-5a95aecad3cc",
   "metadata": {},
   "source": [
    "### Helpful Resources:"
   ]
  },
  {
   "cell_type": "markdown",
   "id": "d2035565-e17d-42b1-bb43-68674223cf11",
   "metadata": {},
   "source": []
  }
 ],
 "metadata": {
  "kernelspec": {
   "display_name": "Python 3 (ipykernel)",
   "language": "python",
   "name": "python3"
  },
  "language_info": {
   "codemirror_mode": {
    "name": "ipython",
    "version": 3
   },
   "file_extension": ".py",
   "mimetype": "text/x-python",
   "name": "python",
   "nbconvert_exporter": "python",
   "pygments_lexer": "ipython3",
   "version": "3.12.2"
  }
 },
 "nbformat": 4,
 "nbformat_minor": 5
}
