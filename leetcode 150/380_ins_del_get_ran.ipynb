{
 "cells": [
  {
   "cell_type": "markdown",
   "id": "3df51a72-bbec-48ed-b3e5-2479ac73bc5e",
   "metadata": {},
   "source": [
    "### The Problem:"
   ]
  },
  {
   "cell_type": "markdown",
   "id": "0143ac4f-2aad-450c-9b0a-05e8756889b8",
   "metadata": {},
   "source": [
    "The problem can be found [**here**](https://leetcode.com/problems/insert-delete-getrandom-o1/description/?envType=study-plan-v2&envId=top-interview-150)."
   ]
  },
  {
   "cell_type": "markdown",
   "id": "8dcb4eb0-224a-403b-9f0e-43473431a911",
   "metadata": {},
   "source": [
    "### My Code:"
   ]
  },
  {
   "cell_type": "markdown",
   "id": "46b0def3-fe00-43ef-a5d0-716184a45b7c",
   "metadata": {},
   "source": [
    "#### Initial Solution"
   ]
  },
  {
   "cell_type": "code",
   "execution_count": 36,
   "id": "250b14fe-447a-4f2a-8668-3c5a48878e9a",
   "metadata": {},
   "outputs": [],
   "source": [
    "import random as r\n",
    "\n",
    "class RandomizedSet:\n",
    "\n",
    "    def __init__(self):\n",
    "        self.hm = dict()\n",
    "        self.hl = list()\n",
    "        self.c = 0\n",
    "\n",
    "    def insert(self, val: int) -> bool:\n",
    "        if val in self.hm:\n",
    "            return False\n",
    "        else:\n",
    "            self.hl.append(val)\n",
    "            self.hm[val] = self.c\n",
    "            self.c += 1\n",
    "            return True\n",
    "\n",
    "    def remove(self, val: int) -> bool:\n",
    "        t = self.hm.get(val, None)\n",
    "        if t != None:\n",
    "            a = self.hl[self.c-1]\n",
    "            self.hl[t] = a\n",
    "            self.hm[a] = t\n",
    "            self.hm.pop(val)\n",
    "            self.hl.pop()\n",
    "            self.c -= 1\n",
    "            return True\n",
    "        else:\n",
    "            return False\n",
    "\n",
    "    def getRandom(self) -> int:\n",
    "        return self.hl[r.randint(0, self.c-1)]"
   ]
  },
  {
   "cell_type": "markdown",
   "id": "610fb046-035f-4d2a-a2b1-e35ecb41139a",
   "metadata": {},
   "source": [
    "This needs further work, it functions but it is memory inefficent."
   ]
  },
  {
   "cell_type": "markdown",
   "id": "5a6ed995-8605-4243-b7c1-5575cedce5b5",
   "metadata": {},
   "source": [
    "##### Improved Solution"
   ]
  },
  {
   "cell_type": "code",
   "execution_count": 25,
   "id": "a12050c5-1e74-4d24-ad8e-c1b3b676f46c",
   "metadata": {},
   "outputs": [],
   "source": [
    "import random as r\n",
    "\n",
    "class RandomizedSet:\n",
    "\n",
    "    def __init__(self):\n",
    "        self.hm = dict()\n",
    "        self.hl = list()\n",
    "\n",
    "    def insert(self, val: int) -> bool:\n",
    "        if val in self.hm:\n",
    "            return False\n",
    "        else:\n",
    "            self.hm[val] = len(self.hm)\n",
    "            self.hl.append(val)\n",
    "            return True\n",
    "\n",
    "    def remove(self, val: int) -> bool:\n",
    "        if self.hm.get(val, None) != None:\n",
    "            self.hl[self.hm[val]] = self.hl[len(self.hl)-1]\n",
    "            self.hm[self.hl[len(self.hl)-1]] = self.hm[val]\n",
    "            self.hm.pop(val)\n",
    "            self.hl.pop()\n",
    "            return True\n",
    "        else:\n",
    "            return False\n",
    "\n",
    "    def getRandom(self) -> int:\n",
    "        return self.hl[r.randint(0, len(self.hl)-1)]\n"
   ]
  },
  {
   "cell_type": "markdown",
   "id": "ca57cfed-931e-4219-9b06-eb4d015ea801",
   "metadata": {},
   "source": [
    "This solution sort to speed up the runtime and reduce memory usage by removing unecessary variables and calls. Some slight performance increases but not sufficent."
   ]
  },
  {
   "cell_type": "code",
   "execution_count": 35,
   "id": "4e42c98d-d206-405e-be01-580a5e775feb",
   "metadata": {},
   "outputs": [],
   "source": [
    "import random as r\n",
    "\n",
    "class RandomizedSet:\n",
    "\n",
    "    def __init__(self):\n",
    "        self.entries = list()\n",
    "        self.positions = dict()\n",
    "\n",
    "    def insert(self, val: int) -> bool:\n",
    "        if self.positions.get(val, None) != None:\n",
    "            return False\n",
    "        self.entries.append(val)\n",
    "        self.positions[val] = len(self.entries)-1\n",
    "\n",
    "    def remove(self, val: int) -> bool:\n",
    "        if self.positions.get(val, None) == None:\n",
    "            return False\n",
    "        i = self.positions[val]\n",
    "        self.entries[i] = self.entries[-1]\n",
    "        self.positions[self.entries[-1]] = i\n",
    "        self.entries.pop()\n",
    "        self.positions.pop(val)\n",
    "        return True\n",
    "\n",
    "    def getRandom(self) -> int:\n",
    "        i = int(r.random() * len(self.entries))\n",
    "        return self.entries[i]"
   ]
  },
  {
   "cell_type": "markdown",
   "id": "272faea0-fece-4b4d-b1ec-b2558cfc6431",
   "metadata": {},
   "source": [
    "This final version of the class further removes unecessary code. All 'else' branches of if-else statements have been removed. A different method of getting the 'random variable' is also employed."
   ]
  },
  {
   "cell_type": "code",
   "execution_count": null,
   "id": "00685e97-2647-4251-84c7-e9ecea5f24d4",
   "metadata": {},
   "outputs": [],
   "source": [
    "import random as r\n",
    "\n",
    "class RandomizedSet:\n",
    "\n",
    "    def __init__(self):\n",
    "        self.hm = dict()\n",
    "        self.hl = list()\n",
    "\n",
    "    def insert(self, val: int) -> bool:\n",
    "        if val in self.hm:\n",
    "            return False\n",
    "        else:\n",
    "            self.hm[val] = len(self.hm)\n",
    "            self.hl.append(val)\n",
    "            return True\n",
    "\n",
    "    def remove(self, val: int) -> bool:\n",
    "        if self.hm.get(val, None) != None:\n",
    "            self.hl[self.hm[val]] = self.hl[-1]\n",
    "            self.hm[self.hl[-1]] = self.hm[val]\n",
    "            self.hm.pop(val)\n",
    "            self.hl.pop()\n",
    "            return True\n",
    "        else:\n",
    "            return False\n",
    "\n",
    "    def getRandom(self) -> int:\n",
    "        i = int(r.random() * len(self.hl))\n",
    "        return self.hl[i]"
   ]
  },
  {
   "cell_type": "markdown",
   "id": "bc5ca706-6894-4be7-985f-f81466bce8ce",
   "metadata": {},
   "source": [
    "This combines the final two solutions. We use the memory efficent second solution and combine it with the faster improved solution. This results in using the basic data structures and insert and remove functions of the 2nd solution but the getRandom of the 3rd solution (which is notably faster)"
   ]
  },
  {
   "cell_type": "markdown",
   "id": "4a833389-10be-445f-a294-48b88aeb4318",
   "metadata": {},
   "source": [
    "#### Testing:"
   ]
  },
  {
   "cell_type": "code",
   "execution_count": 34,
   "id": "7a62363a-3933-471b-97c2-770ebcabc3aa",
   "metadata": {},
   "outputs": [
    {
     "name": "stdout",
     "output_type": "stream",
     "text": [
      "None\n",
      "False\n",
      "None\n",
      "2\n",
      "1\n",
      "2\n",
      "1\n",
      "True\n",
      "False\n",
      "2\n",
      "2\n",
      "2\n",
      "2\n",
      "None\n",
      "None\n",
      "True\n",
      "None\n",
      "True\n",
      "2\n",
      "2\n",
      "2\n",
      "2\n"
     ]
    }
   ],
   "source": [
    "import unittest\n",
    "\n",
    "class TestSuite(unittest.TestCase):\n",
    "    pass\n",
    "\n",
    "params = [\n",
    "    [[\"RandomizedSet\",\"insert\",\"remove\",\"insert\",\"getRandom\",\"remove\",\"insert\",\"getRandom\"],\n",
    "     [[],[1],[2],[2],[],[1],[2],[]]],\n",
    "    [[\"RandomizedSet\",\"insert\",\"insert\",\"remove\",\"insert\",\"remove\",\"getRandom\"],\n",
    "     [[],[0],[1],[0],[2],[1],[]]]\n",
    "]\n",
    "\n",
    "s = None\n",
    "\n",
    "for i in range(len(params)):\n",
    "    for j in range(len(params[i][0])):\n",
    "        match params[i][0][j]:\n",
    "            case \"RandomizedSet\":\n",
    "                s = RandomizedSet()\n",
    "            case \"insert\":\n",
    "                print(s.insert(params[i][1][j][0]))\n",
    "            case \"remove\":\n",
    "                print(s.remove(params[i][1][j][0]))\n",
    "            case \"getRandom\":\n",
    "                print(s.getRandom())\n",
    "                print(s.getRandom())\n",
    "                print(s.getRandom())\n",
    "                print(s.getRandom())"
   ]
  },
  {
   "cell_type": "markdown",
   "id": "52c5c4f2-6ecb-40eb-badd-2af9f5071a86",
   "metadata": {},
   "source": [
    "#### Notes:"
   ]
  },
  {
   "cell_type": "markdown",
   "id": "9d5b8b27-d9a2-4413-9c0f-61a32bf0d87a",
   "metadata": {},
   "source": [
    "- Example\n",
    "- Example Two"
   ]
  },
  {
   "cell_type": "markdown",
   "id": "5e9b32d0-4873-4f8a-a503-5a95aecad3cc",
   "metadata": {},
   "source": [
    "### Helpful Resources:"
   ]
  },
  {
   "cell_type": "markdown",
   "id": "d2035565-e17d-42b1-bb43-68674223cf11",
   "metadata": {},
   "source": []
  }
 ],
 "metadata": {
  "kernelspec": {
   "display_name": "Python 3 (ipykernel)",
   "language": "python",
   "name": "python3"
  },
  "language_info": {
   "codemirror_mode": {
    "name": "ipython",
    "version": 3
   },
   "file_extension": ".py",
   "mimetype": "text/x-python",
   "name": "python",
   "nbconvert_exporter": "python",
   "pygments_lexer": "ipython3",
   "version": "3.12.2"
  }
 },
 "nbformat": 4,
 "nbformat_minor": 5
}
