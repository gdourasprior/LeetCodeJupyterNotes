{
 "cells": [
  {
   "cell_type": "markdown",
   "id": "3df51a72-bbec-48ed-b3e5-2479ac73bc5e",
   "metadata": {},
   "source": [
    "### The Problem:"
   ]
  },
  {
   "cell_type": "markdown",
   "id": "0143ac4f-2aad-450c-9b0a-05e8756889b8",
   "metadata": {},
   "source": [
    "The problem can be found [**here**](https://leetcode.com/problems/insert-delete-getrandom-o1/description/?envType=study-plan-v2&envId=top-interview-150)."
   ]
  },
  {
   "cell_type": "markdown",
   "id": "8dcb4eb0-224a-403b-9f0e-43473431a911",
   "metadata": {},
   "source": [
    "### My Code:"
   ]
  },
  {
   "cell_type": "markdown",
   "id": "46b0def3-fe00-43ef-a5d0-716184a45b7c",
   "metadata": {},
   "source": [
    "#### Initial Solution"
   ]
  },
  {
   "cell_type": "code",
   "execution_count": 37,
   "id": "250b14fe-447a-4f2a-8668-3c5a48878e9a",
   "metadata": {},
   "outputs": [],
   "source": [
    "import random as r\n",
    "\n",
    "class RandomizedSet:\n",
    "\n",
    "    def __init__(self):\n",
    "        self.hm = dict()\n",
    "        self.hl = list()\n",
    "        self.c = 0\n",
    "\n",
    "    def insert(self, val: int) -> bool:\n",
    "        if val in self.hm:\n",
    "            return False\n",
    "        else:\n",
    "            self.hl.append(val)\n",
    "            self.hm[val] = self.c\n",
    "            self.c += 1\n",
    "            return True\n",
    "\n",
    "    def remove(self, val: int) -> bool:\n",
    "        t = self.hm.get(val, None)\n",
    "        if t != None:\n",
    "            a = self.hl[self.c-1]\n",
    "            self.hl[t] = a\n",
    "            self.hm[a] = t\n",
    "            self.hm.pop(val)\n",
    "            self.hl.pop()\n",
    "            self.c -= 1\n",
    "            return True\n",
    "        else:\n",
    "            return False\n",
    "\n",
    "    def getRandom(self) -> int:\n",
    "        return self.hl[r.randint(0, self.c-1)]\n",
    "\n",
    "\n",
    "# Your RandomizedSet object will be instantiated and called as such:\n",
    "# obj = RandomizedSet()\n",
    "# param_1 = obj.insert(val)\n",
    "# param_2 = obj.remove(val)\n",
    "# param_3 = obj.getRandom()"
   ]
  },
  {
   "cell_type": "markdown",
   "id": "610fb046-035f-4d2a-a2b1-e35ecb41139a",
   "metadata": {},
   "source": [
    "This needs further work, it functions but it is memory inefficent."
   ]
  },
  {
   "cell_type": "markdown",
   "id": "5a6ed995-8605-4243-b7c1-5575cedce5b5",
   "metadata": {},
   "source": [
    "##### Improved Solution"
   ]
  },
  {
   "cell_type": "code",
   "execution_count": 2,
   "id": "a12050c5-1e74-4d24-ad8e-c1b3b676f46c",
   "metadata": {},
   "outputs": [],
   "source": [
    "import random as r\n",
    "\n",
    "class RandomizedSet:\n",
    "\n",
    "    def __init__(self):\n",
    "        self.hm = dict()\n",
    "        self.hl = list()\n",
    "        self.c = 0\n",
    "\n",
    "    def insert(self, val: int) -> bool:\n",
    "        if val in self.hm:\n",
    "            return False\n",
    "        else:\n",
    "            self.hl.append(val)\n",
    "            self.hm[val] = self.c\n",
    "            self.c += 1\n",
    "            return True\n",
    "\n",
    "    def remove(self, val: int) -> bool:\n",
    "        t = self.hm.get(val, None)\n",
    "        if t != None:\n",
    "            a = self.hl[self.c-1]\n",
    "            self.hl[t] = a\n",
    "            self.hm[a] = t\n",
    "            self.hm.pop(val)\n",
    "            self.hl.pop()\n",
    "            self.c -= 1\n",
    "            return True\n",
    "        else:\n",
    "            return False\n",
    "\n",
    "    def getRandom(self) -> int:\n",
    "        return self.hl[r.randint(0, self.c-1)]\n"
   ]
  },
  {
   "cell_type": "markdown",
   "id": "4a833389-10be-445f-a294-48b88aeb4318",
   "metadata": {},
   "source": [
    "#### Testing:"
   ]
  },
  {
   "cell_type": "code",
   "execution_count": 38,
   "id": "7a62363a-3933-471b-97c2-770ebcabc3aa",
   "metadata": {},
   "outputs": [
    {
     "name": "stdout",
     "output_type": "stream",
     "text": [
      "True\n",
      "False\n",
      "True\n",
      "1\n",
      "1\n",
      "1\n",
      "1\n",
      "True\n",
      "False\n",
      "2\n",
      "2\n",
      "2\n",
      "2\n",
      "True\n",
      "True\n",
      "True\n",
      "True\n",
      "True\n",
      "2\n",
      "2\n",
      "2\n",
      "2\n"
     ]
    }
   ],
   "source": [
    "import unittest\n",
    "\n",
    "class TestSuite(unittest.TestCase):\n",
    "    pass\n",
    "\n",
    "params = [\n",
    "    [[\"RandomizedSet\",\"insert\",\"remove\",\"insert\",\"getRandom\",\"remove\",\"insert\",\"getRandom\"],\n",
    "     [[],[1],[2],[2],[],[1],[2],[]]],\n",
    "    [[\"RandomizedSet\",\"insert\",\"insert\",\"remove\",\"insert\",\"remove\",\"getRandom\"],\n",
    "     [[],[0],[1],[0],[2],[1],[]]]\n",
    "]\n",
    "\n",
    "s = None\n",
    "\n",
    "for i in range(len(params)):\n",
    "    for j in range(len(params[i][0])):\n",
    "        match params[i][0][j]:\n",
    "            case \"RandomizedSet\":\n",
    "                s = RandomizedSet()\n",
    "            case \"insert\":\n",
    "                print(s.insert(params[i][1][j][0]))\n",
    "            case \"remove\":\n",
    "                print(s.remove(params[i][1][j][0]))\n",
    "            case \"getRandom\":\n",
    "                print(s.getRandom())\n",
    "                print(s.getRandom())\n",
    "                print(s.getRandom())\n",
    "                print(s.getRandom())"
   ]
  },
  {
   "cell_type": "markdown",
   "id": "52c5c4f2-6ecb-40eb-badd-2af9f5071a86",
   "metadata": {},
   "source": [
    "#### Notes:"
   ]
  },
  {
   "cell_type": "markdown",
   "id": "9d5b8b27-d9a2-4413-9c0f-61a32bf0d87a",
   "metadata": {},
   "source": [
    "- Example\n",
    "- Example Two"
   ]
  },
  {
   "cell_type": "markdown",
   "id": "5e9b32d0-4873-4f8a-a503-5a95aecad3cc",
   "metadata": {},
   "source": [
    "### Helpful Resources:"
   ]
  },
  {
   "cell_type": "markdown",
   "id": "d2035565-e17d-42b1-bb43-68674223cf11",
   "metadata": {},
   "source": []
  }
 ],
 "metadata": {
  "kernelspec": {
   "display_name": "Python 3 (ipykernel)",
   "language": "python",
   "name": "python3"
  },
  "language_info": {
   "codemirror_mode": {
    "name": "ipython",
    "version": 3
   },
   "file_extension": ".py",
   "mimetype": "text/x-python",
   "name": "python",
   "nbconvert_exporter": "python",
   "pygments_lexer": "ipython3",
   "version": "3.12.2"
  }
 },
 "nbformat": 4,
 "nbformat_minor": 5
}
