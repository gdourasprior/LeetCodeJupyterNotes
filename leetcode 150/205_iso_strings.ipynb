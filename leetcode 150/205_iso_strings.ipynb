{
 "cells": [
  {
   "cell_type": "markdown",
   "id": "3df51a72-bbec-48ed-b3e5-2479ac73bc5e",
   "metadata": {},
   "source": [
    "### The Problem:"
   ]
  },
  {
   "cell_type": "markdown",
   "id": "0143ac4f-2aad-450c-9b0a-05e8756889b8",
   "metadata": {},
   "source": [
    "The problem can be found [**here**](https://leetcode.com/problems/isomorphic-strings/description/?envType=study-plan-v2&envId=top-interview-150)."
   ]
  },
  {
   "cell_type": "markdown",
   "id": "8dcb4eb0-224a-403b-9f0e-43473431a911",
   "metadata": {},
   "source": [
    "### My Code:"
   ]
  },
  {
   "cell_type": "markdown",
   "id": "46b0def3-fe00-43ef-a5d0-716184a45b7c",
   "metadata": {},
   "source": [
    "#### Initial Solution"
   ]
  },
  {
   "cell_type": "code",
   "execution_count": 21,
   "id": "250b14fe-447a-4f2a-8668-3c5a48878e9a",
   "metadata": {},
   "outputs": [],
   "source": [
    "class Solution:\n",
    "    def isIsomorphic(self, s: str, t: str) -> bool:\n",
    "        \"\"\"Determine if s and t are isomorphic.\n",
    "\n",
    "        Constraints:\n",
    "        \n",
    "        1 <= s.length <= 5 * 104\n",
    "        t.length == s.length\n",
    "        s and t consist of any valid ascii character.\n",
    "\n",
    "        :param s:\n",
    "        :param t:\n",
    "        :return: True if s -> t, False otherwise\n",
    "        \"\"\"\n",
    "        st = dict()\n",
    "\n",
    "        for i in range(len(s)):\n",
    "            if s[i] in st:\n",
    "                if st[s[i]] != t[i]:\n",
    "                    return False\n",
    "\n",
    "            if t[i] in st.values() and s[i] not in st:\n",
    "                return False\n",
    "\n",
    "            st[s[i]] = t[i]\n",
    "\n",
    "        return True"
   ]
  },
  {
   "cell_type": "markdown",
   "id": "e4d8809c-5749-4291-85f6-d3285d8ee7b7",
   "metadata": {},
   "source": [
    "This original attempt was successful, but slow:\n",
    "```python\n",
    "if t[i] in st.values() and s[i] not in st:\n",
    "```\n",
    "This line is incredibly slow due to having to search for t[i] within st.values(). st.values itself simply creates a 'view object' for the values within that dictionary. It is memory efficent itself BUT searching it still takes linear time. Thus the runtime of the code is actually O(n^2). Previously, we check\n",
    "```python\n",
    "if s[i] in st:\n",
    "```\n",
    "but this is fine because searching for a key in a dictionary is achievable in O(1) - constant time."
   ]
  },
  {
   "cell_type": "markdown",
   "id": "5a6ed995-8605-4243-b7c1-5575cedce5b5",
   "metadata": {},
   "source": [
    "##### Improved Solution"
   ]
  },
  {
   "cell_type": "code",
   "execution_count": 26,
   "id": "a12050c5-1e74-4d24-ad8e-c1b3b676f46c",
   "metadata": {},
   "outputs": [],
   "source": [
    "class Solution:\n",
    "    def isIsomorphic(self, s: str, t: str) -> bool:\n",
    "        \"\"\"Determine if s and t are isomorphic.\n",
    "\n",
    "        Constraints:\n",
    "        \n",
    "        1 <= s.length <= 5 * 104\n",
    "        t.length == s.length\n",
    "        s and t consist of any valid ascii character.\n",
    "\n",
    "        :param s:\n",
    "        :param t:\n",
    "        :return: True if s -> t, False otherwise\n",
    "        \"\"\"\n",
    "        sm, tm = dict(), dict()\n",
    "\n",
    "        for i in range(len(s)):\n",
    "            sc, tc = s[i], t[i]\n",
    "\n",
    "            if sm.get(sc, None) != tm.get(tc, None):\n",
    "                return False\n",
    "\n",
    "            sm[sc] = i\n",
    "            tm[tc] = i\n",
    "\n",
    "        return True"
   ]
  },
  {
   "cell_type": "markdown",
   "id": "f54ce9e7-6014-40a6-8588-9f5c72b24d1f",
   "metadata": {},
   "source": [
    "This code is much faster because checking dictonaries is constant and the code iterates through the whole string, and the pattern t, in a single iteration thus O(n).\n",
    "\n",
    "This code maps each character within both s and t to a unique integer. If one or both characters so later mismatch (or one is absent) then the code returns False."
   ]
  },
  {
   "cell_type": "markdown",
   "id": "4a833389-10be-445f-a294-48b88aeb4318",
   "metadata": {},
   "source": [
    "#### Testing:"
   ]
  },
  {
   "cell_type": "code",
   "execution_count": 28,
   "id": "7a62363a-3933-471b-97c2-770ebcabc3aa",
   "metadata": {},
   "outputs": [
    {
     "name": "stdout",
     "output_type": "stream",
     "text": [
      "False\n"
     ]
    }
   ],
   "source": [
    "params = [\n",
    "    (\"badc\",\"baba\")\n",
    "]\n",
    "\n",
    "s = Solution()\n",
    "\n",
    "for i in range(len(params)):\n",
    "    print(s.isIsomorphic(params[i][0],params[i][1]))"
   ]
  },
  {
   "cell_type": "markdown",
   "id": "52c5c4f2-6ecb-40eb-badd-2af9f5071a86",
   "metadata": {},
   "source": [
    "#### Notes:"
   ]
  },
  {
   "cell_type": "markdown",
   "id": "9d5b8b27-d9a2-4413-9c0f-61a32bf0d87a",
   "metadata": {},
   "source": [
    "- Example\n",
    "- Example Two"
   ]
  },
  {
   "cell_type": "markdown",
   "id": "5e9b32d0-4873-4f8a-a503-5a95aecad3cc",
   "metadata": {},
   "source": [
    "### Helpful Resources:"
   ]
  },
  {
   "cell_type": "markdown",
   "id": "d2035565-e17d-42b1-bb43-68674223cf11",
   "metadata": {},
   "source": []
  }
 ],
 "metadata": {
  "kernelspec": {
   "display_name": "Python 3 (ipykernel)",
   "language": "python",
   "name": "python3"
  },
  "language_info": {
   "codemirror_mode": {
    "name": "ipython",
    "version": 3
   },
   "file_extension": ".py",
   "mimetype": "text/x-python",
   "name": "python",
   "nbconvert_exporter": "python",
   "pygments_lexer": "ipython3",
   "version": "3.12.2"
  }
 },
 "nbformat": 4,
 "nbformat_minor": 5
}
