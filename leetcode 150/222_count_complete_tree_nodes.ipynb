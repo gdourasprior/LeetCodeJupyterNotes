{
 "cells": [
  {
   "cell_type": "markdown",
   "id": "3df51a72-bbec-48ed-b3e5-2479ac73bc5e",
   "metadata": {},
   "source": [
    "### The Problem:"
   ]
  },
  {
   "cell_type": "markdown",
   "id": "0143ac4f-2aad-450c-9b0a-05e8756889b8",
   "metadata": {},
   "source": [
    "The problem can be found [**here**](linkHere)."
   ]
  },
  {
   "cell_type": "code",
   "execution_count": 2,
   "id": "f6618ae8-ab2a-4551-89d7-32c05642f6fa",
   "metadata": {},
   "outputs": [],
   "source": [
    "from typing import List, Optional"
   ]
  },
  {
   "cell_type": "markdown",
   "id": "8dcb4eb0-224a-403b-9f0e-43473431a911",
   "metadata": {},
   "source": [
    "### My Code:"
   ]
  },
  {
   "cell_type": "markdown",
   "id": "19081bbe-2f26-495f-afba-41bd4310012e",
   "metadata": {},
   "source": [
    "Code for creating and printing the tree nodes comes from PranchalK and Improved by Thangaraj from GeeksforGeeks\n",
    "\n",
    "The original code can be found [here](https://www.geeksforgeeks.org/construct-complete-binary-tree-given-array/)!"
   ]
  },
  {
   "cell_type": "code",
   "execution_count": 3,
   "id": "01bb12f1-18e8-4768-8eda-efcb0da89f47",
   "metadata": {},
   "outputs": [],
   "source": [
    "class TreeNode:\n",
    "    \"\"\"Create a new Tree\"\"\"\n",
    "    \n",
    "    def __init__(self, val=0, left=None, right=None):\n",
    "        self.val = val\n",
    "        self.left = left\n",
    "        self.right = right\n",
    "\n",
    "# Recursive creation and printing\n",
    "\n",
    "def insertLevelOrder(arr: list, i: int, n: int) -> TreeNode:\n",
    "    \"\"\"Create a Tree in level order\n",
    "\n",
    "    :param arr:\n",
    "    :param i:\n",
    "    :param n:\n",
    "    :return: the root of the created tree\n",
    "    \"\"\"\n",
    "    root = None\n",
    "\n",
    "    if i < n and arr[i]:\n",
    "        root = TreeNode(arr[i])\n",
    "\n",
    "        root.left = insertLevelOrder(arr, 2 * i + 1, n)\n",
    "\n",
    "        root.right = insertLevelOrder(arr, 2 * i + 2, n)\n",
    "\n",
    "    return root\n",
    "\n",
    "\n",
    "def inOrder(root: TreeNode) -> None:\n",
    "    \"\"\"Print the tree from given root node\n",
    "\n",
    "    :param root:\n",
    "    \"\"\"\n",
    "    if root != None:\n",
    "        inOrder(root.left)\n",
    "        print(root.val, end= \" \")\n",
    "        inOrder(root.right)\n",
    "\n",
    "\n",
    "# Queue based creation\n",
    "\n",
    "def buildTree(nums: list) -> TreeNode:\n",
    "    \"\"\"Build a tree from an array using a queue\n",
    "\n",
    "    :param nums:\n",
    "    :return: root of tree\n",
    "    \"\"\"\n",
    "    if not nums:\n",
    "        return None\n",
    "\n",
    "    root = TreeNode(nums[0])\n",
    "    q = [root]\n",
    "    i = 1\n",
    "\n",
    "    while i < len(nums):\n",
    "        curr = q.pop(0)\n",
    "\n",
    "        if i < len(nums) and nums[i]:\n",
    "            curr.left = TreeNode(nums[i])\n",
    "            q.append(curr.left)\n",
    "            i += 1\n",
    "            \n",
    "        else:\n",
    "            i += 1\n",
    "            \n",
    "        if i < len(nums) and nums[i]:\n",
    "            curr.right = TreeNode(nums[i])\n",
    "            q.append(curr.right)\n",
    "            i += 1\n",
    "\n",
    "        else:\n",
    "            i += 1\n",
    "\n",
    "    return root\n"
   ]
  },
  {
   "cell_type": "markdown",
   "id": "46b0def3-fe00-43ef-a5d0-716184a45b7c",
   "metadata": {},
   "source": [
    "#### Initial Solution"
   ]
  },
  {
   "cell_type": "code",
   "execution_count": 41,
   "id": "250b14fe-447a-4f2a-8668-3c5a48878e9a",
   "metadata": {},
   "outputs": [],
   "source": [
    "class Solution:\n",
    "    def countNodes(self, root: Optional[TreeNode]) -> int:\n",
    "        if not root:\n",
    "            return 0\n",
    "\n",
    "        c = 1\n",
    "\n",
    "        if root.right:\n",
    "            c += self.countNodes(root.right)\n",
    "\n",
    "            if root.left:\n",
    "                c += self.countNodes(root.left)\n",
    "\n",
    "        elif root.left:\n",
    "            c += self.countNodes(root.left)\n",
    "\n",
    "        return c"
   ]
  },
  {
   "cell_type": "markdown",
   "id": "d9f101d5-561f-4461-be17-8e2f5a70f34e",
   "metadata": {},
   "source": [
    "This is a failure, it operates in O(n) time and is simply an overcomplicated form of DFS."
   ]
  },
  {
   "cell_type": "markdown",
   "id": "5a6ed995-8605-4243-b7c1-5575cedce5b5",
   "metadata": {},
   "source": [
    "##### Improved Solution"
   ]
  },
  {
   "cell_type": "code",
   "execution_count": 53,
   "id": "a12050c5-1e74-4d24-ad8e-c1b3b676f46c",
   "metadata": {},
   "outputs": [],
   "source": [
    "class Solution:\n",
    "    def countNodes(self, root: Optional[TreeNode]) -> int:\n",
    "        if not root:\n",
    "            return 0\n",
    "\n",
    "        left, right = root, root\n",
    "\n",
    "        d = 0\n",
    "\n",
    "        while right:\n",
    "            left = left.left\n",
    "            right = right.right\n",
    "            d += 1\n",
    "\n",
    "        if not left:\n",
    "            return 2**d - 1\n",
    "\n",
    "        return 1 + self.countNodes(root.left) + self.countNodes(root.right)"
   ]
  },
  {
   "cell_type": "markdown",
   "id": "248cb68b-827d-433e-b332-6d87de6ea9a3",
   "metadata": {},
   "source": [
    "This algorithm operates in O(log(n)^2).\n",
    "\n",
    "It always goes along the outer 'branches' of the tree where possible. When it can no longer continue to go down the rightmost branch it checks to see if the leftmost branch being 'climbed' is also a 'None' (indicating that the tree is complete) if this isn't the case it iterates both child trees of the root until it gets a solution.\n",
    "\n",
    "This is optimised because we can exploit the nature of a complete binary tree, if we know that the tree terminates and the same depth on the far left and far right nodes then we can simply say that the total node count is 2^d - 1. This means we don't need to count each not within the tree.\n",
    "\n",
    "Furthermore, at least 1 side of the tree will always meet this constraint and so will be solved in O(log(n) time. Only one of the sub-trees will consistantly fail this check and will eventually be discovered and the algorithm will finish when each recursive stack is resolved."
   ]
  },
  {
   "cell_type": "markdown",
   "id": "4a833389-10be-445f-a294-48b88aeb4318",
   "metadata": {},
   "source": [
    "#### Testing:"
   ]
  },
  {
   "cell_type": "code",
   "execution_count": 54,
   "id": "7a62363a-3933-471b-97c2-770ebcabc3aa",
   "metadata": {},
   "outputs": [
    {
     "name": "stdout",
     "output_type": "stream",
     "text": [
      "8\n",
      "6\n",
      "0\n",
      "1\n"
     ]
    }
   ],
   "source": [
    "params = [\n",
    "    [1,6,7,4,5,8,9,3],\n",
    "    [1,2,3,4,5,6],\n",
    "    [],\n",
    "    [1]\n",
    "]\n",
    "\n",
    "s = Solution()\n",
    "\n",
    "for i in range(len(params)):\n",
    "    root = buildTree(params[i])\n",
    "\n",
    "    print(s.countNodes(root))"
   ]
  },
  {
   "cell_type": "markdown",
   "id": "52c5c4f2-6ecb-40eb-badd-2af9f5071a86",
   "metadata": {},
   "source": [
    "#### Notes:"
   ]
  },
  {
   "cell_type": "markdown",
   "id": "9d5b8b27-d9a2-4413-9c0f-61a32bf0d87a",
   "metadata": {},
   "source": []
  },
  {
   "cell_type": "markdown",
   "id": "5e9b32d0-4873-4f8a-a503-5a95aecad3cc",
   "metadata": {},
   "source": [
    "### Helpful Resources:"
   ]
  },
  {
   "cell_type": "markdown",
   "id": "d2035565-e17d-42b1-bb43-68674223cf11",
   "metadata": {},
   "source": []
  }
 ],
 "metadata": {
  "kernelspec": {
   "display_name": "Python 3 (ipykernel)",
   "language": "python",
   "name": "python3"
  },
  "language_info": {
   "codemirror_mode": {
    "name": "ipython",
    "version": 3
   },
   "file_extension": ".py",
   "mimetype": "text/x-python",
   "name": "python",
   "nbconvert_exporter": "python",
   "pygments_lexer": "ipython3",
   "version": "3.12.2"
  }
 },
 "nbformat": 4,
 "nbformat_minor": 5
}
