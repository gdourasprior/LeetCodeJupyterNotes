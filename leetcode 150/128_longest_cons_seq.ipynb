{
 "cells": [
  {
   "cell_type": "markdown",
   "id": "3df51a72-bbec-48ed-b3e5-2479ac73bc5e",
   "metadata": {},
   "source": [
    "### The Problem:"
   ]
  },
  {
   "cell_type": "markdown",
   "id": "0143ac4f-2aad-450c-9b0a-05e8756889b8",
   "metadata": {},
   "source": [
    "The problem can be found [**here**](https://leetcode.com/problems/longest-consecutive-sequence/description/?envType=study-plan-v2&envId=top-interview-150)."
   ]
  },
  {
   "cell_type": "markdown",
   "id": "8dcb4eb0-224a-403b-9f0e-43473431a911",
   "metadata": {},
   "source": [
    "### My Code:"
   ]
  },
  {
   "cell_type": "markdown",
   "id": "46b0def3-fe00-43ef-a5d0-716184a45b7c",
   "metadata": {},
   "source": [
    "#### Initial Solution"
   ]
  },
  {
   "cell_type": "code",
   "execution_count": 7,
   "id": "250b14fe-447a-4f2a-8668-3c5a48878e9a",
   "metadata": {},
   "outputs": [],
   "source": [
    "from typing import List\n",
    "\n",
    "class Solution:\n",
    "    def longestConsecutive(self, nums: List[int]) -> int:\n",
    "        if len(nums) < 2:\n",
    "            return len(nums)\n",
    "\n",
    "        nums.sort()\n",
    "        c = 0\n",
    "        x = 1\n",
    "        cur = nums[0]\n",
    "\n",
    "        for i in range(1, len(nums)):\n",
    "            cur += 1\n",
    "\n",
    "            if nums[i] != cur:\n",
    "                if x > c:\n",
    "                    c = x\n",
    "                cur = nums[i]\n",
    "                continue\n",
    "\n",
    "            x += 1\n",
    "\n",
    "        if x >  c:\n",
    "            c = x\n",
    "\n",
    "        return c"
   ]
  },
  {
   "cell_type": "markdown",
   "id": "750ca275-30b5-4c0d-82d6-3b882d860023",
   "metadata": {},
   "source": [
    "This initial code won't work because it is O(nlogn) runtime due to the use of 'sort'."
   ]
  },
  {
   "cell_type": "markdown",
   "id": "5a6ed995-8605-4243-b7c1-5575cedce5b5",
   "metadata": {},
   "source": [
    "##### Improved Solution"
   ]
  },
  {
   "cell_type": "code",
   "execution_count": 17,
   "id": "a12050c5-1e74-4d24-ad8e-c1b3b676f46c",
   "metadata": {},
   "outputs": [],
   "source": [
    "from typing import List\n",
    "\n",
    "class Solution:\n",
    "    def longestConsecutive(self, nums: List[int]) -> int:\n",
    "        if len(nums) < 2:\n",
    "            return len(nums)\n",
    "\n",
    "        s = set()\n",
    "        r = 0\n",
    "\n",
    "        for i in range(len(nums)):\n",
    "            s.add(nums[i])\n",
    "\n",
    "        for i in range(len(nums)):\n",
    "            if not s:\n",
    "                break\n",
    "\n",
    "            if nums[i] not in s:\n",
    "                continue\n",
    "\n",
    "            cur = nums[i]\n",
    "\n",
    "            while cur in s:\n",
    "                cur -= 1\n",
    "\n",
    "            cur += 1\n",
    "            c = 0\n",
    "\n",
    "            while cur in s:\n",
    "                c += 1\n",
    "                s.remove(cur)\n",
    "                cur +=1\n",
    "\n",
    "            if r < c:\n",
    "                r = c\n",
    "\n",
    "        return r"
   ]
  },
  {
   "cell_type": "markdown",
   "id": "cc2340f5-b272-4495-8262-6c7d8cc0e7ec",
   "metadata": {},
   "source": [
    "The algorithm here is simple:\n",
    "1. Add each element in to a set (hashmap)\n",
    "2. Go through each element in 'nums'.\n",
    "3. For each element determine if nums[i]-1 is found within the set\n",
    "4. If so, continue to do this until you find an item not in the set\n",
    "5. You know know the starting element in a chain.\n",
    "6. Iterate through the chain until you reach the conclusion and remove each element from the set\n",
    "7. Record the length of the chain\n",
    "8. If it is the longest record it\n",
    "9. return the longest chain\n",
    "\n",
    "\n",
    "This algorithm can be improved to speed it up, but it is fairly efficent."
   ]
  },
  {
   "cell_type": "code",
   "execution_count": 5,
   "id": "e66d827a-be0f-4d3d-b2a0-b7ad775c83ed",
   "metadata": {},
   "outputs": [],
   "source": [
    "from typing import List\n",
    "\n",
    "class Solution:\n",
    "    def longestConsecutive(self, nums: List[int]) -> int:\n",
    "        if len(nums) < 2:\n",
    "            return len(nums)\n",
    "\n",
    "        s = set()\n",
    "        r = 0\n",
    "\n",
    "        for i in range(len(nums)):\n",
    "            s.add(nums[i])\n",
    "\n",
    "        for i in range(len(nums)):\n",
    "            if not s:\n",
    "                break\n",
    "\n",
    "            if nums[i] not in s:\n",
    "                continue\n",
    "\n",
    "            cur = nums[i]\n",
    "            c = 0\n",
    "\n",
    "            while cur in s:\n",
    "                c += 1\n",
    "                s.remove(cur)\n",
    "                cur -= 1\n",
    "\n",
    "            cur = nums[i] + 1\n",
    "\n",
    "            while cur in s:\n",
    "                c += 1\n",
    "                s.remove(cur)\n",
    "                cur +=1\n",
    "\n",
    "            if r < c:\n",
    "                r = c\n",
    "\n",
    "        return r"
   ]
  },
  {
   "cell_type": "markdown",
   "id": "e1b8f3ee-98f8-4952-ae5c-0d5e48f0aed3",
   "metadata": {},
   "source": [
    "Avoids redundency by deleting elements from the set as it checks to see how far the chain goes back."
   ]
  },
  {
   "cell_type": "code",
   "execution_count": 7,
   "id": "0a75f8be-eee3-49ce-9967-18652f90166b",
   "metadata": {},
   "outputs": [],
   "source": [
    "class Solution:\n",
    "    def longestConsecutive(self, nums: List[int]) -> int:\n",
    "        if len(nums) < 2:\n",
    "            return len(nums)\n",
    "\n",
    "        s = set(nums)\n",
    "        c, r = 0, 0\n",
    "\n",
    "        for n in s:\n",
    "            if n+1 in s:\n",
    "                continue\n",
    "\n",
    "            while n - c in s:\n",
    "                c += 1\n",
    "\n",
    "            if r < c:\n",
    "                r = c\n",
    "\n",
    "        return r"
   ]
  },
  {
   "cell_type": "markdown",
   "id": "3fdd18d5-564d-4640-a853-3fb7111e097c",
   "metadata": {},
   "source": [
    "Simplified solution. Simply search for an element within the set that is the end of a sequence and iterate backwards."
   ]
  },
  {
   "cell_type": "markdown",
   "id": "4a833389-10be-445f-a294-48b88aeb4318",
   "metadata": {},
   "source": [
    "#### Testing:"
   ]
  },
  {
   "cell_type": "code",
   "execution_count": 8,
   "id": "7a62363a-3933-471b-97c2-770ebcabc3aa",
   "metadata": {},
   "outputs": [
    {
     "name": "stdout",
     "output_type": "stream",
     "text": [
      "4\n",
      "9\n",
      "3\n"
     ]
    }
   ],
   "source": [
    "params = [\n",
    "    [100,4,200,1,3,2],\n",
    "    [0,3,7,2,5,8,4,6,0,1],\n",
    "    [1,0,1,2]\n",
    "]\n",
    "\n",
    "s = Solution()\n",
    "\n",
    "for i in range(len(params)):\n",
    "    print(s.longestConsecutive(params[i]))"
   ]
  },
  {
   "cell_type": "markdown",
   "id": "52c5c4f2-6ecb-40eb-badd-2af9f5071a86",
   "metadata": {},
   "source": [
    "#### Notes:"
   ]
  },
  {
   "cell_type": "markdown",
   "id": "9d5b8b27-d9a2-4413-9c0f-61a32bf0d87a",
   "metadata": {},
   "source": [
    "- Example\n",
    "- Example Two"
   ]
  },
  {
   "cell_type": "markdown",
   "id": "5e9b32d0-4873-4f8a-a503-5a95aecad3cc",
   "metadata": {},
   "source": [
    "### Helpful Resources:"
   ]
  },
  {
   "cell_type": "markdown",
   "id": "d2035565-e17d-42b1-bb43-68674223cf11",
   "metadata": {},
   "source": []
  }
 ],
 "metadata": {
  "kernelspec": {
   "display_name": "Python 3 (ipykernel)",
   "language": "python",
   "name": "python3"
  },
  "language_info": {
   "codemirror_mode": {
    "name": "ipython",
    "version": 3
   },
   "file_extension": ".py",
   "mimetype": "text/x-python",
   "name": "python",
   "nbconvert_exporter": "python",
   "pygments_lexer": "ipython3",
   "version": "3.12.2"
  }
 },
 "nbformat": 4,
 "nbformat_minor": 5
}
