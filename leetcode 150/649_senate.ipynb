{
 "cells": [
  {
   "cell_type": "markdown",
   "id": "3df51a72-bbec-48ed-b3e5-2479ac73bc5e",
   "metadata": {},
   "source": [
    "### The Problem:"
   ]
  },
  {
   "cell_type": "markdown",
   "id": "0143ac4f-2aad-450c-9b0a-05e8756889b8",
   "metadata": {},
   "source": [
    "The problem can be found [**here**](putLinkHere)."
   ]
  },
  {
   "cell_type": "markdown",
   "id": "8dcb4eb0-224a-403b-9f0e-43473431a911",
   "metadata": {},
   "source": [
    "### My Code:"
   ]
  },
  {
   "cell_type": "markdown",
   "id": "46b0def3-fe00-43ef-a5d0-716184a45b7c",
   "metadata": {},
   "source": [
    "#### Initial Solution"
   ]
  },
  {
   "cell_type": "code",
   "execution_count": 30,
   "id": "250b14fe-447a-4f2a-8668-3c5a48878e9a",
   "metadata": {},
   "outputs": [],
   "source": [
    "class Solution:\n",
    "    def predictPartyVictory(self, senate: str) -> str:\n",
    "        answer = (\"Radiant\", \"Dire\")\n",
    "        if len(senate) == 1:\n",
    "            return answer[senate[0] == \"D\"]\n",
    "\n",
    "        queue = list(senate)\n",
    "\n",
    "        r, d = queue.count(\"R\"), queue.count(\"D\")\n",
    "        rv, dv = 0, 0\n",
    "\n",
    "        while r and d:\n",
    "            current = queue.pop(0)\n",
    "\n",
    "            if current == \"R\":\n",
    "                if dv:\n",
    "                    dv -= 1\n",
    "                    r -= 1\n",
    "                else:\n",
    "                    rv += 1\n",
    "                    queue.append(current)\n",
    "            else:\n",
    "                if rv:\n",
    "                    rv -= 1\n",
    "                    d -= 1\n",
    "                else:\n",
    "                    dv += 1\n",
    "                    queue.append(current)\n",
    "\n",
    "        return answer[d != 0]"
   ]
  },
  {
   "cell_type": "markdown",
   "id": "efda623e-afe4-40a8-bab6-458d28ebdc7d",
   "metadata": {},
   "source": [
    "Initial solution tracks the count of members of each part plus if they can remove their enemies. Uses a standard Python list as a queue to keep track of the order in which 'rights' are used.\n",
    "\n",
    "Most research efficent but SLOW."
   ]
  },
  {
   "cell_type": "markdown",
   "id": "5a6ed995-8605-4243-b7c1-5575cedce5b5",
   "metadata": {},
   "source": [
    "##### Improved Solution"
   ]
  },
  {
   "cell_type": "code",
   "execution_count": 38,
   "id": "a12050c5-1e74-4d24-ad8e-c1b3b676f46c",
   "metadata": {},
   "outputs": [],
   "source": [
    "class Solution:\n",
    "    def predictPartyVictory(self, senate: str) -> str:\n",
    "        answer = (\"Radiant\", \"Dire\")\n",
    "        if len(senate) == 1:\n",
    "            return answer[senate[0] == \"D\"]\n",
    "\n",
    "        queue = list()\n",
    "\n",
    "        i_r, i_d = 0, 0\n",
    "        t_r, t_d = 0, 0\n",
    "\n",
    "        for i in range(len(senate)):\n",
    "            if senate[i] == 'R':\n",
    "                if i_r:\n",
    "                    i_r -= 1\n",
    "                else:\n",
    "                    queue.append(senate[i])\n",
    "                    t_r += 1\n",
    "                    i_d += 1\n",
    "            else:\n",
    "                if i_d:\n",
    "                    i_d -= 1\n",
    "                else:\n",
    "                    queue.append(senate[i])\n",
    "                    t_d += 1\n",
    "                    i_r += 1\n",
    "\n",
    "        while queue and t_d and t_r:\n",
    "            if queue[0] == 'R':\n",
    "                if i_r:\n",
    "                    i_r -= 1\n",
    "                    t_r -= 1\n",
    "                else:\n",
    "                    i_d += 1\n",
    "                    queue.append(queue[0])\n",
    "            else:\n",
    "                if i_d:\n",
    "                    i_d -= 1\n",
    "                    t_d -= 1\n",
    "                else:\n",
    "                    i_r += 1\n",
    "                    queue.append(queue[0])\n",
    "            queue.pop(0)\n",
    "\n",
    "        return answer[t_d != 0]"
   ]
  },
  {
   "cell_type": "markdown",
   "id": "b8d023ed-7c11-46d9-8755-6e550c307cb6",
   "metadata": {},
   "source": [
    "Balanced algorithm but more difficult to read at a glance"
   ]
  },
  {
   "cell_type": "code",
   "execution_count": 46,
   "id": "f848efe6-f2de-412c-b1f3-82cbfcd9619b",
   "metadata": {},
   "outputs": [],
   "source": [
    "from queue import deque\n",
    "\n",
    "class Solution:\n",
    "    def predictPartyVictory(self, senate: str) -> str:\n",
    "        answer = (\"Radiant\", \"Dire\")\n",
    "        if len(senate) == 1:\n",
    "            return answer[senate[0] == \"D\"]\n",
    "\n",
    "        radiant = deque()\n",
    "        dire = deque()\n",
    "\n",
    "        for i, v in enumerate(senate):\n",
    "            if v == \"R\":\n",
    "                radiant.append(i)\n",
    "            else:\n",
    "                dire.append(i)\n",
    "\n",
    "        while radiant and dire:\n",
    "            r_i = radiant.popleft()\n",
    "            d_i = dire.popleft()\n",
    "\n",
    "            if r_i < d_i:\n",
    "                radiant.append(r_i + len(senate))\n",
    "            else:\n",
    "                dire.append(d_i + len(senate))\n",
    "\n",
    "        return answer[len(radiant) == 0]"
   ]
  },
  {
   "cell_type": "markdown",
   "id": "80fc3277-5b38-4cf0-a57e-8b85c49cc8fe",
   "metadata": {},
   "source": [
    "Fast but uses more memory and deque data structure"
   ]
  },
  {
   "cell_type": "markdown",
   "id": "4a833389-10be-445f-a294-48b88aeb4318",
   "metadata": {},
   "source": [
    "#### Testing:"
   ]
  },
  {
   "cell_type": "code",
   "execution_count": 47,
   "id": "7a62363a-3933-471b-97c2-770ebcabc3aa",
   "metadata": {},
   "outputs": [
    {
     "name": "stdout",
     "output_type": "stream",
     "text": [
      "Radiant\n",
      "Radiant\n",
      "Dire\n",
      "Radiant\n",
      "Dire\n",
      "Dire\n",
      "Radiant\n"
     ]
    }
   ],
   "source": [
    "params = [\n",
    "    \"RRR\",\n",
    "    \"R\",\n",
    "    \"D\",\n",
    "    \"RD\",\n",
    "    \"RDD\",\n",
    "    \"DDRRR\",\n",
    "    \"RDDRDRRD\"\n",
    "]\n",
    "\n",
    "s = Solution()\n",
    "\n",
    "for i in range(len(params)):\n",
    "    print(s.predictPartyVictory(params[i]))"
   ]
  },
  {
   "cell_type": "markdown",
   "id": "52c5c4f2-6ecb-40eb-badd-2af9f5071a86",
   "metadata": {},
   "source": [
    "#### Notes:"
   ]
  },
  {
   "cell_type": "markdown",
   "id": "9d5b8b27-d9a2-4413-9c0f-61a32bf0d87a",
   "metadata": {},
   "source": [
    "- Example\n",
    "- Example Two"
   ]
  },
  {
   "cell_type": "markdown",
   "id": "5e9b32d0-4873-4f8a-a503-5a95aecad3cc",
   "metadata": {},
   "source": [
    "### Helpful Resources:"
   ]
  },
  {
   "cell_type": "markdown",
   "id": "d2035565-e17d-42b1-bb43-68674223cf11",
   "metadata": {},
   "source": []
  }
 ],
 "metadata": {
  "kernelspec": {
   "display_name": "Python 3 (ipykernel)",
   "language": "python",
   "name": "python3"
  },
  "language_info": {
   "codemirror_mode": {
    "name": "ipython",
    "version": 3
   },
   "file_extension": ".py",
   "mimetype": "text/x-python",
   "name": "python",
   "nbconvert_exporter": "python",
   "pygments_lexer": "ipython3",
   "version": "3.12.2"
  }
 },
 "nbformat": 4,
 "nbformat_minor": 5
}
