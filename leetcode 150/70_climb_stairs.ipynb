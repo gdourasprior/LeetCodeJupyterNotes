{
 "cells": [
  {
   "cell_type": "markdown",
   "id": "3df51a72-bbec-48ed-b3e5-2479ac73bc5e",
   "metadata": {},
   "source": [
    "### The Problem:"
   ]
  },
  {
   "cell_type": "markdown",
   "id": "0143ac4f-2aad-450c-9b0a-05e8756889b8",
   "metadata": {},
   "source": [
    "The problem can be found [**here**](https://leetcode.com/problems/climbing-stairs/description/?envType=study-plan-v2&envId=top-interview-150)."
   ]
  },
  {
   "cell_type": "markdown",
   "id": "8dcb4eb0-224a-403b-9f0e-43473431a911",
   "metadata": {},
   "source": [
    "### My Code:"
   ]
  },
  {
   "cell_type": "markdown",
   "id": "46b0def3-fe00-43ef-a5d0-716184a45b7c",
   "metadata": {},
   "source": [
    "#### Initial Solution"
   ]
  },
  {
   "cell_type": "code",
   "execution_count": 13,
   "id": "250b14fe-447a-4f2a-8668-3c5a48878e9a",
   "metadata": {},
   "outputs": [],
   "source": [
    "class Solution:\n",
    "    def helper(self, n: int, dp: list) -> list:\n",
    "        if dp[n]:\n",
    "            return dp[n]\n",
    "\n",
    "        one = n - 1\n",
    "        two = n - 2\n",
    "\n",
    "        if one >= 0 and dp[one] == None:\n",
    "            dp = self.helper(one, dp)\n",
    "\n",
    "        if two >= 0 and dp[two] == None:\n",
    "            dp = self.helper(two, dp)\n",
    "\n",
    "        dp[n] = dp[one] + dp[two]\n",
    "\n",
    "        return dp\n",
    "\n",
    "\n",
    "    def climbStairs(self, n: int) -> int:\n",
    "        if n == 1 or n == 2:\n",
    "            return n\n",
    "\n",
    "        dp = [None] * (n)\n",
    "        dp[0], dp[1] = 1, 2\n",
    "\n",
    "        k = n - 1\n",
    "\n",
    "        one = k - 1\n",
    "        two = k - 2\n",
    "\n",
    "        if one >= 0 and dp[one] == None:\n",
    "            dp = self.helper(one, dp)\n",
    "\n",
    "        if two >= 0 and dp[two] == None:\n",
    "            dp = self.helper(two, dp)\n",
    "\n",
    "        return dp[one] + dp[two]"
   ]
  },
  {
   "cell_type": "markdown",
   "id": "f0b708c8-f4f8-4b7f-866b-cff2eb38c2ef",
   "metadata": {},
   "source": [
    "This solution is recursive, and stores the solution to other solutions in a list. The initial 1 and second levels are pre-'installed' into the list. It goes down to the lowest levels and then builds up the value as the various programs return."
   ]
  },
  {
   "cell_type": "markdown",
   "id": "5a6ed995-8605-4243-b7c1-5575cedce5b5",
   "metadata": {},
   "source": [
    "##### Improved Solution"
   ]
  },
  {
   "cell_type": "code",
   "execution_count": 2,
   "id": "a12050c5-1e74-4d24-ad8e-c1b3b676f46c",
   "metadata": {},
   "outputs": [],
   "source": [
    "class Solution:\n",
    "    \n",
    "    def example(self, param: int = 0) -> str:\n",
    "        \"\"\"An Example function.\n",
    "    \n",
    "        :param param: An int, it does nothing!\n",
    "        :return: Returns the String \"Hello World!\"\n",
    "        \"\"\"\n",
    "        \n",
    "        return \"Hello World!\"\n",
    "\n",
    "\n",
    "# -- Add Code Here\n"
   ]
  },
  {
   "cell_type": "markdown",
   "id": "4a833389-10be-445f-a294-48b88aeb4318",
   "metadata": {},
   "source": [
    "#### Testing:"
   ]
  },
  {
   "cell_type": "code",
   "execution_count": 14,
   "id": "7a62363a-3933-471b-97c2-770ebcabc3aa",
   "metadata": {},
   "outputs": [
    {
     "name": "stdout",
     "output_type": "stream",
     "text": [
      "1\n",
      "2\n",
      "3\n",
      "5\n",
      "8\n",
      "1836311903\n"
     ]
    }
   ],
   "source": [
    "params = [\n",
    "    1,\n",
    "    2,\n",
    "    3,\n",
    "    4,\n",
    "    5,\n",
    "    45\n",
    "]\n",
    "\n",
    "s = Solution()\n",
    "\n",
    "for i in range(len(params)):\n",
    "    print(s.climbStairs(params[i]))"
   ]
  },
  {
   "cell_type": "markdown",
   "id": "52c5c4f2-6ecb-40eb-badd-2af9f5071a86",
   "metadata": {},
   "source": [
    "#### Notes:"
   ]
  },
  {
   "cell_type": "markdown",
   "id": "9d5b8b27-d9a2-4413-9c0f-61a32bf0d87a",
   "metadata": {},
   "source": [
    "- Example\n",
    "- Example Two"
   ]
  },
  {
   "cell_type": "markdown",
   "id": "5e9b32d0-4873-4f8a-a503-5a95aecad3cc",
   "metadata": {},
   "source": [
    "### Helpful Resources:"
   ]
  },
  {
   "cell_type": "markdown",
   "id": "d2035565-e17d-42b1-bb43-68674223cf11",
   "metadata": {},
   "source": []
  }
 ],
 "metadata": {
  "kernelspec": {
   "display_name": "Python 3 (ipykernel)",
   "language": "python",
   "name": "python3"
  },
  "language_info": {
   "codemirror_mode": {
    "name": "ipython",
    "version": 3
   },
   "file_extension": ".py",
   "mimetype": "text/x-python",
   "name": "python",
   "nbconvert_exporter": "python",
   "pygments_lexer": "ipython3",
   "version": "3.12.2"
  }
 },
 "nbformat": 4,
 "nbformat_minor": 5
}
