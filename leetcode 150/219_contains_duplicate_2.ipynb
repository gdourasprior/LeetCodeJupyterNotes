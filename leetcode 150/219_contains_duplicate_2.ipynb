{
 "cells": [
  {
   "cell_type": "markdown",
   "id": "3df51a72-bbec-48ed-b3e5-2479ac73bc5e",
   "metadata": {},
   "source": [
    "### The Problem:"
   ]
  },
  {
   "cell_type": "markdown",
   "id": "0143ac4f-2aad-450c-9b0a-05e8756889b8",
   "metadata": {},
   "source": [
    "The problem can be found [**here**](https://leetcode.com/problems/contains-duplicate-ii/?envType=study-plan-v2&envId=top-interview-150)."
   ]
  },
  {
   "cell_type": "markdown",
   "id": "8dcb4eb0-224a-403b-9f0e-43473431a911",
   "metadata": {},
   "source": [
    "### My Code:"
   ]
  },
  {
   "cell_type": "markdown",
   "id": "46b0def3-fe00-43ef-a5d0-716184a45b7c",
   "metadata": {},
   "source": [
    "#### Initial Solution"
   ]
  },
  {
   "cell_type": "code",
   "execution_count": 18,
   "id": "250b14fe-447a-4f2a-8668-3c5a48878e9a",
   "metadata": {},
   "outputs": [],
   "source": [
    "from typing import List\n",
    "\n",
    "class Solution:\n",
    "    def containsNearbyDuplicate(self, nums: List[int], k: int) -> bool:\n",
    "        \"\"\"Determine if the given array contains duplicates.\n",
    "\n",
    "        Constraints:\n",
    "\n",
    "        1 <= nums.length <= 105\n",
    "        -109 <= nums[i] <= 109\n",
    "        0 <= k <= 105\n",
    "\n",
    "        :param nums:\n",
    "        :param k:\n",
    "        :return: True if duplicate found, otherwise False\n",
    "        \"\"\"\n",
    "        s = dict()\n",
    "\n",
    "        for i in range(len(nums)):\n",
    "            if nums[i] in s:\n",
    "                if i - s[nums[i]] <= k:\n",
    "                    return True\n",
    "\n",
    "            s[nums[i]] = i\n",
    "\n",
    "        return False"
   ]
  },
  {
   "cell_type": "markdown",
   "id": "086188e2-c761-47cd-b458-b541f4fede4c",
   "metadata": {},
   "source": [
    "Here, I will attempt to iterate through 'nums', and should I come across a integer that is not in my map, s, I will add as a 'key' and make note of the position by storing it as the 'value'.\n",
    "\n",
    "Should I come across a key already in 's', I will determine if the current integer and the duplicate stored within 's' are duplicates by the standard of this particular problem:\n",
    "\n",
    "$abs(i -j) <= k$\n",
    "\n",
    "if so return 'True', otherwise should nums be fully iterated through then we can say it does not contain any duplicates (that meet the criteria) and return False."
   ]
  },
  {
   "cell_type": "markdown",
   "id": "5a6ed995-8605-4243-b7c1-5575cedce5b5",
   "metadata": {},
   "source": [
    "##### Improved Solution"
   ]
  },
  {
   "cell_type": "code",
   "execution_count": 24,
   "id": "a12050c5-1e74-4d24-ad8e-c1b3b676f46c",
   "metadata": {},
   "outputs": [],
   "source": [
    "from typing import List\n",
    "\n",
    "class Solution:\n",
    "    def containsNearbyDuplicate(self, nums: List[int], k: int) -> bool:\n",
    "        \"\"\"Determine if the given array contains duplicates.\n",
    "\n",
    "        Constraints:\n",
    "\n",
    "        1 <= nums.length <= 105\n",
    "        -109 <= nums[i] <= 109\n",
    "        0 <= k <= 105\n",
    "\n",
    "        :param nums:\n",
    "        :param k:\n",
    "        :return: True if duplicate found, otherwise False\n",
    "        \"\"\"\n",
    "        if len(nums) == len(set(nums)):\n",
    "            return False\n",
    "            \n",
    "        s = set()\n",
    "\n",
    "        for i in range(len(nums)):\n",
    "            if nums[i] in s:\n",
    "                return True\n",
    "\n",
    "            s.add(nums[i])\n",
    "\n",
    "            if len(s) > k:\n",
    "                s.remove(nums[i-k])\n",
    "\n",
    "        return False"
   ]
  },
  {
   "cell_type": "markdown",
   "id": "bb74f94d-9d29-4e56-b5dd-975d5e428e99",
   "metadata": {},
   "source": [
    "To improve upon the original algorithm we tackle the growth of the hashmap 's'. Realistically, we only need to track the last 'k' number of items in nums. Why? Because a requirement is that the differences between i and j is equal to or less than k. Ergo, it is pointless to store in memory any value outside of that window.\n",
    "\n",
    "Here, we prune the hashmap (which can be simplified down to a set because we simply need to know if nums[i] has been found within the window defined by k) when the size of the hashmap grows to be greater than k. We remove the element added to the hashmap last."
   ]
  },
  {
   "cell_type": "markdown",
   "id": "dcde2bf1-3b6c-4a10-8752-d6516861a65c",
   "metadata": {},
   "source": [
    "#### Another Solution\n",
    "\n",
    "Here we don't use a pointer, but a sliding window."
   ]
  },
  {
   "cell_type": "code",
   "execution_count": 22,
   "id": "cdc7aa49-ecbf-415e-936d-35b644623d8c",
   "metadata": {},
   "outputs": [],
   "source": [
    "from typing import List\n",
    "\n",
    "class Solution:\n",
    "    def containsNearbyDuplicate(self, nums: List[int], k: int) -> bool:\n",
    "        \"\"\"Determine if the given array contains duplicates.\n",
    "\n",
    "        Constraints:\n",
    "\n",
    "        1 <= nums.length <= 105\n",
    "        -109 <= nums[i] <= 109\n",
    "        0 <= k <= 105\n",
    "\n",
    "        :param nums:\n",
    "        :param k:\n",
    "        :return: True if duplicate found, otherwise False\n",
    "        \"\"\"\n",
    "        if len(nums) == len(set(nums)):\n",
    "            return False\n",
    "            \n",
    "        l = 1\n",
    "        r = k + 1\n",
    "        i = 0\n",
    "\n",
    "        while l < len(nums):\n",
    "            if nums[i] in nums[l:r]:\n",
    "                return True\n",
    "\n",
    "            l += 1\n",
    "\n",
    "            if r < len(nums):\n",
    "                r += 1\n",
    "\n",
    "            i += 1\n",
    "\n",
    "        return False"
   ]
  },
  {
   "cell_type": "markdown",
   "id": "4a833389-10be-445f-a294-48b88aeb4318",
   "metadata": {},
   "source": [
    "#### Testing:"
   ]
  },
  {
   "cell_type": "code",
   "execution_count": 23,
   "id": "7a62363a-3933-471b-97c2-770ebcabc3aa",
   "metadata": {},
   "outputs": [
    {
     "name": "stdout",
     "output_type": "stream",
     "text": [
      "True\n",
      "True\n",
      "False\n"
     ]
    }
   ],
   "source": [
    "params = [\n",
    "    [[1,2,3,1], 3],\n",
    "    [[1,0,1,1], 1],\n",
    "    [[1,2,3,1,2,3], 2]\n",
    "]\n",
    "\n",
    "s = Solution()\n",
    "\n",
    "for i in range(len(params)):\n",
    "    print(s.containsNearbyDuplicate(params[i][0], params[i][1]))"
   ]
  },
  {
   "cell_type": "markdown",
   "id": "52c5c4f2-6ecb-40eb-badd-2af9f5071a86",
   "metadata": {},
   "source": [
    "#### Notes:"
   ]
  },
  {
   "cell_type": "markdown",
   "id": "9d5b8b27-d9a2-4413-9c0f-61a32bf0d87a",
   "metadata": {},
   "source": [
    "- Example\n",
    "- Example Two"
   ]
  },
  {
   "cell_type": "markdown",
   "id": "5e9b32d0-4873-4f8a-a503-5a95aecad3cc",
   "metadata": {},
   "source": [
    "### Helpful Resources:"
   ]
  },
  {
   "cell_type": "markdown",
   "id": "d2035565-e17d-42b1-bb43-68674223cf11",
   "metadata": {},
   "source": []
  }
 ],
 "metadata": {
  "kernelspec": {
   "display_name": "Python 3 (ipykernel)",
   "language": "python",
   "name": "python3"
  },
  "language_info": {
   "codemirror_mode": {
    "name": "ipython",
    "version": 3
   },
   "file_extension": ".py",
   "mimetype": "text/x-python",
   "name": "python",
   "nbconvert_exporter": "python",
   "pygments_lexer": "ipython3",
   "version": "3.12.2"
  }
 },
 "nbformat": 4,
 "nbformat_minor": 5
}
