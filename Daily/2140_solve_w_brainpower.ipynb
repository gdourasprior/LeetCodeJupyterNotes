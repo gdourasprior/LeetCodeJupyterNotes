{
 "cells": [
  {
   "cell_type": "markdown",
   "id": "3df51a72-bbec-48ed-b3e5-2479ac73bc5e",
   "metadata": {},
   "source": [
    "### The Problem:"
   ]
  },
  {
   "cell_type": "markdown",
   "id": "0143ac4f-2aad-450c-9b0a-05e8756889b8",
   "metadata": {},
   "source": [
    "The problem can be found [**here**](https://leetcode.com/problems/solving-questions-with-brainpower/?envType=daily-question&envId=2025-04-01)."
   ]
  },
  {
   "cell_type": "markdown",
   "id": "8dcb4eb0-224a-403b-9f0e-43473431a911",
   "metadata": {},
   "source": [
    "### My Code:"
   ]
  },
  {
   "cell_type": "markdown",
   "id": "46b0def3-fe00-43ef-a5d0-716184a45b7c",
   "metadata": {},
   "source": [
    "#### Initial Solution"
   ]
  },
  {
   "cell_type": "code",
   "execution_count": 55,
   "id": "250b14fe-447a-4f2a-8668-3c5a48878e9a",
   "metadata": {},
   "outputs": [],
   "source": [
    "class Solution:\n",
    "    def mostPoints(self, questions: list[list[int]]) -> int:\n",
    "        \"\"\"Determine which set of questions will give most points.\n",
    "        Constraints:\n",
    "\n",
    "        1 <= questions.length <= 105\n",
    "        questions[i].length == 2\n",
    "        1 <= pointsi, brainpoweri <= 105\n",
    "        :questions: 2d list of form [i,j],[i,j],...\n",
    "        \"\"\"\n",
    "        n = len(questions)\n",
    "        dp = [None] * n\n",
    "        i = n-2\n",
    "\n",
    "        dp[n-1] = questions[n-1][0]\n",
    "\n",
    "        while i >= 0:\n",
    "            nxt = i + questions[i][1] + 1\n",
    "\n",
    "            dp[i] = questions[i][0]\n",
    "\n",
    "            if i + nxt < n-1:\n",
    "                dp[i] += dp[nxt]\n",
    "\n",
    "            if dp[i+1] > dp[i]:\n",
    "                dp[i] = dp[i+1]\n",
    "\n",
    "            i -= 1\n",
    "\n",
    "        return dp[i]\n"
   ]
  },
  {
   "cell_type": "markdown",
   "id": "5a6ed995-8605-4243-b7c1-5575cedce5b5",
   "metadata": {},
   "source": [
    "##### Improved Solution"
   ]
  },
  {
   "cell_type": "code",
   "execution_count": 51,
   "id": "a12050c5-1e74-4d24-ad8e-c1b3b676f46c",
   "metadata": {},
   "outputs": [],
   "source": [
    "class Solution:\n",
    "    \n",
    "    def mostPoints(self, questions: list[list[int]]) -> int:\n",
    "        \"\"\"Determine which set of questions will give most points.\n",
    "        Constraints:\n",
    "\n",
    "        1 <= questions.length <= 105\n",
    "        questions[i].length == 2\n",
    "        1 <= pointsi, brainpoweri <= 105\n",
    "        :questions: 2d list of form [i,j],[i,j],...\n",
    "        \"\"\"\n",
    "        n = len(questions)\n",
    "        dp = [None] * n\n",
    "\n",
    "        dp[n-1] = questions[n-1][0]\n",
    "\n",
    "        for i in range(n-2, -1, -1):\n",
    "            dp[i] = questions[i][0]\n",
    "            nxt = questions[i][1]\n",
    "            \n",
    "            if i + nxt < n-1:\n",
    "                dp[i] += dp[i+nxt+1]\n",
    "                \n",
    "            if dp[i+1] > dp[i]:\n",
    "                dp[i] = dp[i+1]\n",
    "\n",
    "        return dp[0]"
   ]
  },
  {
   "cell_type": "markdown",
   "id": "4a833389-10be-445f-a294-48b88aeb4318",
   "metadata": {},
   "source": [
    "#### Testing:"
   ]
  },
  {
   "cell_type": "code",
   "execution_count": 56,
   "id": "7a62363a-3933-471b-97c2-770ebcabc3aa",
   "metadata": {},
   "outputs": [
    {
     "name": "stdout",
     "output_type": "stream",
     "text": [
      "65\n",
      "5\n"
     ]
    }
   ],
   "source": [
    "import random as r\n",
    "\n",
    "r.seed('lol')\n",
    "\n",
    "y = [[r.randint(1,5), r.randint(1, 6)] for _ in range(100)]\n",
    "\n",
    "x = [[r.randint(1, 50), r.randint(1,200)] for _ in range(100000)]\n",
    "\n",
    "\n",
    "params = [\n",
    "    [[21,5],[92,3],[74,2],[39,4],[58,2],[5,5],[49,4],[65,3]],\n",
    "    y\n",
    "]\n",
    "\n",
    "s = Solution()\n",
    "\n",
    "for i in range(len(params)):\n",
    "    print(s.mostPoints(params[i]))"
   ]
  },
  {
   "cell_type": "markdown",
   "id": "52c5c4f2-6ecb-40eb-badd-2af9f5071a86",
   "metadata": {},
   "source": [
    "#### Notes:"
   ]
  },
  {
   "cell_type": "markdown",
   "id": "9d5b8b27-d9a2-4413-9c0f-61a32bf0d87a",
   "metadata": {},
   "source": [
    "- Example\n",
    "- Example Two"
   ]
  },
  {
   "cell_type": "markdown",
   "id": "5e9b32d0-4873-4f8a-a503-5a95aecad3cc",
   "metadata": {},
   "source": [
    "### Helpful Resources:"
   ]
  },
  {
   "cell_type": "markdown",
   "id": "d2035565-e17d-42b1-bb43-68674223cf11",
   "metadata": {},
   "source": []
  }
 ],
 "metadata": {
  "kernelspec": {
   "display_name": "Python 3 (ipykernel)",
   "language": "python",
   "name": "python3"
  },
  "language_info": {
   "codemirror_mode": {
    "name": "ipython",
    "version": 3
   },
   "file_extension": ".py",
   "mimetype": "text/x-python",
   "name": "python",
   "nbconvert_exporter": "python",
   "pygments_lexer": "ipython3",
   "version": "3.12.2"
  }
 },
 "nbformat": 4,
 "nbformat_minor": 5
}
