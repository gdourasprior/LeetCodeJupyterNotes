{
 "cells": [
  {
   "cell_type": "markdown",
   "id": "3df51a72-bbec-48ed-b3e5-2479ac73bc5e",
   "metadata": {},
   "source": [
    "### The Problem:"
   ]
  },
  {
   "cell_type": "markdown",
   "id": "0143ac4f-2aad-450c-9b0a-05e8756889b8",
   "metadata": {},
   "source": [
    "The problem can be found [**here**](https://leetcode.com/problems/put-marbles-in-bags/description/?envType=daily-question&envId=2025-03-31)."
   ]
  },
  {
   "cell_type": "markdown",
   "id": "8dcb4eb0-224a-403b-9f0e-43473431a911",
   "metadata": {},
   "source": [
    "### My Code:"
   ]
  },
  {
   "cell_type": "markdown",
   "id": "46b0def3-fe00-43ef-a5d0-716184a45b7c",
   "metadata": {},
   "source": [
    "#### Initial Solution"
   ]
  },
  {
   "cell_type": "code",
   "execution_count": null,
   "id": "250b14fe-447a-4f2a-8668-3c5a48878e9a",
   "metadata": {},
   "outputs": [],
   "source": [
    "class Solution:\n",
    "    def putMarbles(self, weights: list[int], k: int) -> int:\n",
    "        \"\"\"Find the greatest difference between scores.\n",
    "\n",
    "        Constraints:\n",
    "        1 <= k <= weights.length <= 10^5\n",
    "        1 <= weights[i] <= 10^9\n",
    "        :param weights: marble weights, ith weight is weights[i]\n",
    "        :param k: number of bags\n",
    "        \"\"\"\n",
    "        n = len(weights)\n",
    "        if n <= 2 or k < 2 or k == len(weights):\n",
    "            return 0\n",
    "        minp = [x for x in range(k-1)]\n",
    "        maxp = [x for x in range(k-1)]\n",
    "        curr = [x for x in range(1, k)]\n",
    "        r = len(curr)\n",
    "\n",
    "        while r < n-1:\n",
    "            for i in range(len(curr)):\n",
    "                if weights[minp[i]] + weights[minp[i]+1] > weights[curr[i]] + weights[curr[i]+1]:\n",
    "                    minp[i] = curr[i]\n",
    "\n",
    "                if weights[maxp[i]] + weights[maxp[i]+1] < weights[curr[i]] + weights[curr[i]+1]:\n",
    "                    maxp[i] = curr[i]\n",
    "                curr[i] += 1\n",
    "            r += 1\n",
    "\n",
    "        mint, maxt = 0, 0\n",
    "        for i in range(len(curr)):\n",
    "            mint += weights[minp[i]] + weights[minp[i] + 1]\n",
    "            maxt += weights[maxp[i]] + weights[maxp[i] + 1]\n",
    "\n",
    "        return maxt - mint"
   ]
  },
  {
   "cell_type": "markdown",
   "id": "5a6ed995-8605-4243-b7c1-5575cedce5b5",
   "metadata": {},
   "source": [
    "##### Improved Solution"
   ]
  },
  {
   "cell_type": "code",
   "execution_count": 1,
   "id": "a12050c5-1e74-4d24-ad8e-c1b3b676f46c",
   "metadata": {},
   "outputs": [],
   "source": [
    "import heapq\n",
    "class Solution:\n",
    "    def putMarbles(self, weights: list[int], k: int) -> int:\n",
    "        \"\"\"Find the greatest difference between scores.\n",
    "\n",
    "        Constraints:\n",
    "        1 <= k <= weights.length <= 10^5\n",
    "        1 <= weights[i] <= 10^9\n",
    "        :param weights: marble weights, ith weight is weights[i]\n",
    "        :param k: number of bags\n",
    "        \"\"\"\n",
    "        n = len(weights)\n",
    "        if n <= 2 or k < 2 or k == len(weights):\n",
    "            return 0\n",
    "\n",
    "        heap = list()\n",
    "\n",
    "        heapq.heapify(heap)\n",
    "\n",
    "        for i in range(n-1):\n",
    "            heapq.heappush(heap, weights[i] + weights[i + 1])\n",
    "\n",
    "        mx = sum(heapq.nlargest(k-1, heap))\n",
    "        mn = sum(heapq.nsmallest(k-1, heap))\n",
    "\n",
    "        diff = mx - mn\n",
    "\n",
    "        return diff"
   ]
  },
  {
   "cell_type": "markdown",
   "id": "d7291912-6158-4dd1-b8b8-81ce2f6570ce",
   "metadata": {},
   "source": [
    "#### Final"
   ]
  },
  {
   "cell_type": "code",
   "execution_count": 4,
   "id": "7da052c5-0a8e-4a7f-839f-70c014c67434",
   "metadata": {},
   "outputs": [],
   "source": [
    "class Solution:\n",
    "    def putMarbles(self, weights: list[int], k: int) -> int:\n",
    "        \"\"\"Find the greatest difference between scores.\n",
    "\n",
    "        Constraints:\n",
    "        1 <= k <= weights.length <= 10^5\n",
    "        1 <= weights[i] <= 10^9\n",
    "        :param weights: marble weights, ith weight is weights[i]\n",
    "        :param k: number of bags\n",
    "        \"\"\"\n",
    "        if len(weights) <= 2 or len(weights) == k or k == 1:\n",
    "            return 0\n",
    "\n",
    "        ws = [weights[i]+weights[i+1] for i in range(len(weights)-1)]\n",
    "        ws.sort()\n",
    "\n",
    "        return sum(ws[-(k-1):]) - sum(ws[:k-1])\n"
   ]
  },
  {
   "cell_type": "markdown",
   "id": "7e61b56a-17ed-492b-9bc8-9ea4b6a5fa05",
   "metadata": {},
   "source": [
    "#### Testing"
   ]
  },
  {
   "cell_type": "code",
   "execution_count": 5,
   "id": "7a62363a-3933-471b-97c2-770ebcabc3aa",
   "metadata": {},
   "outputs": [
    {
     "name": "stdout",
     "output_type": "stream",
     "text": [
      "4\n",
      "0\n",
      "0\n",
      "3\n",
      "168\n",
      "562\n",
      "16505306712496\n"
     ]
    }
   ],
   "source": [
    "import random\n",
    "x = random.sample(range(1,10**9 + 1), 10**5)\n",
    "\n",
    "params = [\n",
    "    [[1,3,5,1],2],\n",
    "    [[1,3,5,1],1],\n",
    "    [[1000000000,1000000000,1000000000,1000000000],3],\n",
    "    [[1,4,2,5,2],3],\n",
    "    [[24,16,62,27,8,3,70,55,13,34,9,29,10],11],\n",
    "    [[68,65,5,74,12,67,10,55,27,38,69,54,62,50,30,3,1,24,39,65,73,33,43,9,64], 9],\n",
    "    [x, 12345]\n",
    "]\n",
    "\n",
    "s = Solution()\n",
    "\n",
    "for i in range(len(params)):\n",
    "    print(s.putMarbles(params[i][0], params[i][1]))"
   ]
  },
  {
   "cell_type": "markdown",
   "id": "52c5c4f2-6ecb-40eb-badd-2af9f5071a86",
   "metadata": {},
   "source": [
    "#### Notes:"
   ]
  },
  {
   "cell_type": "markdown",
   "id": "9d5b8b27-d9a2-4413-9c0f-61a32bf0d87a",
   "metadata": {},
   "source": [
    "- Example\n",
    "- Example Two"
   ]
  },
  {
   "cell_type": "markdown",
   "id": "5e9b32d0-4873-4f8a-a503-5a95aecad3cc",
   "metadata": {},
   "source": [
    "### Helpful Resources:"
   ]
  },
  {
   "cell_type": "markdown",
   "id": "d2035565-e17d-42b1-bb43-68674223cf11",
   "metadata": {},
   "source": []
  }
 ],
 "metadata": {
  "kernelspec": {
   "display_name": "Python 3 (ipykernel)",
   "language": "python",
   "name": "python3"
  },
  "language_info": {
   "codemirror_mode": {
    "name": "ipython",
    "version": 3
   },
   "file_extension": ".py",
   "mimetype": "text/x-python",
   "name": "python",
   "nbconvert_exporter": "python",
   "pygments_lexer": "ipython3",
   "version": "3.12.2"
  }
 },
 "nbformat": 4,
 "nbformat_minor": 5
}
